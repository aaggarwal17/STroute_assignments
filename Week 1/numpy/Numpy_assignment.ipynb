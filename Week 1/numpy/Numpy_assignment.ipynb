{
 "cells": [
  {
   "cell_type": "markdown",
   "metadata": {},
   "source": [
    "## Make use of the following inbuilt api's\n",
    "1. min\n",
    "2. max\n",
    "3. mean\n",
    "4. argmin\n",
    "5. argmax\n",
    "6. linalg.solve\n",
    "7. flatten\n",
    "8. ravel\n",
    "9. dot Product\n",
    "10. \\* for Matrix (Element wise multiplication)\n",
    "11. arange followed by reshape\n",
    "12. identity / eye\n",
    "13. sum\n",
    "14. diag\n",
    "15. tril / triu\n",
    "\n"
   ]
  },
  {
   "cell_type": "code",
   "execution_count": 3,
   "metadata": {
    "collapsed": true
   },
   "outputs": [],
   "source": [
    "import numpy as np"
   ]
  },
  {
   "cell_type": "code",
   "execution_count": 4,
   "metadata": {
    "collapsed": true
   },
   "outputs": [],
   "source": [
    "b = np.arange(10)**3"
   ]
  },
  {
   "cell_type": "markdown",
   "metadata": {},
   "source": [
    "### Part 1: Min value ###"
   ]
  },
  {
   "cell_type": "code",
   "execution_count": 5,
   "metadata": {
    "collapsed": true
   },
   "outputs": [],
   "source": [
    "min_value = np.min(b)"
   ]
  },
  {
   "cell_type": "markdown",
   "metadata": {
    "deletable": true,
    "editable": true
   },
   "source": [
    "### Part 2: Max value ###"
   ]
  },
  {
   "cell_type": "code",
   "execution_count": 6,
   "metadata": {
    "collapsed": true
   },
   "outputs": [],
   "source": [
    "max_value = np.max(b)"
   ]
  },
  {
   "cell_type": "markdown",
   "metadata": {
    "deletable": true,
    "editable": true
   },
   "source": [
    "### Part 3: Mean value ###"
   ]
  },
  {
   "cell_type": "code",
   "execution_count": 7,
   "metadata": {
    "collapsed": true
   },
   "outputs": [],
   "source": [
    "mean_value = np.mean(b)"
   ]
  },
  {
   "cell_type": "markdown",
   "metadata": {
    "deletable": true,
    "editable": true
   },
   "source": [
    "### Part 4: Minimum argument value ###"
   ]
  },
  {
   "cell_type": "code",
   "execution_count": 8,
   "metadata": {
    "collapsed": true
   },
   "outputs": [],
   "source": [
    "argmin_value = np.argmin(b)"
   ]
  },
  {
   "cell_type": "markdown",
   "metadata": {
    "deletable": true,
    "editable": true
   },
   "source": [
    "### Part 5: Maximum argument value ###"
   ]
  },
  {
   "cell_type": "code",
   "execution_count": 9,
   "metadata": {
    "collapsed": true
   },
   "outputs": [],
   "source": [
    "argmax_value = np.max(b)"
   ]
  },
  {
   "cell_type": "markdown",
   "metadata": {
    "deletable": true,
    "editable": true
   },
   "source": [
    "### Part 6: linalg.solve()  ### "
   ]
  },
  {
   "cell_type": "markdown",
   "metadata": {},
   "source": [
    "Solve a linear matrix equation, or system of linear scalar equations."
   ]
  },
  {
   "cell_type": "code",
   "execution_count": 11,
   "metadata": {
    "collapsed": true
   },
   "outputs": [],
   "source": [
    "f = np.array([[1, 1], [2, 3]])\n",
    "y = np.array([2, 5])"
   ]
  },
  {
   "cell_type": "code",
   "execution_count": 13,
   "metadata": {
    "collapsed": false
   },
   "outputs": [],
   "source": [
    "solved = np.linalg.solve(f, y)"
   ]
  },
  {
   "cell_type": "markdown",
   "metadata": {
    "deletable": true,
    "editable": true
   },
   "source": [
    "### Part 7: Flatten ###"
   ]
  },
  {
   "cell_type": "code",
   "execution_count": 25,
   "metadata": {
    "collapsed": false
   },
   "outputs": [
    {
     "data": {
      "text/plain": [
       "array([ 1,  2,  3,  4,  5,  6,  7,  8,  9, 10, 11, 12, 13, 14, 15, 16])"
      ]
     },
     "execution_count": 25,
     "metadata": {},
     "output_type": "execute_result"
    }
   ],
   "source": [
    "m = np.array([[1,2,3,4], [5,6,7,8], [9,10,11,12], [13,14,15,16]])\n",
    "\n",
    "flat_c = m.flatten(order = 'C')\n",
    "flat_f = m.flatten(order = 'F')\n"
   ]
  },
  {
   "cell_type": "markdown",
   "metadata": {
    "deletable": true,
    "editable": true
   },
   "source": [
    "### Part 8: Ravel###"
   ]
  },
  {
   "cell_type": "code",
   "execution_count": 27,
   "metadata": {
    "collapsed": false
   },
   "outputs": [],
   "source": [
    "ravel_m = m.ravel()"
   ]
  },
  {
   "cell_type": "markdown",
   "metadata": {
    "deletable": true,
    "editable": true
   },
   "source": [
    "### Part 9: Dot Product ###"
   ]
  },
  {
   "cell_type": "code",
   "execution_count": 29,
   "metadata": {
    "collapsed": false
   },
   "outputs": [
    {
     "data": {
      "text/plain": [
       "array([[ 5,  8],\n",
       "       [13, 20]])"
      ]
     },
     "execution_count": 29,
     "metadata": {},
     "output_type": "execute_result"
    }
   ],
   "source": [
    "g = np.array([[1, 2], [3, 4]])\n",
    "h = np.array([[3, 4], [1, 2]])\n",
    "dot_multi = np.dot(g,h)\n"
   ]
  },
  {
   "cell_type": "markdown",
   "metadata": {
    "deletable": true,
    "editable": true
   },
   "source": [
    "### Part 10: Multiplication for matrix ###"
   ]
  },
  {
   "cell_type": "code",
   "execution_count": 32,
   "metadata": {
    "collapsed": false
   },
   "outputs": [],
   "source": [
    "mult_matrix = np.multiply(g, h)"
   ]
  },
  {
   "cell_type": "markdown",
   "metadata": {
    "deletable": true,
    "editable": true
   },
   "source": [
    "### Part 11: Reshape ###"
   ]
  },
  {
   "cell_type": "code",
   "execution_count": 35,
   "metadata": {
    "collapsed": false
   },
   "outputs": [],
   "source": [
    "n_reshape = m.reshape(8, 2)"
   ]
  },
  {
   "cell_type": "markdown",
   "metadata": {
    "deletable": true,
    "editable": true
   },
   "source": [
    "### Part 12: Eye"
   ]
  },
  {
   "cell_type": "code",
   "execution_count": 37,
   "metadata": {
    "collapsed": false
   },
   "outputs": [],
   "source": [
    "u = np.eye(2)"
   ]
  },
  {
   "cell_type": "markdown",
   "metadata": {
    "deletable": true,
    "editable": true
   },
   "source": [
    "### Part 13: Sum ###"
   ]
  },
  {
   "cell_type": "code",
   "execution_count": 44,
   "metadata": {
    "collapsed": false
   },
   "outputs": [
    {
     "data": {
      "text/plain": [
       "array([10, 26, 42, 58])"
      ]
     },
     "execution_count": 44,
     "metadata": {},
     "output_type": "execute_result"
    }
   ],
   "source": [
    "n_sum = m.sum(axis =  1)\n",
    "n_sum"
   ]
  },
  {
   "cell_type": "markdown",
   "metadata": {
    "deletable": true,
    "editable": true
   },
   "source": [
    "### Part 14: Diagonal elements ###"
   ]
  },
  {
   "cell_type": "code",
   "execution_count": 42,
   "metadata": {
    "collapsed": false
   },
   "outputs": [
    {
     "data": {
      "text/plain": [
       "array([ 1,  6, 11, 16])"
      ]
     },
     "execution_count": 42,
     "metadata": {},
     "output_type": "execute_result"
    }
   ],
   "source": [
    "diag_element = m.diagonal()\n",
    "diag_element"
   ]
  },
  {
   "cell_type": "markdown",
   "metadata": {
    "deletable": true,
    "editable": true
   },
   "source": [
    "### Part 15: Triangular ###"
   ]
  },
  {
   "cell_type": "code",
   "execution_count": 47,
   "metadata": {
    "collapsed": false
   },
   "outputs": [],
   "source": [
    "upper_tri = np.tril([[1, 2, 3], [4, 5, 6], [7, 8, 9], [10, 11, 12]])\n",
    "lower_tri = np.triu([[1, 2, 3], [4, 5, 6], [7, 8, 9], [10, 11, 12]])"
   ]
  },
  {
   "cell_type": "markdown",
   "metadata": {
    "deletable": true,
    "editable": true
   },
   "source": [
    "Part 1: Min value"
   ]
  },
  {
   "cell_type": "markdown",
   "metadata": {
    "deletable": true,
    "editable": true
   },
   "source": [
    "## Part - B ##"
   ]
  },
  {
   "cell_type": "markdown",
   "metadata": {
    "deletable": true,
    "editable": true
   },
   "source": [
    "## For the all api's mentioned above implement your own version of it. Except linalg.solve. At minimum each implementation of yours should support 2d matrices. ##"
   ]
  },
  {
   "cell_type": "code",
   "execution_count": 84,
   "metadata": {
    "collapsed": false
   },
   "outputs": [
    {
     "data": {
      "text/plain": [
       "array([[1, 2, 3],\n",
       "       [3, 4, 5],\n",
       "       [4, 5, 6]])"
      ]
     },
     "execution_count": 84,
     "metadata": {},
     "output_type": "execute_result"
    }
   ],
   "source": [
    "a = [[1, 2, 3], [3, 4, 5], [4, 5, 6]]\n",
    "\n",
    "np.array(a)"
   ]
  },
  {
   "cell_type": "markdown",
   "metadata": {
    "deletable": true,
    "editable": true
   },
   "source": [
    "### Part 1: Min value ###"
   ]
  },
  {
   "cell_type": "code",
   "execution_count": 73,
   "metadata": {
    "collapsed": false
   },
   "outputs": [
    {
     "name": "stdout",
     "output_type": "stream",
     "text": [
      "1\n"
     ]
    }
   ],
   "source": [
    "def mini(a):\n",
    "    h = a[0][0]\n",
    "    for i in range(len(a)):\n",
    "        for j in range(len(a[i])):\n",
    "            if (h > a[i][j]):\n",
    "                h = a[i][j]\n",
    "                \n",
    "    return h\n",
    "    \n",
    "print (mini(a))"
   ]
  },
  {
   "cell_type": "markdown",
   "metadata": {
    "deletable": true,
    "editable": true
   },
   "source": [
    "### Part 2: Max value ###"
   ]
  },
  {
   "cell_type": "code",
   "execution_count": 75,
   "metadata": {
    "collapsed": false
   },
   "outputs": [
    {
     "name": "stdout",
     "output_type": "stream",
     "text": [
      "6\n"
     ]
    }
   ],
   "source": [
    "def maxi(a):\n",
    "    h = a[0][0]\n",
    "    for i in range(len(a)):\n",
    "        for j in range(len(a[i])):\n",
    "            if (h < a[i][j]):\n",
    "                h = a[i][j]\n",
    "                \n",
    "    return h\n",
    "    \n",
    "print (maxi(a))"
   ]
  },
  {
   "cell_type": "markdown",
   "metadata": {
    "deletable": true,
    "editable": true
   },
   "source": [
    "### Part 3: Mean value ###"
   ]
  },
  {
   "cell_type": "code",
   "execution_count": 77,
   "metadata": {
    "collapsed": false
   },
   "outputs": [
    {
     "name": "stdout",
     "output_type": "stream",
     "text": [
      "3.6666666666666665\n"
     ]
    }
   ],
   "source": [
    "def meani(a):\n",
    "    summ = 0\n",
    "    for i in range(len(a)):\n",
    "        for j in range(len(a[i])):\n",
    "            summ += a[i][j]\n",
    "            \n",
    "    lenght = len(a)*len(a[0])      \n",
    "                \n",
    "    return summ/lenght\n",
    "    \n",
    "print (meani(a))"
   ]
  },
  {
   "cell_type": "markdown",
   "metadata": {
    "deletable": true,
    "editable": true
   },
   "source": [
    "### Part 4: Minimum argument value ###"
   ]
  },
  {
   "cell_type": "code",
   "execution_count": 79,
   "metadata": {
    "collapsed": false
   },
   "outputs": [
    {
     "name": "stdout",
     "output_type": "stream",
     "text": [
      "0\n"
     ]
    }
   ],
   "source": [
    "def argmini(a):\n",
    "    h = a[0][0]\n",
    "    count = 0\n",
    "    mini_i = 0\n",
    "    for i in range(len(a)):\n",
    "        for j in range(len(a[i])):\n",
    "            count += 1\n",
    "            if (h > a[i][j]):\n",
    "                h = a[i][j]\n",
    "                mini_i = count\n",
    "                \n",
    "    return mini_i\n",
    "    \n",
    "print (argmini(a))"
   ]
  },
  {
   "cell_type": "markdown",
   "metadata": {
    "deletable": true,
    "editable": true
   },
   "source": [
    "### Part 5: Maximum argument value ###"
   ]
  },
  {
   "cell_type": "code",
   "execution_count": 85,
   "metadata": {
    "collapsed": false
   },
   "outputs": [
    {
     "name": "stdout",
     "output_type": "stream",
     "text": [
      "9\n"
     ]
    }
   ],
   "source": [
    "def argmaxi(a):\n",
    "    h = a[0][0]\n",
    "    count = 0\n",
    "    max_i = 0\n",
    "    for i in range(len(a)):\n",
    "        for j in range(len(a[i])):\n",
    "            count += 1\n",
    "            if (h < a[i][j]):\n",
    "                h = a[i][j]\n",
    "                max_i = count\n",
    "                \n",
    "    return max_i\n",
    "    \n",
    "print (argmaxi(a))"
   ]
  },
  {
   "cell_type": "markdown",
   "metadata": {
    "deletable": true,
    "editable": true
   },
   "source": [
    "### Part 6: Flatten ###"
   ]
  },
  {
   "cell_type": "code",
   "execution_count": 87,
   "metadata": {
    "collapsed": false
   },
   "outputs": [
    {
     "name": "stdout",
     "output_type": "stream",
     "text": [
      "[1, 3, 4, 2, 4, 5, 3, 5, 6]\n"
     ]
    }
   ],
   "source": [
    "def aflat(a):\n",
    "    h = []\n",
    "    for i in range(len(a)):\n",
    "        for j in range(len(a[i])):\n",
    "            h.append(a[j][i])\n",
    "            \n",
    "                \n",
    "    return h\n",
    "    \n",
    "print (aflat(a))"
   ]
  },
  {
   "cell_type": "markdown",
   "metadata": {
    "deletable": true,
    "editable": true
   },
   "source": [
    "### Part 7: Ravel###"
   ]
  },
  {
   "cell_type": "code",
   "execution_count": 88,
   "metadata": {
    "collapsed": false
   },
   "outputs": [
    {
     "name": "stdout",
     "output_type": "stream",
     "text": [
      "[1, 2, 3, 3, 4, 5, 4, 5, 6]\n"
     ]
    }
   ],
   "source": [
    "def arav(a):\n",
    "    h = []\n",
    "    for i in range(len(a)):\n",
    "        for j in range(len(a[i])):\n",
    "            h.append(a[i][j])\n",
    "            \n",
    "                \n",
    "    return h\n",
    "    \n",
    "print (arav(a))"
   ]
  },
  {
   "cell_type": "markdown",
   "metadata": {
    "deletable": true,
    "editable": true
   },
   "source": [
    "### Part 8: Dot Product ###"
   ]
  },
  {
   "cell_type": "code",
   "execution_count": 96,
   "metadata": {
    "collapsed": false
   },
   "outputs": [
    {
     "name": "stdout",
     "output_type": "stream",
     "text": [
      "[[20, 26, 32], [38, 50, 62], [47, 62, 77]]\n"
     ]
    }
   ],
   "source": [
    "b = [[2, 3, 4], [3, 4, 5], [4, 5, 6]]\n",
    "\n",
    "def dotpro(a,b):\n",
    "    m1 = len(a)\n",
    "    m2 = len(a[1])\n",
    "    n1 = len(b)\n",
    "    n2 = len(b[1])\n",
    "    if (m2 == n1):\n",
    "        dot_result = []\n",
    "        for i in list(range(m1)):\n",
    "            w = []\n",
    "            for j in list(range(n2)):\n",
    "                s = 0\n",
    "                for k in list(range(m2)):\n",
    "                    s=s + a[i][k] * b[k][j]\n",
    "                w.append(s)\n",
    "            dot_result.append(w)\n",
    "    return(dot_result)\n",
    "    \n",
    "print (dotpro(a,b))\n",
    "            "
   ]
  },
  {
   "cell_type": "markdown",
   "metadata": {
    "deletable": true,
    "editable": true
   },
   "source": [
    "### Part 9: Multiplication for matrix ###"
   ]
  },
  {
   "cell_type": "code",
   "execution_count": 98,
   "metadata": {
    "collapsed": false
   },
   "outputs": [
    {
     "name": "stdout",
     "output_type": "stream",
     "text": [
      "[[2, 6, 12], [9, 16, 25], [16, 25, 36]]\n"
     ]
    }
   ],
   "source": [
    "def mat_multi(a,b):\n",
    "    m1 = len(a)\n",
    "    m2 = len(a[1])\n",
    "    n1 = len(b)\n",
    "    n2 = len(b[1])\n",
    "    h = []\n",
    "    c = []\n",
    "    if (m1 == n1 & m2 == n2 ):\n",
    "        \n",
    "        for i in range(len(a)):\n",
    "            w = []\n",
    "            for j in range(len(a[i])):\n",
    "                h = a[i][j] * b[i][j]\n",
    "                w.append(h)\n",
    "            c.append(w)\n",
    "                \n",
    "    return c\n",
    "    \n",
    "print (mat_multi(a,b))"
   ]
  },
  {
   "cell_type": "markdown",
   "metadata": {
    "deletable": true,
    "editable": true
   },
   "source": [
    "### Part 10: Reshape ###"
   ]
  },
  {
   "cell_type": "code",
   "execution_count": 102,
   "metadata": {
    "collapsed": false
   },
   "outputs": [
    {
     "data": {
      "text/plain": [
       "[[1, 2, 3], [4, 5, 6]]"
      ]
     },
     "execution_count": 102,
     "metadata": {},
     "output_type": "execute_result"
    }
   ],
   "source": [
    "def reshape_n(x ,n ,m):\n",
    "    y = []\n",
    "    k = 0\n",
    "    for i in list(range(n)):\n",
    "        w = []\n",
    "        for j in list(range(m)):\n",
    "                w.append(x[k])\n",
    "                k = k + 1\n",
    "        y.append(w)        \n",
    "    return(y)\n",
    "reshape_n([1 ,2 ,3 ,4 ,5 ,6],2 ,3)"
   ]
  },
  {
   "cell_type": "markdown",
   "metadata": {
    "deletable": true,
    "editable": true
   },
   "source": [
    "### Part 11: Eye"
   ]
  },
  {
   "cell_type": "code",
   "execution_count": 103,
   "metadata": {
    "collapsed": false
   },
   "outputs": [
    {
     "data": {
      "text/plain": [
       "[[1, 0, 0], [0, 1, 0], [0, 0, 1]]"
      ]
     },
     "execution_count": 103,
     "metadata": {},
     "output_type": "execute_result"
    }
   ],
   "source": [
    "def iden_(n):\n",
    "    c = []\n",
    "    for i in list(range(n)):\n",
    "        b = []\n",
    "        for j in list(range(n)):\n",
    "            if i == j:\n",
    "                b.append(1)\n",
    "            else:\n",
    "                b.append(0)\n",
    "        c.append(b)        \n",
    "    return(c)\n",
    "iden_(3)"
   ]
  },
  {
   "cell_type": "code",
   "execution_count": 105,
   "metadata": {
    "collapsed": false
   },
   "outputs": [
    {
     "data": {
      "text/plain": [
       "[[1, 0, 0], [0, 1, 0], [0, 0, 1]]"
      ]
     },
     "execution_count": 105,
     "metadata": {},
     "output_type": "execute_result"
    }
   ],
   "source": [
    "def eye_n(r ,c):\n",
    "    m = []\n",
    "    for i in list(range(r)):\n",
    "        w = []\n",
    "        for j in list(range(c)):\n",
    "            if i == j:\n",
    "                w.append(1)\n",
    "            else:\n",
    "                w.append(0)\n",
    "        m.append(w)        \n",
    "    return(m)\n",
    "eye_n(3 ,3)"
   ]
  },
  {
   "cell_type": "markdown",
   "metadata": {
    "deletable": true,
    "editable": true
   },
   "source": [
    "### Part 12: Sum ###"
   ]
  },
  {
   "cell_type": "code",
   "execution_count": 106,
   "metadata": {
    "collapsed": false
   },
   "outputs": [
    {
     "data": {
      "text/plain": [
       "33"
      ]
     },
     "execution_count": 106,
     "metadata": {},
     "output_type": "execute_result"
    }
   ],
   "source": [
    "def sum_(a):\n",
    "    c = 0\n",
    "    for i in list(range(len(a))):\n",
    "        for j in list(range(len(a[0]))):\n",
    "            c = c + a[i][j]\n",
    "    return(c)\n",
    "sum_(a)"
   ]
  },
  {
   "cell_type": "markdown",
   "metadata": {
    "deletable": true,
    "editable": true
   },
   "source": [
    "### Part 13: Diagonal elements ###"
   ]
  },
  {
   "cell_type": "code",
   "execution_count": 107,
   "metadata": {
    "collapsed": false
   },
   "outputs": [
    {
     "data": {
      "text/plain": [
       "[1, 4, 6]"
      ]
     },
     "execution_count": 107,
     "metadata": {},
     "output_type": "execute_result"
    }
   ],
   "source": [
    "def diag_(a):\n",
    "    c = []\n",
    "    for i in list(range(len(a))):\n",
    "        for j in list(range(len(a[0]))):\n",
    "            if i == j:\n",
    "                c.append(a[i][j])\n",
    "    return(c)\n",
    "diag_(a)"
   ]
  },
  {
   "cell_type": "markdown",
   "metadata": {
    "deletable": true,
    "editable": true
   },
   "source": [
    "### Part 14: Triangular ###"
   ]
  },
  {
   "cell_type": "code",
   "execution_count": 108,
   "metadata": {
    "collapsed": false
   },
   "outputs": [
    {
     "data": {
      "text/plain": [
       "[[1, 0, 0], [3, 4, 0], [4, 5, 6]]"
      ]
     },
     "execution_count": 108,
     "metadata": {},
     "output_type": "execute_result"
    }
   ],
   "source": [
    "def tri_lower(a):\n",
    "    c = []\n",
    "    for i in list(range(len(a))):\n",
    "        w = []\n",
    "        for j in list(range(len(a[0]))):\n",
    "            if i >= j:\n",
    "                w.append(a[i][j])\n",
    "            else:\n",
    "                w.append(0)\n",
    "        c.append(w)        \n",
    "    return(c)\n",
    "tri_lower(a)"
   ]
  },
  {
   "cell_type": "code",
   "execution_count": 109,
   "metadata": {
    "collapsed": false
   },
   "outputs": [
    {
     "data": {
      "text/plain": [
       "[[1, 2, 3], [0, 4, 5], [0, 0, 6]]"
      ]
     },
     "execution_count": 109,
     "metadata": {},
     "output_type": "execute_result"
    }
   ],
   "source": [
    "def tri_upper(a):\n",
    "    c = []\n",
    "    for i in list(range(len(a))):\n",
    "        w = []\n",
    "        for j in list(range(len(a[0]))):\n",
    "            if i <= j:\n",
    "                w.append(a[i][j])\n",
    "            else:\n",
    "                w.append(0)\n",
    "        c.append(w)        \n",
    "    return(c)\n",
    "tri_upper(a)"
   ]
  }
 ],
 "metadata": {
  "kernelspec": {
   "display_name": "Python 3",
   "language": "python",
   "name": "python3"
  },
  "language_info": {
   "codemirror_mode": {
    "name": "ipython",
    "version": 3
   },
   "file_extension": ".py",
   "mimetype": "text/x-python",
   "name": "python",
   "nbconvert_exporter": "python",
   "pygments_lexer": "ipython3",
   "version": "3.5.2"
  }
 },
 "nbformat": 4,
 "nbformat_minor": 2
}
