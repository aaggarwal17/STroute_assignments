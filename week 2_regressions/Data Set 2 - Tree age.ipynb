{
 "cells": [
  {
   "cell_type": "markdown",
   "metadata": {
    "deletable": true,
    "editable": true
   },
   "source": [
    "# Data Set 2: Tree Age predicton #"
   ]
  },
  {
   "cell_type": "markdown",
   "metadata": {
    "deletable": true,
    "editable": true
   },
   "source": [
    "### Data set :  Tree Age Data\n",
    "\n",
    "#### Description:#####\n",
    " \n",
    "\n",
    "Maple is the most commonly used wood for making Violin.The sound quality depends upon the age of the wood used. A group of Violin makers collected sample of Maple trees and tried to predict the age of the wood using ‘Radio carbon dating’ process. Carbon 14 isotop was used in the carbon dating process.\n",
    "\n",
    "Regression Problem: Predict the age of the wood\n",
    "\n",
    "Predict the age of wood sample using the given measures.\n",
    "\n",
    "Classification problem: Classify Maple tree as ‘Good’ quality or ‘Bad’ quality\n",
    "\n",
    "We have to classify Maple tree as “Good”\" quality wood or “Bad” quality wood for making a Violin. If the age of the tree is greater than 250 years, then it is considered as ‘Good’ quality.\n",
    "\n",
    "\n",
    "#### Splitting the data into Training and Testing Sets:\n",
    "\n",
    "Taken Aspect:\n",
    "- 80% Training Data\n",
    "\n",
    "- 20% Test Data\n",
    "\n",
    "\n",
    "."
   ]
  },
  {
   "cell_type": "markdown",
   "metadata": {
    "deletable": true,
    "editable": true
   },
   "source": [
    "#### Necessary import modules ####"
   ]
  },
  {
   "cell_type": "code",
   "execution_count": 1,
   "metadata": {
    "collapsed": false,
    "deletable": true,
    "editable": true
   },
   "outputs": [
    {
     "data": {
      "text/html": [
       "<script>requirejs.config({paths: { 'plotly': ['https://cdn.plot.ly/plotly-latest.min']},});if(!window.Plotly) {{require(['plotly'],function(plotly) {window.Plotly=plotly;});}}</script>"
      ],
      "text/vnd.plotly.v1+html": [
       "<script>requirejs.config({paths: { 'plotly': ['https://cdn.plot.ly/plotly-latest.min']},});if(!window.Plotly) {{require(['plotly'],function(plotly) {window.Plotly=plotly;});}}</script>"
      ]
     },
     "metadata": {},
     "output_type": "display_data"
    }
   ],
   "source": [
    "%matplotlib inline\n",
    "import pandas as pd\n",
    "import numpy as np\n",
    "import matplotlib.pyplot as plt\n",
    "import seaborn as sns\n",
    "from sklearn import linear_model\n",
    "import statsmodels.formula.api as sm\n",
    "import math\n",
    "from pandas.stats.api import ols\n",
    "from sklearn.preprocessing import scale\n",
    "from sklearn.metrics import mean_squared_error\n",
    "import sklearn.model_selection as m_sel\n",
    "import plotly.offline as plot\n",
    "import plotly.graph_objs as go\n",
    "from sklearn import preprocessing\n",
    "from sklearn.utils import shuffle\n",
    "import statsmodels.stats.diagnostic as sms\n",
    "plot.offline.init_notebook_mode(connected = True)"
   ]
  },
  {
   "cell_type": "markdown",
   "metadata": {
    "deletable": true,
    "editable": true
   },
   "source": [
    "#### Reading the csv file ####"
   ]
  },
  {
   "cell_type": "code",
   "execution_count": 2,
   "metadata": {
    "collapsed": false,
    "deletable": true,
    "editable": true
   },
   "outputs": [],
   "source": [
    "regressions = pd.read_csv(\"Ex02_TreeData_Regreesion.csv\")"
   ]
  },
  {
   "cell_type": "markdown",
   "metadata": {
    "deletable": true,
    "editable": true
   },
   "source": [
    "## Correlation matrix ##"
   ]
  },
  {
   "cell_type": "code",
   "execution_count": 4,
   "metadata": {
    "collapsed": false,
    "deletable": true,
    "editable": true
   },
   "outputs": [
    {
     "data": {
      "text/html": [
       "<div>\n",
       "<table border=\"1\" class=\"dataframe\">\n",
       "  <thead>\n",
       "    <tr style=\"text-align: right;\">\n",
       "      <th></th>\n",
       "      <th>N0</th>\n",
       "      <th>Nt</th>\n",
       "      <th>pH</th>\n",
       "      <th>PetalCount</th>\n",
       "      <th>Age</th>\n",
       "    </tr>\n",
       "  </thead>\n",
       "  <tbody>\n",
       "    <tr>\n",
       "      <th>N0</th>\n",
       "      <td>1.000000</td>\n",
       "      <td>0.080825</td>\n",
       "      <td>0.053488</td>\n",
       "      <td>0.127779</td>\n",
       "      <td>-0.058794</td>\n",
       "    </tr>\n",
       "    <tr>\n",
       "      <th>Nt</th>\n",
       "      <td>0.080825</td>\n",
       "      <td>1.000000</td>\n",
       "      <td>0.003821</td>\n",
       "      <td>-0.003614</td>\n",
       "      <td>-0.980478</td>\n",
       "    </tr>\n",
       "    <tr>\n",
       "      <th>pH</th>\n",
       "      <td>0.053488</td>\n",
       "      <td>0.003821</td>\n",
       "      <td>1.000000</td>\n",
       "      <td>0.099505</td>\n",
       "      <td>0.007455</td>\n",
       "    </tr>\n",
       "    <tr>\n",
       "      <th>PetalCount</th>\n",
       "      <td>0.127779</td>\n",
       "      <td>-0.003614</td>\n",
       "      <td>0.099505</td>\n",
       "      <td>1.000000</td>\n",
       "      <td>0.053744</td>\n",
       "    </tr>\n",
       "    <tr>\n",
       "      <th>Age</th>\n",
       "      <td>-0.058794</td>\n",
       "      <td>-0.980478</td>\n",
       "      <td>0.007455</td>\n",
       "      <td>0.053744</td>\n",
       "      <td>1.000000</td>\n",
       "    </tr>\n",
       "  </tbody>\n",
       "</table>\n",
       "</div>"
      ],
      "text/plain": [
       "                  N0        Nt        pH  PetalCount       Age\n",
       "N0          1.000000  0.080825  0.053488    0.127779 -0.058794\n",
       "Nt          0.080825  1.000000  0.003821   -0.003614 -0.980478\n",
       "pH          0.053488  0.003821  1.000000    0.099505  0.007455\n",
       "PetalCount  0.127779 -0.003614  0.099505    1.000000  0.053744\n",
       "Age        -0.058794 -0.980478  0.007455    0.053744  1.000000"
      ]
     },
     "execution_count": 4,
     "metadata": {},
     "output_type": "execute_result"
    }
   ],
   "source": [
    "regressions.corr()"
   ]
  },
  {
   "cell_type": "markdown",
   "metadata": {
    "deletable": true,
    "editable": true
   },
   "source": [
    "## Correlation Plot ##"
   ]
  },
  {
   "cell_type": "code",
   "execution_count": 5,
   "metadata": {
    "collapsed": false,
    "deletable": true,
    "editable": true
   },
   "outputs": [
    {
     "data": {
      "image/png": "[encoded data removed]",
      "text/plain": [
       "<matplotlib.figure.Figure at 0x7f43b0fb9080>"
      ]
     },
     "metadata": {},
     "output_type": "display_data"
    }
   ],
   "source": [
    "f, ax = plt.subplots(figsize = (10, 8))\n",
    "corr = regressions.corr()\n",
    "sns.heatmap(corr, \n",
    "            mask = np.zeros_like(corr, dtype = np.bool),\n",
    "            cmap = sns.diverging_palette(220, 10, as_cmap = True),\n",
    "            square = True,\n",
    "            ax = ax)\n",
    "plt.show()"
   ]
  },
  {
   "cell_type": "markdown",
   "metadata": {
    "collapsed": false,
    "deletable": true,
    "editable": true
   },
   "source": [
    "##### Normalizing and Selecting testing and training data  ####"
   ]
  },
  {
   "cell_type": "code",
   "execution_count": 6,
   "metadata": {
    "collapsed": false,
    "deletable": true,
    "editable": true,
    "scrolled": false
   },
   "outputs": [],
   "source": [
    "regressions['Log(Nt)'] = np.log(regressions['Nt'])\n",
    "\n",
    "\n",
    "for i in regressions.columns.tolist():\n",
    "    regressions[i] = np.absolute((regressions[i] - regressions[i].mean()) / (regressions[i].var()))\n",
    "    \n",
    "X_train = regressions.drop('Age', axis = 1).iloc[:-20]\n",
    "Y_train = regressions.drop(['N0', 'Nt', 'pH', 'PetalCount', 'Log(Nt)'], axis = 1).iloc[:80]\n",
    "X_test = regressions.drop('Age', axis = 1).iloc[80:]\n",
    "Y_test = regressions.drop(['N0', 'Nt', 'pH', 'PetalCount', 'Log(Nt)'], axis = 1).iloc[80:]    \n",
    "\n",
    "\n"
   ]
  },
  {
   "cell_type": "markdown",
   "metadata": {
    "deletable": true,
    "editable": true
   },
   "source": [
    "## LINEAR REGRESSION MODEL ##"
   ]
  },
  {
   "cell_type": "code",
   "execution_count": 7,
   "metadata": {
    "collapsed": false,
    "deletable": true,
    "editable": true
   },
   "outputs": [
    {
     "name": "stdout",
     "output_type": "stream",
     "text": [
      "Coefficients :  [[  3.42812978e-05  -5.50763748e-04  -4.46124877e-07   1.65253557e-04\n",
      "    6.47681323e-03]]\n",
      "\n",
      "Intercepts  :  [-0.00068231]\n",
      "\n",
      "Root Mean Square Error :  0.00033909544807483\n"
     ]
    }
   ],
   "source": [
    "regr = linear_model.LinearRegression()\n",
    "\n",
    "#Regression coeffients\n",
    "regr.fit(X_test,Y_test)\n",
    "print ('Coefficients : ', regr.coef_) \n",
    "print ('\\nIntercepts  : ', regr.intercept_)\n",
    "print ('\\nRoot Mean Square Error : ', math.sqrt(np.mean((regr.predict(X_test) - Y_test) ** 2)))"
   ]
  },
  {
   "cell_type": "markdown",
   "metadata": {
    "deletable": true,
    "editable": true
   },
   "source": [
    "## Model 1: Scatter plot ##"
   ]
  },
  {
   "cell_type": "code",
   "execution_count": 8,
   "metadata": {
    "collapsed": false,
    "deletable": true,
    "editable": true,
    "scrolled": true
   },
   "outputs": [
    {
     "data": {
      "image/png": "[encoded data removed]",
      "text/plain": [
       "<matplotlib.figure.Figure at 0x7f43aef0be10>"
      ]
     },
     "metadata": {},
     "output_type": "display_data"
    }
   ],
   "source": [
    "pd.scatter_matrix(regressions, alpha = .2, figsize = (10, 10), diagonal = 'kde')\n",
    "plt.show()"
   ]
  },
  {
   "cell_type": "markdown",
   "metadata": {
    "deletable": true,
    "editable": true
   },
   "source": [
    "## Model 2: OLS Model ##"
   ]
  },
  {
   "cell_type": "markdown",
   "metadata": {
    "deletable": true,
    "editable": true
   },
   "source": [
    "### Part A:  Ols model with complete features ##"
   ]
  },
  {
   "cell_type": "code",
   "execution_count": 9,
   "metadata": {
    "collapsed": false,
    "deletable": true,
    "editable": true
   },
   "outputs": [],
   "source": [
    "Nt_X_train = regressions.iloc[:80, regressions.columns == 'Nt']\n",
    "\n",
    "Nt_X_test =  regressions.iloc[80:, regressions.columns == 'Nt']\n",
    "\n"
   ]
  },
  {
   "cell_type": "markdown",
   "metadata": {
    "deletable": true,
    "editable": true
   },
   "source": [
    "#### Ols summary for all features taken ####"
   ]
  },
  {
   "cell_type": "code",
   "execution_count": 10,
   "metadata": {
    "collapsed": false,
    "deletable": true,
    "editable": true
   },
   "outputs": [
    {
     "name": "stdout",
     "output_type": "stream",
     "text": [
      "                            OLS Regression Results                            \n",
      "==============================================================================\n",
      "Dep. Variable:                    Age   R-squared:                       0.901\n",
      "Model:                            OLS   Adj. R-squared:                  0.896\n",
      "Method:                 Least Squares   F-statistic:                     171.3\n",
      "Date:                Sun, 02 Apr 2017   Prob (F-statistic):           6.60e-37\n",
      "Time:                        19:43:05   Log-Likelihood:                 334.85\n",
      "No. Observations:                  80   AIC:                            -659.7\n",
      "Df Residuals:                      75   BIC:                            -647.8\n",
      "Df Model:                           4                                         \n",
      "Covariance Type:            nonrobust                                         \n",
      "==============================================================================\n",
      "                 coef    std err          t      P>|t|      [0.025      0.975]\n",
      "------------------------------------------------------------------------------\n",
      "Intercept      0.0030      0.003      1.083      0.282      -0.003       0.009\n",
      "N0           1.39e-05   6.83e-05      0.203      0.839      -0.000       0.000\n",
      "Nt             0.0192      0.001     25.080      0.000       0.018       0.021\n",
      "PetalCount    -0.0011      0.001     -0.911      0.365      -0.004       0.001\n",
      "pH            -0.0002    7.2e-05     -2.118      0.037      -0.000   -9.06e-06\n",
      "==============================================================================\n",
      "Omnibus:                       45.003   Durbin-Watson:                   2.284\n",
      "Prob(Omnibus):                  0.000   Jarque-Bera (JB):              289.761\n",
      "Skew:                           1.459   Prob(JB):                     1.20e-63\n",
      "Kurtosis:                      11.855   Cond. No.                         100.\n",
      "==============================================================================\n",
      "\n",
      "Warnings:\n",
      "[1] Standard Errors assume that the covariance matrix of the errors is correctly specified.\n"
     ]
    }
   ],
   "source": [
    "ols_result = sm.ols(formula = \"Age ~ N0 + Nt + PetalCount + pH\", data = regressions[:80]).fit()\n",
    "print (ols_result.summary())\n"
   ]
  },
  {
   "cell_type": "markdown",
   "metadata": {
    "deletable": true,
    "editable": true
   },
   "source": [
    "#### Actual v/s predicted value #### "
   ]
  },
  {
   "cell_type": "code",
   "execution_count": 11,
   "metadata": {
    "collapsed": false,
    "deletable": true,
    "editable": true
   },
   "outputs": [
    {
     "data": {
      "image/png": "[encoded data removed]",
      "text/plain": [
       "<matplotlib.figure.Figure at 0x7f43ae24eb70>"
      ]
     },
     "metadata": {},
     "output_type": "display_data"
    }
   ],
   "source": [
    "Predict_all = ols_result.predict(X_test)\n",
    "plt.scatter(Predict_all, Y_test.Age)\n",
    "plt.xlabel(\"Predicted Age\")\n",
    "plt.ylabel(\"Given Age\")\n",
    "plt.show()"
   ]
  },
  {
   "cell_type": "markdown",
   "metadata": {
    "deletable": true,
    "editable": true
   },
   "source": [
    "### Part B: Ols model with feature named Nt only ### "
   ]
  },
  {
   "cell_type": "code",
   "execution_count": 12,
   "metadata": {
    "collapsed": false,
    "deletable": true,
    "editable": true
   },
   "outputs": [
    {
     "name": "stdout",
     "output_type": "stream",
     "text": [
      "                            OLS Regression Results                            \n",
      "==============================================================================\n",
      "Dep. Variable:                    Age   R-squared:                       0.895\n",
      "Model:                            OLS   Adj. R-squared:                  0.893\n",
      "Method:                 Least Squares   F-statistic:                     661.9\n",
      "Date:                Sun, 02 Apr 2017   Prob (F-statistic):           7.45e-40\n",
      "Time:                        19:43:19   Log-Likelihood:                 332.20\n",
      "No. Observations:                  80   AIC:                            -660.4\n",
      "Df Residuals:                      78   BIC:                            -655.6\n",
      "Df Model:                           1                                         \n",
      "Covariance Type:            nonrobust                                         \n",
      "==============================================================================\n",
      "                 coef    std err          t      P>|t|      [0.025      0.975]\n",
      "------------------------------------------------------------------------------\n",
      "Intercept     -0.0007      0.001     -0.851      0.398      -0.002       0.001\n",
      "Nt             0.0195      0.001     25.728      0.000       0.018       0.021\n",
      "==============================================================================\n",
      "Omnibus:                       52.033   Durbin-Watson:                   2.307\n",
      "Prob(Omnibus):                  0.000   Jarque-Bera (JB):              364.815\n",
      "Skew:                           1.742   Prob(JB):                     6.05e-80\n",
      "Kurtosis:                      12.864   Cond. No.                         3.26\n",
      "==============================================================================\n",
      "\n",
      "Warnings:\n",
      "[1] Standard Errors assume that the covariance matrix of the errors is correctly specified.\n"
     ]
    }
   ],
   "source": [
    "ols_result_Nt = sm.ols(formula = \"Age ~ Nt\", data = regressions[:80]).fit()\n",
    "print (ols_result_Nt.summary())"
   ]
  },
  {
   "cell_type": "markdown",
   "metadata": {
    "deletable": true,
    "editable": true
   },
   "source": [
    "#### Predicted age vs actual age ####"
   ]
  },
  {
   "cell_type": "code",
   "execution_count": 13,
   "metadata": {
    "collapsed": false,
    "deletable": true,
    "editable": true
   },
   "outputs": [
    {
     "data": {
      "image/png": "[encoded data removed]",
      "text/plain": [
       "<matplotlib.figure.Figure at 0x7f43ae2fecc0>"
      ]
     },
     "metadata": {},
     "output_type": "display_data"
    }
   ],
   "source": [
    "Predict_Nt = ols_result_Nt.predict(Nt_X_test['Nt'])\n",
    "plt.scatter(Predict_Nt, Y_test.Age)\n",
    "plt.plot(Predict_Nt, Y_test.Age, color = 'c')\n",
    "plt.xlabel(\"Predicted Age\")\n",
    "plt.ylabel(\"Given Age\")\n",
    "plt.show()"
   ]
  },
  {
   "cell_type": "markdown",
   "metadata": {
    "deletable": true,
    "editable": true
   },
   "source": [
    "### Part C: Ols model with Log(Nt) ###"
   ]
  },
  {
   "cell_type": "code",
   "execution_count": 14,
   "metadata": {
    "collapsed": false,
    "deletable": true,
    "editable": true
   },
   "outputs": [
    {
     "data": {
      "text/html": [
       "<table class=\"simpletable\">\n",
       "<caption>OLS Regression Results</caption>\n",
       "<tr>\n",
       "  <th>Dep. Variable:</th>           <td>Age</td>       <th>  R-squared:         </th> <td>   0.694</td>\n",
       "</tr>\n",
       "<tr>\n",
       "  <th>Model:</th>                   <td>OLS</td>       <th>  Adj. R-squared:    </th> <td>   0.690</td>\n",
       "</tr>\n",
       "<tr>\n",
       "  <th>Method:</th>             <td>Least Squares</td>  <th>  F-statistic:       </th> <td>   176.5</td>\n",
       "</tr>\n",
       "<tr>\n",
       "  <th>Date:</th>             <td>Sun, 02 Apr 2017</td> <th>  Prob (F-statistic):</th> <td>9.96e-22</td>\n",
       "</tr>\n",
       "<tr>\n",
       "  <th>Time:</th>                 <td>19:43:27</td>     <th>  Log-Likelihood:    </th> <td>  289.52</td>\n",
       "</tr>\n",
       "<tr>\n",
       "  <th>No. Observations:</th>      <td>    80</td>      <th>  AIC:               </th> <td>  -575.0</td>\n",
       "</tr>\n",
       "<tr>\n",
       "  <th>Df Residuals:</th>          <td>    78</td>      <th>  BIC:               </th> <td>  -570.3</td>\n",
       "</tr>\n",
       "<tr>\n",
       "  <th>Df Model:</th>              <td>     1</td>      <th>                     </th>     <td> </td>   \n",
       "</tr>\n",
       "<tr>\n",
       "  <th>Covariance Type:</th>      <td>nonrobust</td>    <th>                     </th>     <td> </td>   \n",
       "</tr>\n",
       "</table>\n",
       "<table class=\"simpletable\">\n",
       "<tr>\n",
       "       <td></td>         <th>coef</th>     <th>std err</th>      <th>t</th>      <th>P>|t|</th>  <th>[0.025</th>    <th>0.975]</th>  \n",
       "</tr>\n",
       "<tr>\n",
       "  <th>Intercept</th>  <td>    0.0210</td> <td>    0.001</td> <td>   25.150</td> <td> 0.000</td> <td>    0.019</td> <td>    0.023</td>\n",
       "</tr>\n",
       "<tr>\n",
       "  <th>np.log(Nt)</th> <td>    0.0104</td> <td>    0.001</td> <td>   13.287</td> <td> 0.000</td> <td>    0.009</td> <td>    0.012</td>\n",
       "</tr>\n",
       "</table>\n",
       "<table class=\"simpletable\">\n",
       "<tr>\n",
       "  <th>Omnibus:</th>       <td>68.642</td> <th>  Durbin-Watson:     </th> <td>   1.953</td>\n",
       "</tr>\n",
       "<tr>\n",
       "  <th>Prob(Omnibus):</th> <td> 0.000</td> <th>  Jarque-Bera (JB):  </th> <td> 431.749</td>\n",
       "</tr>\n",
       "<tr>\n",
       "  <th>Skew:</th>          <td> 2.654</td> <th>  Prob(JB):          </th> <td>1.77e-94</td>\n",
       "</tr>\n",
       "<tr>\n",
       "  <th>Kurtosis:</th>      <td>13.067</td> <th>  Cond. No.          </th> <td>    1.68</td>\n",
       "</tr>\n",
       "</table>"
      ],
      "text/plain": [
       "<class 'statsmodels.iolib.summary.Summary'>\n",
       "\"\"\"\n",
       "                            OLS Regression Results                            \n",
       "==============================================================================\n",
       "Dep. Variable:                    Age   R-squared:                       0.694\n",
       "Model:                            OLS   Adj. R-squared:                  0.690\n",
       "Method:                 Least Squares   F-statistic:                     176.5\n",
       "Date:                Sun, 02 Apr 2017   Prob (F-statistic):           9.96e-22\n",
       "Time:                        19:43:27   Log-Likelihood:                 289.52\n",
       "No. Observations:                  80   AIC:                            -575.0\n",
       "Df Residuals:                      78   BIC:                            -570.3\n",
       "Df Model:                           1                                         \n",
       "Covariance Type:            nonrobust                                         \n",
       "==============================================================================\n",
       "                 coef    std err          t      P>|t|      [0.025      0.975]\n",
       "------------------------------------------------------------------------------\n",
       "Intercept      0.0210      0.001     25.150      0.000       0.019       0.023\n",
       "np.log(Nt)     0.0104      0.001     13.287      0.000       0.009       0.012\n",
       "==============================================================================\n",
       "Omnibus:                       68.642   Durbin-Watson:                   1.953\n",
       "Prob(Omnibus):                  0.000   Jarque-Bera (JB):              431.749\n",
       "Skew:                           2.654   Prob(JB):                     1.77e-94\n",
       "Kurtosis:                      13.067   Cond. No.                         1.68\n",
       "==============================================================================\n",
       "\n",
       "Warnings:\n",
       "[1] Standard Errors assume that the covariance matrix of the errors is correctly specified.\n",
       "\"\"\""
      ]
     },
     "execution_count": 14,
     "metadata": {},
     "output_type": "execute_result"
    }
   ],
   "source": [
    "ols_result_log_Nt = sm.ols(formula=\"Age ~ np.log(Nt)\", data = regressions[:80]).fit()\n",
    "ols_result_log_Nt.summary()"
   ]
  },
  {
   "cell_type": "markdown",
   "metadata": {
    "deletable": true,
    "editable": true
   },
   "source": [
    "#### Predicted age vs actual age ####"
   ]
  },
  {
   "cell_type": "code",
   "execution_count": 15,
   "metadata": {
    "collapsed": false,
    "deletable": true,
    "editable": true
   },
   "outputs": [
    {
     "data": {
      "image/png": "[encoded data removed]",
      "text/plain": [
       "<matplotlib.figure.Figure at 0x7f43ae248978>"
      ]
     },
     "metadata": {},
     "output_type": "display_data"
    }
   ],
   "source": [
    "Predict_logNt = ols_result_log_Nt.predict(Nt_X_test['Nt'])\n",
    "plt.scatter(Predict_logNt, Y_test.Age, color = 'c')\n",
    "plt.plot(Predict_logNt, Y_test.Age)\n",
    "plt.xlabel(\"Predicted Age\")\n",
    "plt.ylabel(\"Given Age\")\n",
    "plt.show()"
   ]
  },
  {
   "cell_type": "markdown",
   "metadata": {
    "deletable": true,
    "editable": true
   },
   "source": [
    "#### rmse value of only log(Nt) value"
   ]
  },
  {
   "cell_type": "code",
   "execution_count": 16,
   "metadata": {
    "collapsed": false,
    "deletable": true,
    "editable": true
   },
   "outputs": [
    {
     "data": {
      "text/plain": [
       "0.007353303199791"
      ]
     },
     "execution_count": 16,
     "metadata": {},
     "output_type": "execute_result"
    }
   ],
   "source": [
    "rmse_logNt = np.mean((Y_test.Age - Predict_logNt)** 2)**(0.5)\n",
    "rmse_logNt"
   ]
  },
  {
   "cell_type": "markdown",
   "metadata": {
    "deletable": true,
    "editable": true
   },
   "source": [
    "## Box plot ##"
   ]
  },
  {
   "cell_type": "code",
   "execution_count": 17,
   "metadata": {
    "collapsed": false,
    "deletable": true,
    "editable": true
   },
   "outputs": [
    {
     "data": {
      "image/png": "[encoded data removed]",
      "text/plain": [
       "<matplotlib.figure.Figure at 0x7f43ae255f28>"
      ]
     },
     "metadata": {},
     "output_type": "display_data"
    }
   ],
   "source": [
    "residual_logNt  = np.array(Predict_logNt - Y_test.Age)\n",
    "plt.boxplot(residual_logNt)\n",
    "plt.show()"
   ]
  },
  {
   "cell_type": "markdown",
   "metadata": {
    "deletable": true,
    "editable": true
   },
   "source": [
    "## Residual plot histogram ##"
   ]
  },
  {
   "cell_type": "code",
   "execution_count": 18,
   "metadata": {
    "collapsed": false,
    "deletable": true,
    "editable": true
   },
   "outputs": [
    {
     "data": {
      "image/png": "[encoded data removed]",
      "text/plain": [
       "<matplotlib.figure.Figure at 0x7f43ae3a59b0>"
      ]
     },
     "metadata": {},
     "output_type": "display_data"
    }
   ],
   "source": [
    "plt.hist(residual_logNt)\n",
    "plt.show()"
   ]
  },
  {
   "cell_type": "markdown",
   "metadata": {
    "deletable": true,
    "editable": true
   },
   "source": [
    "## Goldfeld Quandt Test ##"
   ]
  },
  {
   "cell_type": "code",
   "execution_count": 19,
   "metadata": {
    "collapsed": false,
    "deletable": true,
    "editable": true
   },
   "outputs": [
    {
     "data": {
      "text/plain": [
       "[('F statistics', 0.2569201175632726), ('p_value', 0.99997050863259562)]"
      ]
     },
     "execution_count": 19,
     "metadata": {},
     "output_type": "execute_result"
    }
   ],
   "source": [
    "name = ['F statistics', 'p_value']\n",
    "test = sms.het_goldfeldquandt(ols_result_log_Nt.resid, ols_result_log_Nt.model.exog)\n",
    "list(zip(name, test))"
   ]
  },
  {
   "cell_type": "markdown",
   "metadata": {
    "collapsed": true,
    "deletable": true,
    "editable": true
   },
   "source": [
    "## Model 3: Ridge regression ##"
   ]
  },
  {
   "cell_type": "code",
   "execution_count": 23,
   "metadata": {
    "collapsed": false,
    "deletable": true,
    "editable": true
   },
   "outputs": [],
   "source": [
    "alphas_ridge = 10 ** np.linspace(-5, 1, 100)\n",
    "fdf=pd.DataFrame()\n",
    "ridge = linear_model.Ridge(normalize = True)\n",
    "coeff = []\n",
    "for a in alphas_ridge:\n",
    "    ridge.set_params(alpha = a)\n",
    "    ridge.fit(X_train, Y_train.Age)\n",
    "    coeff.append(ridge.coef_)\n",
    "    \n",
    "    df = pd.DataFrame({'N0':[ridge.coef_[0]], \n",
    "                       'Nt' :[ridge.coef_[1]],\n",
    "                       'pH':[ridge.coef_[2]],\n",
    "                       'PetalCount':[ridge.coef_[3]],\n",
    "                       'log(Nt)':[ridge.coef_[4]]})\n",
    "    fdf = fdf.append(df)\n",
    "    \n",
    "fdf['alpha'] = alphas_ridge  \n",
    "\n",
    "\n"
   ]
  },
  {
   "cell_type": "markdown",
   "metadata": {
    "deletable": true,
    "editable": true
   },
   "source": [
    "#### Ridge plot ####"
   ]
  },
  {
   "cell_type": "code",
   "execution_count": 25,
   "metadata": {
    "collapsed": false,
    "deletable": true,
    "editable": true
   },
   "outputs": [
    {
     "data": {
      "application/vnd.plotly.v1+json": {
       "data": [
        {
         "line": {
          "color": "rgb(205, 12, 24)",
          "width": 4
         },
         "name": "N0",
         "type": "scatter",
         "x": [
          1e-05,
          1.1497569953977357e-05,
          1.3219411484660286e-05,
          1.5199110829529332e-05,
          1.747528400007683e-05,
          2.0092330025650458e-05,
          2.310129700083158e-05,
          2.656087782946684e-05,
          3.053855508833412e-05,
          3.511191734215127e-05,
          4.037017258596558e-05,
          4.641588833612782e-05,
          5.3366992312063123e-05,
          6.135907273413175e-05,
          7.054802310718646e-05,
          8.111308307896872e-05,
          9.326033468832199e-05,
          0.00010722672220103231,
          0.0001232846739442066,
          0.00014174741629268049,
          0.00016297508346206434,
          0.0001873817422860383,
          0.00021544346900318845,
          0.0002477076355991711,
          0.0002848035868435802,
          0.00032745491628777284,
          0.00037649358067924675,
          0.00043287612810830614,
          0.0004977023564332114,
          0.0005722367659350221,
          0.0006579332246575682,
          0.000756463327554629,
          0.0008697490026177834,
          0.001,
          0.0011497569953977356,
          0.0013219411484660286,
          0.0015199110829529332,
          0.0017475284000076847,
          0.002009233002565048,
          0.0023101297000831605,
          0.0026560877829466868,
          0.0030538555088334154,
          0.003511191734215131,
          0.004037017258596553,
          0.004641588833612782,
          0.005336699231206312,
          0.006135907273413176,
          0.007054802310718645,
          0.008111308307896872,
          0.0093260334688322,
          0.010722672220103232,
          0.012328467394420659,
          0.014174741629268049,
          0.01629750834620645,
          0.018738174228603847,
          0.021544346900318846,
          0.024770763559917114,
          0.02848035868435802,
          0.03274549162877728,
          0.037649358067924674,
          0.043287612810830614,
          0.049770235643321135,
          0.0572236765935022,
          0.06579332246575682,
          0.07564633275546291,
          0.08697490026177834,
          0.1,
          0.11497569953977356,
          0.13219411484660287,
          0.1519911082952933,
          0.1747528400007683,
          0.2009233002565046,
          0.2310129700083158,
          0.26560877829466895,
          0.30538555088334185,
          0.35111917342151344,
          0.4037017258596558,
          0.4641588833612782,
          0.5336699231206312,
          0.6135907273413176,
          0.7054802310718645,
          0.8111308307896873,
          0.9326033468832199,
          1.072267222010323,
          1.232846739442066,
          1.4174741629268048,
          1.6297508346206435,
          1.873817422860383,
          2.1544346900318865,
          2.4770763559917137,
          2.848035868435805,
          3.2745491628777317,
          3.7649358067924714,
          4.328761281083062,
          4.9770235643321135,
          5.72236765935022,
          6.5793322465756825,
          7.56463327554629,
          8.697490026177835,
          10
         ],
         "y": [
          9.42941585265478e-06,
          9.429470110758428e-06,
          9.42953248825145e-06,
          9.429604199092878e-06,
          9.429686638404913e-06,
          9.429781409398717e-06,
          9.429890354267114e-06,
          9.430015589616867e-06,
          9.430159547092348e-06,
          9.430325019931644e-06,
          9.430515216294791e-06,
          9.430733820314302e-06,
          9.43098506193986e-06,
          9.431273796783021e-06,
          9.43160559731223e-06,
          9.431986856904565e-06,
          9.432424908424471e-06,
          9.432928159169179e-06,
          9.433506244190082e-06,
          9.434170200160907e-06,
          9.43493266210678e-06,
          9.435808085415494e-06,
          9.436812995604344e-06,
          9.437966268278752e-06,
          9.439289441555412e-06,
          9.44080706287591e-06,
          9.442547071536508e-06,
          9.44454121731048e-06,
          9.446825514122074e-06,
          9.449440725688626e-06,
          9.452432877185803e-06,
          9.455853783065812e-06,
          9.45976157587404e-06,
          9.464221213907211e-06,
          9.469304936421786e-06,
          9.47509262336301e-06,
          9.481672001739404e-06,
          9.489138622308805e-06,
          9.497595507730773e-06,
          9.507152346498236e-06,
          9.517924075823787e-06,
          9.530028661774794e-06,
          9.543583847670573e-06,
          9.558702604543761e-06,
          9.57548698429299e-06,
          9.594020052836475e-06,
          9.614355575028715e-06,
          9.636505145287328e-06,
          9.660422519285624e-06,
          9.685985014436649e-06,
          9.712972019992881e-06,
          9.741040895931937e-06,
          9.769700838591924e-06,
          9.798285631981673e-06,
          9.825926552149997e-06,
          9.851526997061027e-06,
          9.873740614202507e-06,
          9.890954731235878e-06,
          9.901280717613853e-06,
          9.902552510710353e-06,
          9.892333975398446e-06,
          9.867935136502527e-06,
          9.826436781650853e-06,
          9.764722648232682e-06,
          9.679518529022493e-06,
          9.567438235595521e-06,
          9.425037425000302e-06,
          9.248877685878779e-06,
          9.035604748116043e-06,
          8.782045888604343e-06,
          8.485332156865539e-06,
          8.143050511146342e-06,
          7.753428924934175e-06,
          7.315553663145109e-06,
          6.8296120914616284e-06,
          6.297146763920136e-06,
          5.721297833487723e-06,
          5.107002387750496e-06,
          4.461113102481727e-06,
          3.792397001248871e-06,
          3.111380343424293e-06,
          2.4300190588703402e-06,
          1.761195307771704e-06,
          1.1180670377589296e-06,
          5.133240964428719e-07,
          -4.157438661121892e-08,
          -5.370965297791391e-07,
          -9.66187645516156e-07,
          -1.3246118466051457e-06,
          -1.6110531050269659e-06,
          -1.8269776760439116e-06,
          -1.976291421543186e-06,
          -2.0648487500919854e-06,
          -2.099881267238372e-06,
          -2.0894134978198483e-06,
          -2.041722514797218e-06,
          -1.964881827362849e-06,
          -1.866411571266181e-06,
          -1.7530403220181531e-06,
          -1.6305708848618803e-06
         ]
        },
        {
         "line": {
          "color": "rgb(22, 96, 17)",
          "width": 4
         },
         "name": "Nt",
         "type": "scatter",
         "x": [
          1e-05,
          1.1497569953977357e-05,
          1.3219411484660286e-05,
          1.5199110829529332e-05,
          1.747528400007683e-05,
          2.0092330025650458e-05,
          2.310129700083158e-05,
          2.656087782946684e-05,
          3.053855508833412e-05,
          3.511191734215127e-05,
          4.037017258596558e-05,
          4.641588833612782e-05,
          5.3366992312063123e-05,
          6.135907273413175e-05,
          7.054802310718646e-05,
          8.111308307896872e-05,
          9.326033468832199e-05,
          0.00010722672220103231,
          0.0001232846739442066,
          0.00014174741629268049,
          0.00016297508346206434,
          0.0001873817422860383,
          0.00021544346900318845,
          0.0002477076355991711,
          0.0002848035868435802,
          0.00032745491628777284,
          0.00037649358067924675,
          0.00043287612810830614,
          0.0004977023564332114,
          0.0005722367659350221,
          0.0006579332246575682,
          0.000756463327554629,
          0.0008697490026177834,
          0.001,
          0.0011497569953977356,
          0.0013219411484660286,
          0.0015199110829529332,
          0.0017475284000076847,
          0.002009233002565048,
          0.0023101297000831605,
          0.0026560877829466868,
          0.0030538555088334154,
          0.003511191734215131,
          0.004037017258596553,
          0.004641588833612782,
          0.005336699231206312,
          0.006135907273413176,
          0.007054802310718645,
          0.008111308307896872,
          0.0093260334688322,
          0.010722672220103232,
          0.012328467394420659,
          0.014174741629268049,
          0.01629750834620645,
          0.018738174228603847,
          0.021544346900318846,
          0.024770763559917114,
          0.02848035868435802,
          0.03274549162877728,
          0.037649358067924674,
          0.043287612810830614,
          0.049770235643321135,
          0.0572236765935022,
          0.06579332246575682,
          0.07564633275546291,
          0.08697490026177834,
          0.1,
          0.11497569953977356,
          0.13219411484660287,
          0.1519911082952933,
          0.1747528400007683,
          0.2009233002565046,
          0.2310129700083158,
          0.26560877829466895,
          0.30538555088334185,
          0.35111917342151344,
          0.4037017258596558,
          0.4641588833612782,
          0.5336699231206312,
          0.6135907273413176,
          0.7054802310718645,
          0.8111308307896873,
          0.9326033468832199,
          1.072267222010323,
          1.232846739442066,
          1.4174741629268048,
          1.6297508346206435,
          1.873817422860383,
          2.1544346900318865,
          2.4770763559917137,
          2.848035868435805,
          3.2745491628777317,
          3.7649358067924714,
          4.328761281083062,
          4.9770235643321135,
          5.72236765935022,
          6.5793322465756825,
          7.56463327554629,
          8.697490026177835,
          10
         ],
         "y": [
          -5.37173008229432e-05,
          -5.3419268278600586e-05,
          -5.307662580120245e-05,
          -5.268269999018521e-05,
          -5.222982038824507e-05,
          -5.170917091578749e-05,
          -5.111061929664619e-05,
          -5.042252125746938e-05,
          -4.963149582600793e-05,
          -4.8722167533353434e-05,
          -4.767687074278244e-05,
          -4.6475310668231705e-05,
          -4.5094174906326414e-05,
          -4.350668847910626e-05,
          -4.168210446843176e-05,
          -3.958512130455309e-05,
          -3.7175216662390586e-05,
          -3.440588670823654e-05,
          -3.12237781432354e-05,
          -2.7567699121820168e-05,
          -2.3367493705186855e-05,
          -1.854276309161021e-05,
          -1.3001415495379979e-05,
          -6.638025328184539e-06,
          6.680186206277335e-07,
          9.054596824742183e-06,
          1.867919515617342e-05,
          2.972151306524089e-05,
          4.238636086707639e-05,
          5.690685881224878e-05,
          7.354794368763894e-05,
          9.261017838283531e-05,
          0.00011443384514838738,
          0.00013940328293541007,
          0.00016795140180105259,
          0.00020056427125474883,
          0.00023778563285619287,
          0.00028022112859068485,
          0.0003285419640247525,
          0.00038348763802989894,
          0.0004458672691310764,
          0.0005165589343054525,
          0.0005965063141738029,
          0.0006867118178576284,
          0.0007882252555164097,
          0.0009021270575172953,
          0.0010295050344891264,
          0.0011714237674871695,
          0.001328885952585499,
          0.0015027854401824029,
          0.001693852338949882,
          0.001902591410338966,
          0.0021292160392139335,
          0.0023735812559744366,
          0.002635120469795278,
          0.002912791553515256,
          0.003205038456320383,
          0.0035097743654131227,
          0.0038243914052090125,
          0.004145799893806536,
          0.0044704974001868346,
          0.004794664598128081,
          0.005114281700692903,
          0.005425256660913654,
          0.005723554852673383,
          0.006005319911548696,
          0.006266976839835101,
          0.006505311087752457,
          0.006717520617717843,
          0.00690124135413298,
          0.007054549380461717,
          0.007175945386793962,
          0.00726432801521652,
          0.007318962908154254,
          0.007339453585420583,
          0.007325718978986437,
          0.007277980772186971,
          0.0071967618277225445,
          0.007082895111767869,
          0.006937540761017648,
          0.006762207409845427,
          0.006558772711900863,
          0.006329497282724175,
          0.006077026192869807,
          0.0058043727724799744,
          0.005514880905858519,
          0.005212164146328511,
          0.004900022668443788,
          0.004582341946784475,
          0.004262979652999713,
          0.003945649127067828,
          0.0036338085393027224,
          0.003330564355545643,
          0.0030385960430080166,
          0.0027601064344880176,
          0.0024967992753182787,
          0.002249882705658699,
          0.002020095186380554,
          0.0018077489029013297,
          0.0016127850394073466
         ]
        },
        {
         "line": {
          "color": "rgb(205, 0, 24)",
          "dash": "dash",
          "width": 4
         },
         "name": "pH",
         "type": "scatter",
         "x": [
          1e-05,
          1.1497569953977357e-05,
          1.3219411484660286e-05,
          1.5199110829529332e-05,
          1.747528400007683e-05,
          2.0092330025650458e-05,
          2.310129700083158e-05,
          2.656087782946684e-05,
          3.053855508833412e-05,
          3.511191734215127e-05,
          4.037017258596558e-05,
          4.641588833612782e-05,
          5.3366992312063123e-05,
          6.135907273413175e-05,
          7.054802310718646e-05,
          8.111308307896872e-05,
          9.326033468832199e-05,
          0.00010722672220103231,
          0.0001232846739442066,
          0.00014174741629268049,
          0.00016297508346206434,
          0.0001873817422860383,
          0.00021544346900318845,
          0.0002477076355991711,
          0.0002848035868435802,
          0.00032745491628777284,
          0.00037649358067924675,
          0.00043287612810830614,
          0.0004977023564332114,
          0.0005722367659350221,
          0.0006579332246575682,
          0.000756463327554629,
          0.0008697490026177834,
          0.001,
          0.0011497569953977356,
          0.0013219411484660286,
          0.0015199110829529332,
          0.0017475284000076847,
          0.002009233002565048,
          0.0023101297000831605,
          0.0026560877829466868,
          0.0030538555088334154,
          0.003511191734215131,
          0.004037017258596553,
          0.004641588833612782,
          0.005336699231206312,
          0.006135907273413176,
          0.007054802310718645,
          0.008111308307896872,
          0.0093260334688322,
          0.010722672220103232,
          0.012328467394420659,
          0.014174741629268049,
          0.01629750834620645,
          0.018738174228603847,
          0.021544346900318846,
          0.024770763559917114,
          0.02848035868435802,
          0.03274549162877728,
          0.037649358067924674,
          0.043287612810830614,
          0.049770235643321135,
          0.0572236765935022,
          0.06579332246575682,
          0.07564633275546291,
          0.08697490026177834,
          0.1,
          0.11497569953977356,
          0.13219411484660287,
          0.1519911082952933,
          0.1747528400007683,
          0.2009233002565046,
          0.2310129700083158,
          0.26560877829466895,
          0.30538555088334185,
          0.35111917342151344,
          0.4037017258596558,
          0.4641588833612782,
          0.5336699231206312,
          0.6135907273413176,
          0.7054802310718645,
          0.8111308307896873,
          0.9326033468832199,
          1.072267222010323,
          1.232846739442066,
          1.4174741629268048,
          1.6297508346206435,
          1.873817422860383,
          2.1544346900318865,
          2.4770763559917137,
          2.848035868435805,
          3.2745491628777317,
          3.7649358067924714,
          4.328761281083062,
          4.9770235643321135,
          5.72236765935022,
          6.5793322465756825,
          7.56463327554629,
          8.697490026177835,
          10
         ],
         "y": [
          -2.488246994824671e-06,
          -2.4905582598113286e-06,
          -2.493215483065699e-06,
          -2.4962704196040663e-06,
          -2.499782557538165e-06,
          -2.5038202705011052e-06,
          -2.5084621408464765e-06,
          -2.5137984786062835e-06,
          -2.5199330647458586e-06,
          -2.5269851513015735e-06,
          -2.535091755522164e-06,
          -2.5444102902715575e-06,
          -2.5551215787141682e-06,
          -2.5674333077542485e-06,
          -2.581583981859732e-06,
          -2.5978474468671744e-06,
          -2.616538062057272e-06,
          -2.6380166082993517e-06,
          -2.662697030275515e-06,
          -2.6910541216118816e-06,
          -2.7236322730161315e-06,
          -2.7610554148746314e-06,
          -2.8040382968567693e-06,
          -2.8533992571304255e-06,
          -2.910074642016795e-06,
          -2.975135041957022e-06,
          -3.0498035098834786e-06,
          -3.1354759211294737e-06,
          -3.2337436169835017e-06,
          -3.346418442917264e-06,
          -3.475560242509035e-06,
          -3.6235067929098927e-06,
          -3.7929060597053787e-06,
          -3.986750498966564e-06,
          -4.208412931336206e-06,
          -4.461683244824516e-06,
          -4.750804836401255e-06,
          -5.080509264120067e-06,
          -5.456047039870475e-06,
          -5.883211840595271e-06,
          -6.368354654006526e-06,
          -6.918383518307926e-06,
          -7.5407436001511414e-06,
          -8.24337144704224e-06,
          -9.034616455525685e-06,
          -9.923122069844179e-06,
          -1.091765917764497e-05,
          -1.202690486322891e-05,
          -1.325916141639126e-05,
          -1.462201357944322e-05,
          -1.6121926689300132e-05,
          -1.7763794726144853e-05,
          -1.955045513938343e-05,
          -2.148219612623588e-05,
          -2.3556290761863818e-05,
          -2.576659952809514e-05,
          -2.8103286535548688e-05,
          -3.0552693232928176e-05,
          -3.3097405240040104e-05,
          -3.5716532694463845e-05,
          -3.838620314980691e-05,
          -4.1080241167379185e-05,
          -4.377098416633687e-05,
          -4.643016427447511e-05,
          -4.902977482903589e-05,
          -5.154284031286574e-05,
          -5.394402023701417e-05,
          -5.620999895296095e-05,
          -5.831964108838215e-05,
          -6.0253922007190404e-05,
          -6.199567039278491e-05,
          -6.352918266992413e-05,
          -6.483978461963129e-05,
          -6.591342331059166e-05,
          -6.67363720727023e-05,
          -6.729512258202745e-05,
          -6.757652116738023e-05,
          -6.756818137131433e-05,
          -6.725917248851303e-05,
          -6.664094642595678e-05,
          -6.570842661274212e-05,
          -6.446114824617061e-05,
          -6.290431516268606e-05,
          -6.104963088097613e-05,
          -5.891577366640194e-05,
          -5.652841822531483e-05,
          -5.3919756268009496e-05,
          -5.1127527465991146e-05,
          -4.819363177906444e-05,
          -4.516244395120227e-05,
          -4.20789831826641e-05,
          -3.898710105328816e-05,
          -3.5927838447147225e-05,
          -3.2938071323218784e-05,
          -3.0049522432628513e-05,
          -2.7288169477153676e-05,
          -2.4674037176220013e-05,
          -2.222132678263763e-05,
          -1.9938814663157627e-05,
          -1.7830441945224496e-05
         ]
        },
        {
         "line": {
          "color": "rgb(220, 96, 167)",
          "dash": "dash",
          "width": 4
         },
         "name": "Petal Count",
         "type": "scatter",
         "x": [
          1e-05,
          1.1497569953977357e-05,
          1.3219411484660286e-05,
          1.5199110829529332e-05,
          1.747528400007683e-05,
          2.0092330025650458e-05,
          2.310129700083158e-05,
          2.656087782946684e-05,
          3.053855508833412e-05,
          3.511191734215127e-05,
          4.037017258596558e-05,
          4.641588833612782e-05,
          5.3366992312063123e-05,
          6.135907273413175e-05,
          7.054802310718646e-05,
          8.111308307896872e-05,
          9.326033468832199e-05,
          0.00010722672220103231,
          0.0001232846739442066,
          0.00014174741629268049,
          0.00016297508346206434,
          0.0001873817422860383,
          0.00021544346900318845,
          0.0002477076355991711,
          0.0002848035868435802,
          0.00032745491628777284,
          0.00037649358067924675,
          0.00043287612810830614,
          0.0004977023564332114,
          0.0005722367659350221,
          0.0006579332246575682,
          0.000756463327554629,
          0.0008697490026177834,
          0.001,
          0.0011497569953977356,
          0.0013219411484660286,
          0.0015199110829529332,
          0.0017475284000076847,
          0.002009233002565048,
          0.0023101297000831605,
          0.0026560877829466868,
          0.0030538555088334154,
          0.003511191734215131,
          0.004037017258596553,
          0.004641588833612782,
          0.005336699231206312,
          0.006135907273413176,
          0.007054802310718645,
          0.008111308307896872,
          0.0093260334688322,
          0.010722672220103232,
          0.012328467394420659,
          0.014174741629268049,
          0.01629750834620645,
          0.018738174228603847,
          0.021544346900318846,
          0.024770763559917114,
          0.02848035868435802,
          0.03274549162877728,
          0.037649358067924674,
          0.043287612810830614,
          0.049770235643321135,
          0.0572236765935022,
          0.06579332246575682,
          0.07564633275546291,
          0.08697490026177834,
          0.1,
          0.11497569953977356,
          0.13219411484660287,
          0.1519911082952933,
          0.1747528400007683,
          0.2009233002565046,
          0.2310129700083158,
          0.26560877829466895,
          0.30538555088334185,
          0.35111917342151344,
          0.4037017258596558,
          0.4641588833612782,
          0.5336699231206312,
          0.6135907273413176,
          0.7054802310718645,
          0.8111308307896873,
          0.9326033468832199,
          1.072267222010323,
          1.232846739442066,
          1.4174741629268048,
          1.6297508346206435,
          1.873817422860383,
          2.1544346900318865,
          2.4770763559917137,
          2.848035868435805,
          3.2745491628777317,
          3.7649358067924714,
          4.328761281083062,
          4.9770235643321135,
          5.72236765935022,
          6.5793322465756825,
          7.56463327554629,
          8.697490026177835,
          10
         ],
         "y": [
          -8.951169001314314e-05,
          -8.952717766233283e-05,
          -8.954498392599903e-05,
          -8.956545578528838e-05,
          -8.958899210456251e-05,
          -8.961605137563772e-05,
          -8.964716061355164e-05,
          -8.968292557371268e-05,
          -8.972404248467907e-05,
          -8.977131151910502e-05,
          -8.982565225696615e-05,
          -8.988812143143833e-05,
          -8.995993328863821e-05,
          -9.004248293877995e-05,
          -9.01373731281952e-05,
          -9.024644492035094e-05,
          -9.037181283916102e-05,
          -9.051590510080315e-05,
          -9.068150964058105e-05,
          -9.087182672975443e-05,
          -9.109052907341577e-05,
          -9.134183038382163e-05,
          -9.163056353346385e-05,
          -9.196226950613365e-05,
          -9.234329848013235e-05,
          -9.278092449080371e-05,
          -9.328347522402678e-05,
          -9.386047857939484e-05,
          -9.452282770039181e-05,
          -9.5282966183436e-05,
          -9.615509512832696e-05,
          -9.715540355401383e-05,
          -9.830232344374983e-05,
          -9.961681026336048e-05,
          -0.00010112264916923646,
          -0.00010284678623456283,
          -0.00010481968281459233,
          -0.00010707568958307677,
          -0.00010965343474637876,
          -0.00011259621843829143,
          -0.00011595240230797893,
          -0.00011977577987966746,
          -0.0001241259095133772,
          -0.00012906838797808266,
          -0.00013467503916722595,
          -0.00014102398994243146,
          -0.00014819960430029446,
          -0.0001562922490366735,
          -0.00016539786997833944,
          -0.00017561736877065833,
          -0.0001870557869430386,
          -0.0001998213265886615,
          -0.00021402426433349918,
          -0.00022977584443600966,
          -0.000247187262858734,
          -0.00026636886990511583,
          -0.000287429715980293,
          -0.00031047753461301415,
          -0.0003356191925242385,
          -0.0003629615362393734,
          -0.0003926124332070898,
          -0.00042468165503028023,
          -0.0004592811006356145,
          -0.000496523731761742,
          -0.0005365205162808888,
          -0.0005793746674867779,
          -0.0006251725446589131,
          -0.0006739707508221434,
          -0.0007257792317296872,
          -0.0007805405467250432,
          -0.0008381059453772191,
          -0.0008982094356170229,
          -0.0009604416483569393,
          -0.0010242259461980755,
          -0.0010887998135379736,
          -0.001153204989391554,
          -0.001216289919252121,
          -0.0012767277553927443,
          -0.0013330522001410313,
          -0.0013837119128124141,
          -0.0014271420599490537,
          -0.001461849105405797,
          -0.0014865024849447842,
          -0.001500024858246229,
          -0.0015016716466632661,
          -0.0014910908910616169,
          -0.0014683562095351974,
          -0.001433968612569529,
          -0.0013888266758327044,
          -0.0013341684263527467,
          -0.0012714915824557271,
          -0.0012024609490346662,
          -0.0011288125116336765,
          -0.0010522631066831253,
          -0.0009744327553626637,
          -0.000896784292688993,
          -0.0008205823044531086,
          -0.000746871035077592,
          -0.0006764691373812144,
          -0.0006099780218510036
         ]
        },
        {
         "line": {
          "color": "rgb(10, 80, 140)",
          "width": 4
         },
         "name": "logNt",
         "type": "scatter",
         "x": [
          1e-05,
          1.1497569953977357e-05,
          1.3219411484660286e-05,
          1.5199110829529332e-05,
          1.747528400007683e-05,
          2.0092330025650458e-05,
          2.310129700083158e-05,
          2.656087782946684e-05,
          3.053855508833412e-05,
          3.511191734215127e-05,
          4.037017258596558e-05,
          4.641588833612782e-05,
          5.3366992312063123e-05,
          6.135907273413175e-05,
          7.054802310718646e-05,
          8.111308307896872e-05,
          9.326033468832199e-05,
          0.00010722672220103231,
          0.0001232846739442066,
          0.00014174741629268049,
          0.00016297508346206434,
          0.0001873817422860383,
          0.00021544346900318845,
          0.0002477076355991711,
          0.0002848035868435802,
          0.00032745491628777284,
          0.00037649358067924675,
          0.00043287612810830614,
          0.0004977023564332114,
          0.0005722367659350221,
          0.0006579332246575682,
          0.000756463327554629,
          0.0008697490026177834,
          0.001,
          0.0011497569953977356,
          0.0013219411484660286,
          0.0015199110829529332,
          0.0017475284000076847,
          0.002009233002565048,
          0.0023101297000831605,
          0.0026560877829466868,
          0.0030538555088334154,
          0.003511191734215131,
          0.004037017258596553,
          0.004641588833612782,
          0.005336699231206312,
          0.006135907273413176,
          0.007054802310718645,
          0.008111308307896872,
          0.0093260334688322,
          0.010722672220103232,
          0.012328467394420659,
          0.014174741629268049,
          0.01629750834620645,
          0.018738174228603847,
          0.021544346900318846,
          0.024770763559917114,
          0.02848035868435802,
          0.03274549162877728,
          0.037649358067924674,
          0.043287612810830614,
          0.049770235643321135,
          0.0572236765935022,
          0.06579332246575682,
          0.07564633275546291,
          0.08697490026177834,
          0.1,
          0.11497569953977356,
          0.13219411484660287,
          0.1519911082952933,
          0.1747528400007683,
          0.2009233002565046,
          0.2310129700083158,
          0.26560877829466895,
          0.30538555088334185,
          0.35111917342151344,
          0.4037017258596558,
          0.4641588833612782,
          0.5336699231206312,
          0.6135907273413176,
          0.7054802310718645,
          0.8111308307896873,
          0.9326033468832199,
          1.072267222010323,
          1.232846739442066,
          1.4174741629268048,
          1.6297508346206435,
          1.873817422860383,
          2.1544346900318865,
          2.4770763559917137,
          2.848035868435805,
          3.2745491628777317,
          3.7649358067924714,
          4.328761281083062,
          4.9770235643321135,
          5.72236765935022,
          6.5793322465756825,
          7.56463327554629,
          8.697490026177835,
          10
         ],
         "y": [
          0.006245628502999701,
          0.0062455321026581466,
          0.00624542127260645,
          0.006245293854120043,
          0.0062451473659060905,
          0.006244978956027088,
          0.006244785346698382,
          0.00624456277091645,
          0.006244306899726215,
          0.0062440127587663945,
          0.006243674632542152,
          0.006243285954659243,
          0.006242839182012437,
          0.006242325650650534,
          0.006241735410739945,
          0.00624105703771402,
          0.006240277416329716,
          0.006239381493952257,
          0.0062383519989570955,
          0.006237169119680032,
          0.006235810138866757,
          0.006234249018086966,
          0.006232455926099143,
          0.006230396704711198,
          0.006228032265311063,
          0.006225317908994347,
          0.006222202563159239,
          0.006218627927666976,
          0.0062145275242959175,
          0.00620982564440935,
          0.006204436191708585,
          0.0061982614199061065,
          0.006191190569437669,
          0.006183098413310965,
          0.006173843730299783,
          0.006163267734434208,
          0.006151192503641909,
          0.006137419468000563,
          0.006121728039827879,
          0.006103874494053038,
          0.00608359123792467,
          0.006060586643496734,
          0.0060345456530091855,
          0.006005131403530934,
          0.005971988148714223,
          0.005934745775863812,
          0.00589302621713882,
          0.005846452023786669,
          0.005794657299505914,
          0.00573730106091623,
          0.005674082899711598,
          0.005604760558621791,
          0.005529168708903812,
          0.005447237853472988,
          0.005359011918792564,
          0.005264662801237353,
          0.005164499974381744,
          0.005058973318203482,
          0.00494866765747988,
          0.004834288113268317,
          0.0047166362396222,
          0.004596577935300277,
          0.0044750051326873696,
          0.004352794096759253,
          0.004230763658886859,
          0.004109636768165775,
          0.003990008359298432,
          0.0038723217931533518,
          0.0037568551724269598,
          0.003643717844484601,
          0.0035328565331022776,
          0.0034240698970207195,
          0.0033170299380867805,
          0.00321130855719108,
          0.003106407621127657,
          0.0030017910763701174,
          0.002896917845676856,
          0.002791274405736525,
          0.002684406029383835,
          0.0025759456736411165,
          0.00246563942245453,
          0.0023533672924436707,
          0.0022391581412635865,
          0.0021231974495415393,
          0.0020058269416532394,
          0.0018875354085423602,
          0.0017689406990555466,
          0.0016507636059407964,
          0.0015337951889480353,
          0.001418859814857027,
          0.0013067767110122406,
          0.0011983230137009686,
          0.0010942010963100432,
          0.0009950124132597534,
          0.0009012392938805958,
          0.0008132352095797148,
          0.0007312231689877996,
          0.0006553011929252368,
          0.000585453357772214,
          0.0005215646903691727
         ]
        }
       ],
       "layout": {
        "xaxis": {
         "title": "alpha"
        },
        "yaxis": {
         "title": "Weights"
        }
       }
      },
      "text/html": [
       "<div id=\"e4bdda7e-08b2-4b28-8015-3d14b0044dee\" style=\"height: 525px; width: 100%;\" class=\"plotly-graph-div\"></div><script type=\"text/javascript\">require([\"plotly\"], function(Plotly) { window.PLOTLYENV=window.PLOTLYENV || {};window.PLOTLYENV.BASE_URL=\"https://plot.ly\";Plotly.newPlot(\"e4bdda7e-08b2-4b28-8015-3d14b0044dee\", [{\"type\": \"scatter\", \"x\": [1e-05, 1.1497569953977357e-05, 1.3219411484660286e-05, 1.5199110829529332e-05, 1.747528400007683e-05, 2.0092330025650458e-05, 2.310129700083158e-05, 2.656087782946684e-05, 3.053855508833412e-05, 3.511191734215127e-05, 4.037017258596558e-05, 4.641588833612782e-05, 5.3366992312063123e-05, 6.135907273413175e-05, 7.054802310718646e-05, 8.111308307896872e-05, 9.326033468832199e-05, 0.00010722672220103231, 0.0001232846739442066, 0.00014174741629268049, 0.00016297508346206434, 0.0001873817422860383, 0.00021544346900318845, 0.0002477076355991711, 0.0002848035868435802, 0.00032745491628777284, 0.00037649358067924675, 0.00043287612810830614, 0.0004977023564332114, 0.0005722367659350221, 0.0006579332246575682, 0.000756463327554629, 0.0008697490026177834, 0.001, 0.0011497569953977356, 0.0013219411484660286, 0.0015199110829529332, 0.0017475284000076847, 0.002009233002565048, 0.0023101297000831605, 0.0026560877829466868, 0.0030538555088334154, 0.003511191734215131, 0.004037017258596553, 0.004641588833612782, 0.005336699231206312, 0.006135907273413176, 0.007054802310718645, 0.008111308307896872, 0.0093260334688322, 0.010722672220103232, 0.012328467394420659, 0.014174741629268049, 0.01629750834620645, 0.018738174228603847, 0.021544346900318846, 0.024770763559917114, 0.02848035868435802, 0.03274549162877728, 0.037649358067924674, 0.043287612810830614, 0.049770235643321135, 0.0572236765935022, 0.06579332246575682, 0.07564633275546291, 0.08697490026177834, 0.1, 0.11497569953977356, 0.13219411484660287, 0.1519911082952933, 0.1747528400007683, 0.2009233002565046, 0.2310129700083158, 0.26560877829466895, 0.30538555088334185, 0.35111917342151344, 0.4037017258596558, 0.4641588833612782, 0.5336699231206312, 0.6135907273413176, 0.7054802310718645, 0.8111308307896873, 0.9326033468832199, 1.072267222010323, 1.232846739442066, 1.4174741629268048, 1.6297508346206435, 1.873817422860383, 2.1544346900318865, 2.4770763559917137, 2.848035868435805, 3.2745491628777317, 3.7649358067924714, 4.328761281083062, 4.9770235643321135, 5.72236765935022, 6.5793322465756825, 7.56463327554629, 8.697490026177835, 10.0], \"line\": {\"width\": 4, \"color\": \"rgb(205, 12, 24)\"}, \"name\": \"N0\", \"y\": [9.42941585265478e-06, 9.429470110758428e-06, 9.42953248825145e-06, 9.429604199092878e-06, 9.429686638404913e-06, 9.429781409398717e-06, 9.429890354267114e-06, 9.430015589616867e-06, 9.430159547092348e-06, 9.430325019931644e-06, 9.430515216294791e-06, 9.430733820314302e-06, 9.43098506193986e-06, 9.431273796783021e-06, 9.43160559731223e-06, 9.431986856904565e-06, 9.432424908424471e-06, 9.432928159169179e-06, 9.433506244190082e-06, 9.434170200160907e-06, 9.43493266210678e-06, 9.435808085415494e-06, 9.436812995604344e-06, 9.437966268278752e-06, 9.439289441555412e-06, 9.44080706287591e-06, 9.442547071536508e-06, 9.44454121731048e-06, 9.446825514122074e-06, 9.449440725688626e-06, 9.452432877185803e-06, 9.455853783065812e-06, 9.45976157587404e-06, 9.464221213907211e-06, 9.469304936421786e-06, 9.47509262336301e-06, 9.481672001739404e-06, 9.489138622308805e-06, 9.497595507730773e-06, 9.507152346498236e-06, 9.517924075823787e-06, 9.530028661774794e-06, 9.543583847670573e-06, 9.558702604543761e-06, 9.57548698429299e-06, 9.594020052836475e-06, 9.614355575028715e-06, 9.636505145287328e-06, 9.660422519285624e-06, 9.685985014436649e-06, 9.712972019992881e-06, 9.741040895931937e-06, 9.769700838591924e-06, 9.798285631981673e-06, 9.825926552149997e-06, 9.851526997061027e-06, 9.873740614202507e-06, 9.890954731235878e-06, 9.901280717613853e-06, 9.902552510710353e-06, 9.892333975398446e-06, 9.867935136502527e-06, 9.826436781650853e-06, 9.764722648232682e-06, 9.679518529022493e-06, 9.567438235595521e-06, 9.425037425000302e-06, 9.248877685878779e-06, 9.035604748116043e-06, 8.782045888604343e-06, 8.485332156865539e-06, 8.143050511146342e-06, 7.753428924934175e-06, 7.315553663145109e-06, 6.8296120914616284e-06, 6.297146763920136e-06, 5.721297833487723e-06, 5.107002387750496e-06, 4.461113102481727e-06, 3.792397001248871e-06, 3.111380343424293e-06, 2.4300190588703402e-06, 1.761195307771704e-06, 1.1180670377589296e-06, 5.133240964428719e-07, -4.157438661121892e-08, -5.370965297791391e-07, -9.66187645516156e-07, -1.3246118466051457e-06, -1.6110531050269659e-06, -1.8269776760439116e-06, -1.976291421543186e-06, -2.0648487500919854e-06, -2.099881267238372e-06, -2.0894134978198483e-06, -2.041722514797218e-06, -1.964881827362849e-06, -1.866411571266181e-06, -1.7530403220181531e-06, -1.6305708848618803e-06]}, {\"type\": \"scatter\", \"x\": [1e-05, 1.1497569953977357e-05, 1.3219411484660286e-05, 1.5199110829529332e-05, 1.747528400007683e-05, 2.0092330025650458e-05, 2.310129700083158e-05, 2.656087782946684e-05, 3.053855508833412e-05, 3.511191734215127e-05, 4.037017258596558e-05, 4.641588833612782e-05, 5.3366992312063123e-05, 6.135907273413175e-05, 7.054802310718646e-05, 8.111308307896872e-05, 9.326033468832199e-05, 0.00010722672220103231, 0.0001232846739442066, 0.00014174741629268049, 0.00016297508346206434, 0.0001873817422860383, 0.00021544346900318845, 0.0002477076355991711, 0.0002848035868435802, 0.00032745491628777284, 0.00037649358067924675, 0.00043287612810830614, 0.0004977023564332114, 0.0005722367659350221, 0.0006579332246575682, 0.000756463327554629, 0.0008697490026177834, 0.001, 0.0011497569953977356, 0.0013219411484660286, 0.0015199110829529332, 0.0017475284000076847, 0.002009233002565048, 0.0023101297000831605, 0.0026560877829466868, 0.0030538555088334154, 0.003511191734215131, 0.004037017258596553, 0.004641588833612782, 0.005336699231206312, 0.006135907273413176, 0.007054802310718645, 0.008111308307896872, 0.0093260334688322, 0.010722672220103232, 0.012328467394420659, 0.014174741629268049, 0.01629750834620645, 0.018738174228603847, 0.021544346900318846, 0.024770763559917114, 0.02848035868435802, 0.03274549162877728, 0.037649358067924674, 0.043287612810830614, 0.049770235643321135, 0.0572236765935022, 0.06579332246575682, 0.07564633275546291, 0.08697490026177834, 0.1, 0.11497569953977356, 0.13219411484660287, 0.1519911082952933, 0.1747528400007683, 0.2009233002565046, 0.2310129700083158, 0.26560877829466895, 0.30538555088334185, 0.35111917342151344, 0.4037017258596558, 0.4641588833612782, 0.5336699231206312, 0.6135907273413176, 0.7054802310718645, 0.8111308307896873, 0.9326033468832199, 1.072267222010323, 1.232846739442066, 1.4174741629268048, 1.6297508346206435, 1.873817422860383, 2.1544346900318865, 2.4770763559917137, 2.848035868435805, 3.2745491628777317, 3.7649358067924714, 4.328761281083062, 4.9770235643321135, 5.72236765935022, 6.5793322465756825, 7.56463327554629, 8.697490026177835, 10.0], \"line\": {\"width\": 4, \"color\": \"rgb(22, 96, 17)\"}, \"name\": \"Nt\", \"y\": [-5.37173008229432e-05, -5.3419268278600586e-05, -5.307662580120245e-05, -5.268269999018521e-05, -5.222982038824507e-05, -5.170917091578749e-05, -5.111061929664619e-05, -5.042252125746938e-05, -4.963149582600793e-05, -4.8722167533353434e-05, -4.767687074278244e-05, -4.6475310668231705e-05, -4.5094174906326414e-05, -4.350668847910626e-05, -4.168210446843176e-05, -3.958512130455309e-05, -3.7175216662390586e-05, -3.440588670823654e-05, -3.12237781432354e-05, -2.7567699121820168e-05, -2.3367493705186855e-05, -1.854276309161021e-05, -1.3001415495379979e-05, -6.638025328184539e-06, 6.680186206277335e-07, 9.054596824742183e-06, 1.867919515617342e-05, 2.972151306524089e-05, 4.238636086707639e-05, 5.690685881224878e-05, 7.354794368763894e-05, 9.261017838283531e-05, 0.00011443384514838738, 0.00013940328293541007, 0.00016795140180105259, 0.00020056427125474883, 0.00023778563285619287, 0.00028022112859068485, 0.0003285419640247525, 0.00038348763802989894, 0.0004458672691310764, 0.0005165589343054525, 0.0005965063141738029, 0.0006867118178576284, 0.0007882252555164097, 0.0009021270575172953, 0.0010295050344891264, 0.0011714237674871695, 0.001328885952585499, 0.0015027854401824029, 0.001693852338949882, 0.001902591410338966, 0.0021292160392139335, 0.0023735812559744366, 0.002635120469795278, 0.002912791553515256, 0.003205038456320383, 0.0035097743654131227, 0.0038243914052090125, 0.004145799893806536, 0.0044704974001868346, 0.004794664598128081, 0.005114281700692903, 0.005425256660913654, 0.005723554852673383, 0.006005319911548696, 0.006266976839835101, 0.006505311087752457, 0.006717520617717843, 0.00690124135413298, 0.007054549380461717, 0.007175945386793962, 0.00726432801521652, 0.007318962908154254, 0.007339453585420583, 0.007325718978986437, 0.007277980772186971, 0.0071967618277225445, 0.007082895111767869, 0.006937540761017648, 0.006762207409845427, 0.006558772711900863, 0.006329497282724175, 0.006077026192869807, 0.0058043727724799744, 0.005514880905858519, 0.005212164146328511, 0.004900022668443788, 0.004582341946784475, 0.004262979652999713, 0.003945649127067828, 0.0036338085393027224, 0.003330564355545643, 0.0030385960430080166, 0.0027601064344880176, 0.0024967992753182787, 0.002249882705658699, 0.002020095186380554, 0.0018077489029013297, 0.0016127850394073466]}, {\"type\": \"scatter\", \"x\": [1e-05, 1.1497569953977357e-05, 1.3219411484660286e-05, 1.5199110829529332e-05, 1.747528400007683e-05, 2.0092330025650458e-05, 2.310129700083158e-05, 2.656087782946684e-05, 3.053855508833412e-05, 3.511191734215127e-05, 4.037017258596558e-05, 4.641588833612782e-05, 5.3366992312063123e-05, 6.135907273413175e-05, 7.054802310718646e-05, 8.111308307896872e-05, 9.326033468832199e-05, 0.00010722672220103231, 0.0001232846739442066, 0.00014174741629268049, 0.00016297508346206434, 0.0001873817422860383, 0.00021544346900318845, 0.0002477076355991711, 0.0002848035868435802, 0.00032745491628777284, 0.00037649358067924675, 0.00043287612810830614, 0.0004977023564332114, 0.0005722367659350221, 0.0006579332246575682, 0.000756463327554629, 0.0008697490026177834, 0.001, 0.0011497569953977356, 0.0013219411484660286, 0.0015199110829529332, 0.0017475284000076847, 0.002009233002565048, 0.0023101297000831605, 0.0026560877829466868, 0.0030538555088334154, 0.003511191734215131, 0.004037017258596553, 0.004641588833612782, 0.005336699231206312, 0.006135907273413176, 0.007054802310718645, 0.008111308307896872, 0.0093260334688322, 0.010722672220103232, 0.012328467394420659, 0.014174741629268049, 0.01629750834620645, 0.018738174228603847, 0.021544346900318846, 0.024770763559917114, 0.02848035868435802, 0.03274549162877728, 0.037649358067924674, 0.043287612810830614, 0.049770235643321135, 0.0572236765935022, 0.06579332246575682, 0.07564633275546291, 0.08697490026177834, 0.1, 0.11497569953977356, 0.13219411484660287, 0.1519911082952933, 0.1747528400007683, 0.2009233002565046, 0.2310129700083158, 0.26560877829466895, 0.30538555088334185, 0.35111917342151344, 0.4037017258596558, 0.4641588833612782, 0.5336699231206312, 0.6135907273413176, 0.7054802310718645, 0.8111308307896873, 0.9326033468832199, 1.072267222010323, 1.232846739442066, 1.4174741629268048, 1.6297508346206435, 1.873817422860383, 2.1544346900318865, 2.4770763559917137, 2.848035868435805, 3.2745491628777317, 3.7649358067924714, 4.328761281083062, 4.9770235643321135, 5.72236765935022, 6.5793322465756825, 7.56463327554629, 8.697490026177835, 10.0], \"line\": {\"dash\": \"dash\", \"width\": 4, \"color\": \"rgb(205, 0, 24)\"}, \"name\": \"pH\", \"y\": [-2.488246994824671e-06, -2.4905582598113286e-06, -2.493215483065699e-06, -2.4962704196040663e-06, -2.499782557538165e-06, -2.5038202705011052e-06, -2.5084621408464765e-06, -2.5137984786062835e-06, -2.5199330647458586e-06, -2.5269851513015735e-06, -2.535091755522164e-06, -2.5444102902715575e-06, -2.5551215787141682e-06, -2.5674333077542485e-06, -2.581583981859732e-06, -2.5978474468671744e-06, -2.616538062057272e-06, -2.6380166082993517e-06, -2.662697030275515e-06, -2.6910541216118816e-06, -2.7236322730161315e-06, -2.7610554148746314e-06, -2.8040382968567693e-06, -2.8533992571304255e-06, -2.910074642016795e-06, -2.975135041957022e-06, -3.0498035098834786e-06, -3.1354759211294737e-06, -3.2337436169835017e-06, -3.346418442917264e-06, -3.475560242509035e-06, -3.6235067929098927e-06, -3.7929060597053787e-06, -3.986750498966564e-06, -4.208412931336206e-06, -4.461683244824516e-06, -4.750804836401255e-06, -5.080509264120067e-06, -5.456047039870475e-06, -5.883211840595271e-06, -6.368354654006526e-06, -6.918383518307926e-06, -7.5407436001511414e-06, -8.24337144704224e-06, -9.034616455525685e-06, -9.923122069844179e-06, -1.091765917764497e-05, -1.202690486322891e-05, -1.325916141639126e-05, -1.462201357944322e-05, -1.6121926689300132e-05, -1.7763794726144853e-05, -1.955045513938343e-05, -2.148219612623588e-05, -2.3556290761863818e-05, -2.576659952809514e-05, -2.8103286535548688e-05, -3.0552693232928176e-05, -3.3097405240040104e-05, -3.5716532694463845e-05, -3.838620314980691e-05, -4.1080241167379185e-05, -4.377098416633687e-05, -4.643016427447511e-05, -4.902977482903589e-05, -5.154284031286574e-05, -5.394402023701417e-05, -5.620999895296095e-05, -5.831964108838215e-05, -6.0253922007190404e-05, -6.199567039278491e-05, -6.352918266992413e-05, -6.483978461963129e-05, -6.591342331059166e-05, -6.67363720727023e-05, -6.729512258202745e-05, -6.757652116738023e-05, -6.756818137131433e-05, -6.725917248851303e-05, -6.664094642595678e-05, -6.570842661274212e-05, -6.446114824617061e-05, -6.290431516268606e-05, -6.104963088097613e-05, -5.891577366640194e-05, -5.652841822531483e-05, -5.3919756268009496e-05, -5.1127527465991146e-05, -4.819363177906444e-05, -4.516244395120227e-05, -4.20789831826641e-05, -3.898710105328816e-05, -3.5927838447147225e-05, -3.2938071323218784e-05, -3.0049522432628513e-05, -2.7288169477153676e-05, -2.4674037176220013e-05, -2.222132678263763e-05, -1.9938814663157627e-05, -1.7830441945224496e-05]}, {\"type\": \"scatter\", \"x\": [1e-05, 1.1497569953977357e-05, 1.3219411484660286e-05, 1.5199110829529332e-05, 1.747528400007683e-05, 2.0092330025650458e-05, 2.310129700083158e-05, 2.656087782946684e-05, 3.053855508833412e-05, 3.511191734215127e-05, 4.037017258596558e-05, 4.641588833612782e-05, 5.3366992312063123e-05, 6.135907273413175e-05, 7.054802310718646e-05, 8.111308307896872e-05, 9.326033468832199e-05, 0.00010722672220103231, 0.0001232846739442066, 0.00014174741629268049, 0.00016297508346206434, 0.0001873817422860383, 0.00021544346900318845, 0.0002477076355991711, 0.0002848035868435802, 0.00032745491628777284, 0.00037649358067924675, 0.00043287612810830614, 0.0004977023564332114, 0.0005722367659350221, 0.0006579332246575682, 0.000756463327554629, 0.0008697490026177834, 0.001, 0.0011497569953977356, 0.0013219411484660286, 0.0015199110829529332, 0.0017475284000076847, 0.002009233002565048, 0.0023101297000831605, 0.0026560877829466868, 0.0030538555088334154, 0.003511191734215131, 0.004037017258596553, 0.004641588833612782, 0.005336699231206312, 0.006135907273413176, 0.007054802310718645, 0.008111308307896872, 0.0093260334688322, 0.010722672220103232, 0.012328467394420659, 0.014174741629268049, 0.01629750834620645, 0.018738174228603847, 0.021544346900318846, 0.024770763559917114, 0.02848035868435802, 0.03274549162877728, 0.037649358067924674, 0.043287612810830614, 0.049770235643321135, 0.0572236765935022, 0.06579332246575682, 0.07564633275546291, 0.08697490026177834, 0.1, 0.11497569953977356, 0.13219411484660287, 0.1519911082952933, 0.1747528400007683, 0.2009233002565046, 0.2310129700083158, 0.26560877829466895, 0.30538555088334185, 0.35111917342151344, 0.4037017258596558, 0.4641588833612782, 0.5336699231206312, 0.6135907273413176, 0.7054802310718645, 0.8111308307896873, 0.9326033468832199, 1.072267222010323, 1.232846739442066, 1.4174741629268048, 1.6297508346206435, 1.873817422860383, 2.1544346900318865, 2.4770763559917137, 2.848035868435805, 3.2745491628777317, 3.7649358067924714, 4.328761281083062, 4.9770235643321135, 5.72236765935022, 6.5793322465756825, 7.56463327554629, 8.697490026177835, 10.0], \"line\": {\"dash\": \"dash\", \"width\": 4, \"color\": \"rgb(220, 96, 167)\"}, \"name\": \"Petal Count\", \"y\": [-8.951169001314314e-05, -8.952717766233283e-05, -8.954498392599903e-05, -8.956545578528838e-05, -8.958899210456251e-05, -8.961605137563772e-05, -8.964716061355164e-05, -8.968292557371268e-05, -8.972404248467907e-05, -8.977131151910502e-05, -8.982565225696615e-05, -8.988812143143833e-05, -8.995993328863821e-05, -9.004248293877995e-05, -9.01373731281952e-05, -9.024644492035094e-05, -9.037181283916102e-05, -9.051590510080315e-05, -9.068150964058105e-05, -9.087182672975443e-05, -9.109052907341577e-05, -9.134183038382163e-05, -9.163056353346385e-05, -9.196226950613365e-05, -9.234329848013235e-05, -9.278092449080371e-05, -9.328347522402678e-05, -9.386047857939484e-05, -9.452282770039181e-05, -9.5282966183436e-05, -9.615509512832696e-05, -9.715540355401383e-05, -9.830232344374983e-05, -9.961681026336048e-05, -0.00010112264916923646, -0.00010284678623456283, -0.00010481968281459233, -0.00010707568958307677, -0.00010965343474637876, -0.00011259621843829143, -0.00011595240230797893, -0.00011977577987966746, -0.0001241259095133772, -0.00012906838797808266, -0.00013467503916722595, -0.00014102398994243146, -0.00014819960430029446, -0.0001562922490366735, -0.00016539786997833944, -0.00017561736877065833, -0.0001870557869430386, -0.0001998213265886615, -0.00021402426433349918, -0.00022977584443600966, -0.000247187262858734, -0.00026636886990511583, -0.000287429715980293, -0.00031047753461301415, -0.0003356191925242385, -0.0003629615362393734, -0.0003926124332070898, -0.00042468165503028023, -0.0004592811006356145, -0.000496523731761742, -0.0005365205162808888, -0.0005793746674867779, -0.0006251725446589131, -0.0006739707508221434, -0.0007257792317296872, -0.0007805405467250432, -0.0008381059453772191, -0.0008982094356170229, -0.0009604416483569393, -0.0010242259461980755, -0.0010887998135379736, -0.001153204989391554, -0.001216289919252121, -0.0012767277553927443, -0.0013330522001410313, -0.0013837119128124141, -0.0014271420599490537, -0.001461849105405797, -0.0014865024849447842, -0.001500024858246229, -0.0015016716466632661, -0.0014910908910616169, -0.0014683562095351974, -0.001433968612569529, -0.0013888266758327044, -0.0013341684263527467, -0.0012714915824557271, -0.0012024609490346662, -0.0011288125116336765, -0.0010522631066831253, -0.0009744327553626637, -0.000896784292688993, -0.0008205823044531086, -0.000746871035077592, -0.0006764691373812144, -0.0006099780218510036]}, {\"type\": \"scatter\", \"x\": [1e-05, 1.1497569953977357e-05, 1.3219411484660286e-05, 1.5199110829529332e-05, 1.747528400007683e-05, 2.0092330025650458e-05, 2.310129700083158e-05, 2.656087782946684e-05, 3.053855508833412e-05, 3.511191734215127e-05, 4.037017258596558e-05, 4.641588833612782e-05, 5.3366992312063123e-05, 6.135907273413175e-05, 7.054802310718646e-05, 8.111308307896872e-05, 9.326033468832199e-05, 0.00010722672220103231, 0.0001232846739442066, 0.00014174741629268049, 0.00016297508346206434, 0.0001873817422860383, 0.00021544346900318845, 0.0002477076355991711, 0.0002848035868435802, 0.00032745491628777284, 0.00037649358067924675, 0.00043287612810830614, 0.0004977023564332114, 0.0005722367659350221, 0.0006579332246575682, 0.000756463327554629, 0.0008697490026177834, 0.001, 0.0011497569953977356, 0.0013219411484660286, 0.0015199110829529332, 0.0017475284000076847, 0.002009233002565048, 0.0023101297000831605, 0.0026560877829466868, 0.0030538555088334154, 0.003511191734215131, 0.004037017258596553, 0.004641588833612782, 0.005336699231206312, 0.006135907273413176, 0.007054802310718645, 0.008111308307896872, 0.0093260334688322, 0.010722672220103232, 0.012328467394420659, 0.014174741629268049, 0.01629750834620645, 0.018738174228603847, 0.021544346900318846, 0.024770763559917114, 0.02848035868435802, 0.03274549162877728, 0.037649358067924674, 0.043287612810830614, 0.049770235643321135, 0.0572236765935022, 0.06579332246575682, 0.07564633275546291, 0.08697490026177834, 0.1, 0.11497569953977356, 0.13219411484660287, 0.1519911082952933, 0.1747528400007683, 0.2009233002565046, 0.2310129700083158, 0.26560877829466895, 0.30538555088334185, 0.35111917342151344, 0.4037017258596558, 0.4641588833612782, 0.5336699231206312, 0.6135907273413176, 0.7054802310718645, 0.8111308307896873, 0.9326033468832199, 1.072267222010323, 1.232846739442066, 1.4174741629268048, 1.6297508346206435, 1.873817422860383, 2.1544346900318865, 2.4770763559917137, 2.848035868435805, 3.2745491628777317, 3.7649358067924714, 4.328761281083062, 4.9770235643321135, 5.72236765935022, 6.5793322465756825, 7.56463327554629, 8.697490026177835, 10.0], \"line\": {\"width\": 4, \"color\": \"rgb(10, 80, 140)\"}, \"name\": \"logNt\", \"y\": [0.006245628502999701, 0.0062455321026581466, 0.00624542127260645, 0.006245293854120043, 0.0062451473659060905, 0.006244978956027088, 0.006244785346698382, 0.00624456277091645, 0.006244306899726215, 0.0062440127587663945, 0.006243674632542152, 0.006243285954659243, 0.006242839182012437, 0.006242325650650534, 0.006241735410739945, 0.00624105703771402, 0.006240277416329716, 0.006239381493952257, 0.0062383519989570955, 0.006237169119680032, 0.006235810138866757, 0.006234249018086966, 0.006232455926099143, 0.006230396704711198, 0.006228032265311063, 0.006225317908994347, 0.006222202563159239, 0.006218627927666976, 0.0062145275242959175, 0.00620982564440935, 0.006204436191708585, 0.0061982614199061065, 0.006191190569437669, 0.006183098413310965, 0.006173843730299783, 0.006163267734434208, 0.006151192503641909, 0.006137419468000563, 0.006121728039827879, 0.006103874494053038, 0.00608359123792467, 0.006060586643496734, 0.0060345456530091855, 0.006005131403530934, 0.005971988148714223, 0.005934745775863812, 0.00589302621713882, 0.005846452023786669, 0.005794657299505914, 0.00573730106091623, 0.005674082899711598, 0.005604760558621791, 0.005529168708903812, 0.005447237853472988, 0.005359011918792564, 0.005264662801237353, 0.005164499974381744, 0.005058973318203482, 0.00494866765747988, 0.004834288113268317, 0.0047166362396222, 0.004596577935300277, 0.0044750051326873696, 0.004352794096759253, 0.004230763658886859, 0.004109636768165775, 0.003990008359298432, 0.0038723217931533518, 0.0037568551724269598, 0.003643717844484601, 0.0035328565331022776, 0.0034240698970207195, 0.0033170299380867805, 0.00321130855719108, 0.003106407621127657, 0.0030017910763701174, 0.002896917845676856, 0.002791274405736525, 0.002684406029383835, 0.0025759456736411165, 0.00246563942245453, 0.0023533672924436707, 0.0022391581412635865, 0.0021231974495415393, 0.0020058269416532394, 0.0018875354085423602, 0.0017689406990555466, 0.0016507636059407964, 0.0015337951889480353, 0.001418859814857027, 0.0013067767110122406, 0.0011983230137009686, 0.0010942010963100432, 0.0009950124132597534, 0.0009012392938805958, 0.0008132352095797148, 0.0007312231689877996, 0.0006553011929252368, 0.000585453357772214, 0.0005215646903691727]}], {\"xaxis\": {\"title\": \"alpha\"}, \"yaxis\": {\"title\": \"Weights\"}}, {\"showLink\": true, \"linkText\": \"Export to plot.ly\"})});</script>"
      ],
      "text/vnd.plotly.v1+html": [
       "<div id=\"e4bdda7e-08b2-4b28-8015-3d14b0044dee\" style=\"height: 525px; width: 100%;\" class=\"plotly-graph-div\"></div><script type=\"text/javascript\">require([\"plotly\"], function(Plotly) { window.PLOTLYENV=window.PLOTLYENV || {};window.PLOTLYENV.BASE_URL=\"https://plot.ly\";Plotly.newPlot(\"e4bdda7e-08b2-4b28-8015-3d14b0044dee\", [{\"type\": \"scatter\", \"x\": [1e-05, 1.1497569953977357e-05, 1.3219411484660286e-05, 1.5199110829529332e-05, 1.747528400007683e-05, 2.0092330025650458e-05, 2.310129700083158e-05, 2.656087782946684e-05, 3.053855508833412e-05, 3.511191734215127e-05, 4.037017258596558e-05, 4.641588833612782e-05, 5.3366992312063123e-05, 6.135907273413175e-05, 7.054802310718646e-05, 8.111308307896872e-05, 9.326033468832199e-05, 0.00010722672220103231, 0.0001232846739442066, 0.00014174741629268049, 0.00016297508346206434, 0.0001873817422860383, 0.00021544346900318845, 0.0002477076355991711, 0.0002848035868435802, 0.00032745491628777284, 0.00037649358067924675, 0.00043287612810830614, 0.0004977023564332114, 0.0005722367659350221, 0.0006579332246575682, 0.000756463327554629, 0.0008697490026177834, 0.001, 0.0011497569953977356, 0.0013219411484660286, 0.0015199110829529332, 0.0017475284000076847, 0.002009233002565048, 0.0023101297000831605, 0.0026560877829466868, 0.0030538555088334154, 0.003511191734215131, 0.004037017258596553, 0.004641588833612782, 0.005336699231206312, 0.006135907273413176, 0.007054802310718645, 0.008111308307896872, 0.0093260334688322, 0.010722672220103232, 0.012328467394420659, 0.014174741629268049, 0.01629750834620645, 0.018738174228603847, 0.021544346900318846, 0.024770763559917114, 0.02848035868435802, 0.03274549162877728, 0.037649358067924674, 0.043287612810830614, 0.049770235643321135, 0.0572236765935022, 0.06579332246575682, 0.07564633275546291, 0.08697490026177834, 0.1, 0.11497569953977356, 0.13219411484660287, 0.1519911082952933, 0.1747528400007683, 0.2009233002565046, 0.2310129700083158, 0.26560877829466895, 0.30538555088334185, 0.35111917342151344, 0.4037017258596558, 0.4641588833612782, 0.5336699231206312, 0.6135907273413176, 0.7054802310718645, 0.8111308307896873, 0.9326033468832199, 1.072267222010323, 1.232846739442066, 1.4174741629268048, 1.6297508346206435, 1.873817422860383, 2.1544346900318865, 2.4770763559917137, 2.848035868435805, 3.2745491628777317, 3.7649358067924714, 4.328761281083062, 4.9770235643321135, 5.72236765935022, 6.5793322465756825, 7.56463327554629, 8.697490026177835, 10.0], \"line\": {\"width\": 4, \"color\": \"rgb(205, 12, 24)\"}, \"name\": \"N0\", \"y\": [9.42941585265478e-06, 9.429470110758428e-06, 9.42953248825145e-06, 9.429604199092878e-06, 9.429686638404913e-06, 9.429781409398717e-06, 9.429890354267114e-06, 9.430015589616867e-06, 9.430159547092348e-06, 9.430325019931644e-06, 9.430515216294791e-06, 9.430733820314302e-06, 9.43098506193986e-06, 9.431273796783021e-06, 9.43160559731223e-06, 9.431986856904565e-06, 9.432424908424471e-06, 9.432928159169179e-06, 9.433506244190082e-06, 9.434170200160907e-06, 9.43493266210678e-06, 9.435808085415494e-06, 9.436812995604344e-06, 9.437966268278752e-06, 9.439289441555412e-06, 9.44080706287591e-06, 9.442547071536508e-06, 9.44454121731048e-06, 9.446825514122074e-06, 9.449440725688626e-06, 9.452432877185803e-06, 9.455853783065812e-06, 9.45976157587404e-06, 9.464221213907211e-06, 9.469304936421786e-06, 9.47509262336301e-06, 9.481672001739404e-06, 9.489138622308805e-06, 9.497595507730773e-06, 9.507152346498236e-06, 9.517924075823787e-06, 9.530028661774794e-06, 9.543583847670573e-06, 9.558702604543761e-06, 9.57548698429299e-06, 9.594020052836475e-06, 9.614355575028715e-06, 9.636505145287328e-06, 9.660422519285624e-06, 9.685985014436649e-06, 9.712972019992881e-06, 9.741040895931937e-06, 9.769700838591924e-06, 9.798285631981673e-06, 9.825926552149997e-06, 9.851526997061027e-06, 9.873740614202507e-06, 9.890954731235878e-06, 9.901280717613853e-06, 9.902552510710353e-06, 9.892333975398446e-06, 9.867935136502527e-06, 9.826436781650853e-06, 9.764722648232682e-06, 9.679518529022493e-06, 9.567438235595521e-06, 9.425037425000302e-06, 9.248877685878779e-06, 9.035604748116043e-06, 8.782045888604343e-06, 8.485332156865539e-06, 8.143050511146342e-06, 7.753428924934175e-06, 7.315553663145109e-06, 6.8296120914616284e-06, 6.297146763920136e-06, 5.721297833487723e-06, 5.107002387750496e-06, 4.461113102481727e-06, 3.792397001248871e-06, 3.111380343424293e-06, 2.4300190588703402e-06, 1.761195307771704e-06, 1.1180670377589296e-06, 5.133240964428719e-07, -4.157438661121892e-08, -5.370965297791391e-07, -9.66187645516156e-07, -1.3246118466051457e-06, -1.6110531050269659e-06, -1.8269776760439116e-06, -1.976291421543186e-06, -2.0648487500919854e-06, -2.099881267238372e-06, -2.0894134978198483e-06, -2.041722514797218e-06, -1.964881827362849e-06, -1.866411571266181e-06, -1.7530403220181531e-06, -1.6305708848618803e-06]}, {\"type\": \"scatter\", \"x\": [1e-05, 1.1497569953977357e-05, 1.3219411484660286e-05, 1.5199110829529332e-05, 1.747528400007683e-05, 2.0092330025650458e-05, 2.310129700083158e-05, 2.656087782946684e-05, 3.053855508833412e-05, 3.511191734215127e-05, 4.037017258596558e-05, 4.641588833612782e-05, 5.3366992312063123e-05, 6.135907273413175e-05, 7.054802310718646e-05, 8.111308307896872e-05, 9.326033468832199e-05, 0.00010722672220103231, 0.0001232846739442066, 0.00014174741629268049, 0.00016297508346206434, 0.0001873817422860383, 0.00021544346900318845, 0.0002477076355991711, 0.0002848035868435802, 0.00032745491628777284, 0.00037649358067924675, 0.00043287612810830614, 0.0004977023564332114, 0.0005722367659350221, 0.0006579332246575682, 0.000756463327554629, 0.0008697490026177834, 0.001, 0.0011497569953977356, 0.0013219411484660286, 0.0015199110829529332, 0.0017475284000076847, 0.002009233002565048, 0.0023101297000831605, 0.0026560877829466868, 0.0030538555088334154, 0.003511191734215131, 0.004037017258596553, 0.004641588833612782, 0.005336699231206312, 0.006135907273413176, 0.007054802310718645, 0.008111308307896872, 0.0093260334688322, 0.010722672220103232, 0.012328467394420659, 0.014174741629268049, 0.01629750834620645, 0.018738174228603847, 0.021544346900318846, 0.024770763559917114, 0.02848035868435802, 0.03274549162877728, 0.037649358067924674, 0.043287612810830614, 0.049770235643321135, 0.0572236765935022, 0.06579332246575682, 0.07564633275546291, 0.08697490026177834, 0.1, 0.11497569953977356, 0.13219411484660287, 0.1519911082952933, 0.1747528400007683, 0.2009233002565046, 0.2310129700083158, 0.26560877829466895, 0.30538555088334185, 0.35111917342151344, 0.4037017258596558, 0.4641588833612782, 0.5336699231206312, 0.6135907273413176, 0.7054802310718645, 0.8111308307896873, 0.9326033468832199, 1.072267222010323, 1.232846739442066, 1.4174741629268048, 1.6297508346206435, 1.873817422860383, 2.1544346900318865, 2.4770763559917137, 2.848035868435805, 3.2745491628777317, 3.7649358067924714, 4.328761281083062, 4.9770235643321135, 5.72236765935022, 6.5793322465756825, 7.56463327554629, 8.697490026177835, 10.0], \"line\": {\"width\": 4, \"color\": \"rgb(22, 96, 17)\"}, \"name\": \"Nt\", \"y\": [-5.37173008229432e-05, -5.3419268278600586e-05, -5.307662580120245e-05, -5.268269999018521e-05, -5.222982038824507e-05, -5.170917091578749e-05, -5.111061929664619e-05, -5.042252125746938e-05, -4.963149582600793e-05, -4.8722167533353434e-05, -4.767687074278244e-05, -4.6475310668231705e-05, -4.5094174906326414e-05, -4.350668847910626e-05, -4.168210446843176e-05, -3.958512130455309e-05, -3.7175216662390586e-05, -3.440588670823654e-05, -3.12237781432354e-05, -2.7567699121820168e-05, -2.3367493705186855e-05, -1.854276309161021e-05, -1.3001415495379979e-05, -6.638025328184539e-06, 6.680186206277335e-07, 9.054596824742183e-06, 1.867919515617342e-05, 2.972151306524089e-05, 4.238636086707639e-05, 5.690685881224878e-05, 7.354794368763894e-05, 9.261017838283531e-05, 0.00011443384514838738, 0.00013940328293541007, 0.00016795140180105259, 0.00020056427125474883, 0.00023778563285619287, 0.00028022112859068485, 0.0003285419640247525, 0.00038348763802989894, 0.0004458672691310764, 0.0005165589343054525, 0.0005965063141738029, 0.0006867118178576284, 0.0007882252555164097, 0.0009021270575172953, 0.0010295050344891264, 0.0011714237674871695, 0.001328885952585499, 0.0015027854401824029, 0.001693852338949882, 0.001902591410338966, 0.0021292160392139335, 0.0023735812559744366, 0.002635120469795278, 0.002912791553515256, 0.003205038456320383, 0.0035097743654131227, 0.0038243914052090125, 0.004145799893806536, 0.0044704974001868346, 0.004794664598128081, 0.005114281700692903, 0.005425256660913654, 0.005723554852673383, 0.006005319911548696, 0.006266976839835101, 0.006505311087752457, 0.006717520617717843, 0.00690124135413298, 0.007054549380461717, 0.007175945386793962, 0.00726432801521652, 0.007318962908154254, 0.007339453585420583, 0.007325718978986437, 0.007277980772186971, 0.0071967618277225445, 0.007082895111767869, 0.006937540761017648, 0.006762207409845427, 0.006558772711900863, 0.006329497282724175, 0.006077026192869807, 0.0058043727724799744, 0.005514880905858519, 0.005212164146328511, 0.004900022668443788, 0.004582341946784475, 0.004262979652999713, 0.003945649127067828, 0.0036338085393027224, 0.003330564355545643, 0.0030385960430080166, 0.0027601064344880176, 0.0024967992753182787, 0.002249882705658699, 0.002020095186380554, 0.0018077489029013297, 0.0016127850394073466]}, {\"type\": \"scatter\", \"x\": [1e-05, 1.1497569953977357e-05, 1.3219411484660286e-05, 1.5199110829529332e-05, 1.747528400007683e-05, 2.0092330025650458e-05, 2.310129700083158e-05, 2.656087782946684e-05, 3.053855508833412e-05, 3.511191734215127e-05, 4.037017258596558e-05, 4.641588833612782e-05, 5.3366992312063123e-05, 6.135907273413175e-05, 7.054802310718646e-05, 8.111308307896872e-05, 9.326033468832199e-05, 0.00010722672220103231, 0.0001232846739442066, 0.00014174741629268049, 0.00016297508346206434, 0.0001873817422860383, 0.00021544346900318845, 0.0002477076355991711, 0.0002848035868435802, 0.00032745491628777284, 0.00037649358067924675, 0.00043287612810830614, 0.0004977023564332114, 0.0005722367659350221, 0.0006579332246575682, 0.000756463327554629, 0.0008697490026177834, 0.001, 0.0011497569953977356, 0.0013219411484660286, 0.0015199110829529332, 0.0017475284000076847, 0.002009233002565048, 0.0023101297000831605, 0.0026560877829466868, 0.0030538555088334154, 0.003511191734215131, 0.004037017258596553, 0.004641588833612782, 0.005336699231206312, 0.006135907273413176, 0.007054802310718645, 0.008111308307896872, 0.0093260334688322, 0.010722672220103232, 0.012328467394420659, 0.014174741629268049, 0.01629750834620645, 0.018738174228603847, 0.021544346900318846, 0.024770763559917114, 0.02848035868435802, 0.03274549162877728, 0.037649358067924674, 0.043287612810830614, 0.049770235643321135, 0.0572236765935022, 0.06579332246575682, 0.07564633275546291, 0.08697490026177834, 0.1, 0.11497569953977356, 0.13219411484660287, 0.1519911082952933, 0.1747528400007683, 0.2009233002565046, 0.2310129700083158, 0.26560877829466895, 0.30538555088334185, 0.35111917342151344, 0.4037017258596558, 0.4641588833612782, 0.5336699231206312, 0.6135907273413176, 0.7054802310718645, 0.8111308307896873, 0.9326033468832199, 1.072267222010323, 1.232846739442066, 1.4174741629268048, 1.6297508346206435, 1.873817422860383, 2.1544346900318865, 2.4770763559917137, 2.848035868435805, 3.2745491628777317, 3.7649358067924714, 4.328761281083062, 4.9770235643321135, 5.72236765935022, 6.5793322465756825, 7.56463327554629, 8.697490026177835, 10.0], \"line\": {\"dash\": \"dash\", \"width\": 4, \"color\": \"rgb(205, 0, 24)\"}, \"name\": \"pH\", \"y\": [-2.488246994824671e-06, -2.4905582598113286e-06, -2.493215483065699e-06, -2.4962704196040663e-06, -2.499782557538165e-06, -2.5038202705011052e-06, -2.5084621408464765e-06, -2.5137984786062835e-06, -2.5199330647458586e-06, -2.5269851513015735e-06, -2.535091755522164e-06, -2.5444102902715575e-06, -2.5551215787141682e-06, -2.5674333077542485e-06, -2.581583981859732e-06, -2.5978474468671744e-06, -2.616538062057272e-06, -2.6380166082993517e-06, -2.662697030275515e-06, -2.6910541216118816e-06, -2.7236322730161315e-06, -2.7610554148746314e-06, -2.8040382968567693e-06, -2.8533992571304255e-06, -2.910074642016795e-06, -2.975135041957022e-06, -3.0498035098834786e-06, -3.1354759211294737e-06, -3.2337436169835017e-06, -3.346418442917264e-06, -3.475560242509035e-06, -3.6235067929098927e-06, -3.7929060597053787e-06, -3.986750498966564e-06, -4.208412931336206e-06, -4.461683244824516e-06, -4.750804836401255e-06, -5.080509264120067e-06, -5.456047039870475e-06, -5.883211840595271e-06, -6.368354654006526e-06, -6.918383518307926e-06, -7.5407436001511414e-06, -8.24337144704224e-06, -9.034616455525685e-06, -9.923122069844179e-06, -1.091765917764497e-05, -1.202690486322891e-05, -1.325916141639126e-05, -1.462201357944322e-05, -1.6121926689300132e-05, -1.7763794726144853e-05, -1.955045513938343e-05, -2.148219612623588e-05, -2.3556290761863818e-05, -2.576659952809514e-05, -2.8103286535548688e-05, -3.0552693232928176e-05, -3.3097405240040104e-05, -3.5716532694463845e-05, -3.838620314980691e-05, -4.1080241167379185e-05, -4.377098416633687e-05, -4.643016427447511e-05, -4.902977482903589e-05, -5.154284031286574e-05, -5.394402023701417e-05, -5.620999895296095e-05, -5.831964108838215e-05, -6.0253922007190404e-05, -6.199567039278491e-05, -6.352918266992413e-05, -6.483978461963129e-05, -6.591342331059166e-05, -6.67363720727023e-05, -6.729512258202745e-05, -6.757652116738023e-05, -6.756818137131433e-05, -6.725917248851303e-05, -6.664094642595678e-05, -6.570842661274212e-05, -6.446114824617061e-05, -6.290431516268606e-05, -6.104963088097613e-05, -5.891577366640194e-05, -5.652841822531483e-05, -5.3919756268009496e-05, -5.1127527465991146e-05, -4.819363177906444e-05, -4.516244395120227e-05, -4.20789831826641e-05, -3.898710105328816e-05, -3.5927838447147225e-05, -3.2938071323218784e-05, -3.0049522432628513e-05, -2.7288169477153676e-05, -2.4674037176220013e-05, -2.222132678263763e-05, -1.9938814663157627e-05, -1.7830441945224496e-05]}, {\"type\": \"scatter\", \"x\": [1e-05, 1.1497569953977357e-05, 1.3219411484660286e-05, 1.5199110829529332e-05, 1.747528400007683e-05, 2.0092330025650458e-05, 2.310129700083158e-05, 2.656087782946684e-05, 3.053855508833412e-05, 3.511191734215127e-05, 4.037017258596558e-05, 4.641588833612782e-05, 5.3366992312063123e-05, 6.135907273413175e-05, 7.054802310718646e-05, 8.111308307896872e-05, 9.326033468832199e-05, 0.00010722672220103231, 0.0001232846739442066, 0.00014174741629268049, 0.00016297508346206434, 0.0001873817422860383, 0.00021544346900318845, 0.0002477076355991711, 0.0002848035868435802, 0.00032745491628777284, 0.00037649358067924675, 0.00043287612810830614, 0.0004977023564332114, 0.0005722367659350221, 0.0006579332246575682, 0.000756463327554629, 0.0008697490026177834, 0.001, 0.0011497569953977356, 0.0013219411484660286, 0.0015199110829529332, 0.0017475284000076847, 0.002009233002565048, 0.0023101297000831605, 0.0026560877829466868, 0.0030538555088334154, 0.003511191734215131, 0.004037017258596553, 0.004641588833612782, 0.005336699231206312, 0.006135907273413176, 0.007054802310718645, 0.008111308307896872, 0.0093260334688322, 0.010722672220103232, 0.012328467394420659, 0.014174741629268049, 0.01629750834620645, 0.018738174228603847, 0.021544346900318846, 0.024770763559917114, 0.02848035868435802, 0.03274549162877728, 0.037649358067924674, 0.043287612810830614, 0.049770235643321135, 0.0572236765935022, 0.06579332246575682, 0.07564633275546291, 0.08697490026177834, 0.1, 0.11497569953977356, 0.13219411484660287, 0.1519911082952933, 0.1747528400007683, 0.2009233002565046, 0.2310129700083158, 0.26560877829466895, 0.30538555088334185, 0.35111917342151344, 0.4037017258596558, 0.4641588833612782, 0.5336699231206312, 0.6135907273413176, 0.7054802310718645, 0.8111308307896873, 0.9326033468832199, 1.072267222010323, 1.232846739442066, 1.4174741629268048, 1.6297508346206435, 1.873817422860383, 2.1544346900318865, 2.4770763559917137, 2.848035868435805, 3.2745491628777317, 3.7649358067924714, 4.328761281083062, 4.9770235643321135, 5.72236765935022, 6.5793322465756825, 7.56463327554629, 8.697490026177835, 10.0], \"line\": {\"dash\": \"dash\", \"width\": 4, \"color\": \"rgb(220, 96, 167)\"}, \"name\": \"Petal Count\", \"y\": [-8.951169001314314e-05, -8.952717766233283e-05, -8.954498392599903e-05, -8.956545578528838e-05, -8.958899210456251e-05, -8.961605137563772e-05, -8.964716061355164e-05, -8.968292557371268e-05, -8.972404248467907e-05, -8.977131151910502e-05, -8.982565225696615e-05, -8.988812143143833e-05, -8.995993328863821e-05, -9.004248293877995e-05, -9.01373731281952e-05, -9.024644492035094e-05, -9.037181283916102e-05, -9.051590510080315e-05, -9.068150964058105e-05, -9.087182672975443e-05, -9.109052907341577e-05, -9.134183038382163e-05, -9.163056353346385e-05, -9.196226950613365e-05, -9.234329848013235e-05, -9.278092449080371e-05, -9.328347522402678e-05, -9.386047857939484e-05, -9.452282770039181e-05, -9.5282966183436e-05, -9.615509512832696e-05, -9.715540355401383e-05, -9.830232344374983e-05, -9.961681026336048e-05, -0.00010112264916923646, -0.00010284678623456283, -0.00010481968281459233, -0.00010707568958307677, -0.00010965343474637876, -0.00011259621843829143, -0.00011595240230797893, -0.00011977577987966746, -0.0001241259095133772, -0.00012906838797808266, -0.00013467503916722595, -0.00014102398994243146, -0.00014819960430029446, -0.0001562922490366735, -0.00016539786997833944, -0.00017561736877065833, -0.0001870557869430386, -0.0001998213265886615, -0.00021402426433349918, -0.00022977584443600966, -0.000247187262858734, -0.00026636886990511583, -0.000287429715980293, -0.00031047753461301415, -0.0003356191925242385, -0.0003629615362393734, -0.0003926124332070898, -0.00042468165503028023, -0.0004592811006356145, -0.000496523731761742, -0.0005365205162808888, -0.0005793746674867779, -0.0006251725446589131, -0.0006739707508221434, -0.0007257792317296872, -0.0007805405467250432, -0.0008381059453772191, -0.0008982094356170229, -0.0009604416483569393, -0.0010242259461980755, -0.0010887998135379736, -0.001153204989391554, -0.001216289919252121, -0.0012767277553927443, -0.0013330522001410313, -0.0013837119128124141, -0.0014271420599490537, -0.001461849105405797, -0.0014865024849447842, -0.001500024858246229, -0.0015016716466632661, -0.0014910908910616169, -0.0014683562095351974, -0.001433968612569529, -0.0013888266758327044, -0.0013341684263527467, -0.0012714915824557271, -0.0012024609490346662, -0.0011288125116336765, -0.0010522631066831253, -0.0009744327553626637, -0.000896784292688993, -0.0008205823044531086, -0.000746871035077592, -0.0006764691373812144, -0.0006099780218510036]}, {\"type\": \"scatter\", \"x\": [1e-05, 1.1497569953977357e-05, 1.3219411484660286e-05, 1.5199110829529332e-05, 1.747528400007683e-05, 2.0092330025650458e-05, 2.310129700083158e-05, 2.656087782946684e-05, 3.053855508833412e-05, 3.511191734215127e-05, 4.037017258596558e-05, 4.641588833612782e-05, 5.3366992312063123e-05, 6.135907273413175e-05, 7.054802310718646e-05, 8.111308307896872e-05, 9.326033468832199e-05, 0.00010722672220103231, 0.0001232846739442066, 0.00014174741629268049, 0.00016297508346206434, 0.0001873817422860383, 0.00021544346900318845, 0.0002477076355991711, 0.0002848035868435802, 0.00032745491628777284, 0.00037649358067924675, 0.00043287612810830614, 0.0004977023564332114, 0.0005722367659350221, 0.0006579332246575682, 0.000756463327554629, 0.0008697490026177834, 0.001, 0.0011497569953977356, 0.0013219411484660286, 0.0015199110829529332, 0.0017475284000076847, 0.002009233002565048, 0.0023101297000831605, 0.0026560877829466868, 0.0030538555088334154, 0.003511191734215131, 0.004037017258596553, 0.004641588833612782, 0.005336699231206312, 0.006135907273413176, 0.007054802310718645, 0.008111308307896872, 0.0093260334688322, 0.010722672220103232, 0.012328467394420659, 0.014174741629268049, 0.01629750834620645, 0.018738174228603847, 0.021544346900318846, 0.024770763559917114, 0.02848035868435802, 0.03274549162877728, 0.037649358067924674, 0.043287612810830614, 0.049770235643321135, 0.0572236765935022, 0.06579332246575682, 0.07564633275546291, 0.08697490026177834, 0.1, 0.11497569953977356, 0.13219411484660287, 0.1519911082952933, 0.1747528400007683, 0.2009233002565046, 0.2310129700083158, 0.26560877829466895, 0.30538555088334185, 0.35111917342151344, 0.4037017258596558, 0.4641588833612782, 0.5336699231206312, 0.6135907273413176, 0.7054802310718645, 0.8111308307896873, 0.9326033468832199, 1.072267222010323, 1.232846739442066, 1.4174741629268048, 1.6297508346206435, 1.873817422860383, 2.1544346900318865, 2.4770763559917137, 2.848035868435805, 3.2745491628777317, 3.7649358067924714, 4.328761281083062, 4.9770235643321135, 5.72236765935022, 6.5793322465756825, 7.56463327554629, 8.697490026177835, 10.0], \"line\": {\"width\": 4, \"color\": \"rgb(10, 80, 140)\"}, \"name\": \"logNt\", \"y\": [0.006245628502999701, 0.0062455321026581466, 0.00624542127260645, 0.006245293854120043, 0.0062451473659060905, 0.006244978956027088, 0.006244785346698382, 0.00624456277091645, 0.006244306899726215, 0.0062440127587663945, 0.006243674632542152, 0.006243285954659243, 0.006242839182012437, 0.006242325650650534, 0.006241735410739945, 0.00624105703771402, 0.006240277416329716, 0.006239381493952257, 0.0062383519989570955, 0.006237169119680032, 0.006235810138866757, 0.006234249018086966, 0.006232455926099143, 0.006230396704711198, 0.006228032265311063, 0.006225317908994347, 0.006222202563159239, 0.006218627927666976, 0.0062145275242959175, 0.00620982564440935, 0.006204436191708585, 0.0061982614199061065, 0.006191190569437669, 0.006183098413310965, 0.006173843730299783, 0.006163267734434208, 0.006151192503641909, 0.006137419468000563, 0.006121728039827879, 0.006103874494053038, 0.00608359123792467, 0.006060586643496734, 0.0060345456530091855, 0.006005131403530934, 0.005971988148714223, 0.005934745775863812, 0.00589302621713882, 0.005846452023786669, 0.005794657299505914, 0.00573730106091623, 0.005674082899711598, 0.005604760558621791, 0.005529168708903812, 0.005447237853472988, 0.005359011918792564, 0.005264662801237353, 0.005164499974381744, 0.005058973318203482, 0.00494866765747988, 0.004834288113268317, 0.0047166362396222, 0.004596577935300277, 0.0044750051326873696, 0.004352794096759253, 0.004230763658886859, 0.004109636768165775, 0.003990008359298432, 0.0038723217931533518, 0.0037568551724269598, 0.003643717844484601, 0.0035328565331022776, 0.0034240698970207195, 0.0033170299380867805, 0.00321130855719108, 0.003106407621127657, 0.0030017910763701174, 0.002896917845676856, 0.002791274405736525, 0.002684406029383835, 0.0025759456736411165, 0.00246563942245453, 0.0023533672924436707, 0.0022391581412635865, 0.0021231974495415393, 0.0020058269416532394, 0.0018875354085423602, 0.0017689406990555466, 0.0016507636059407964, 0.0015337951889480353, 0.001418859814857027, 0.0013067767110122406, 0.0011983230137009686, 0.0010942010963100432, 0.0009950124132597534, 0.0009012392938805958, 0.0008132352095797148, 0.0007312231689877996, 0.0006553011929252368, 0.000585453357772214, 0.0005215646903691727]}], {\"xaxis\": {\"title\": \"alpha\"}, \"yaxis\": {\"title\": \"Weights\"}}, {\"showLink\": true, \"linkText\": \"Export to plot.ly\"})});</script>"
      ]
     },
     "metadata": {},
     "output_type": "display_data"
    }
   ],
   "source": [
    "trace0 = go.Scatter(\n",
    "    x = alphas_ridge,\n",
    "    y = fdf['N0'],\n",
    "    name = 'N0',\n",
    "    line = dict(\n",
    "        color = ('rgb(205, 12, 24)'),\n",
    "        width = 4)\n",
    ")\n",
    "trace1 = go.Scatter(\n",
    "    x = alphas_ridge,\n",
    "    y = fdf['Nt'],\n",
    "    name = 'Nt',\n",
    "    line = dict(\n",
    "        color = ('rgb(22, 96, 17)'),\n",
    "        width = 4,)\n",
    ")\n",
    "trace2 = go.Scatter(\n",
    "    x = alphas_ridge,\n",
    "    y = fdf['pH'],\n",
    "    name = 'pH',\n",
    "    line = dict(\n",
    "        color = ('rgb(205, 0, 24)'),\n",
    "        width = 4,\n",
    "        dash = 'dash') \n",
    ")\n",
    "trace3 = go.Scatter(\n",
    "    x = alphas_ridge,\n",
    "    y = fdf['PetalCount'],\n",
    "    name = 'Petal Count',\n",
    "    line = dict(\n",
    "        color = ('rgb(220, 96, 167)'),\n",
    "        width = 4,\n",
    "        dash = 'dash')\n",
    ")\n",
    "trace4 = go.Scatter(\n",
    "    x = alphas_ridge,\n",
    "    y = fdf['log(Nt)'],\n",
    "    name = 'logNt',\n",
    "    line = dict(\n",
    "        color = ('rgb(10, 80, 140)'),\n",
    "        width = 4,)\n",
    ")\n",
    "\n",
    "data = [trace0, trace1, trace2, trace3, trace4]\n",
    "\n",
    "# Edit the layout\n",
    "layout = dict(xaxis = dict(title = 'alpha'),\n",
    "              yaxis = dict(title = 'Weights'),\n",
    "              )\n",
    "\n",
    "fig = dict(data = data, layout = layout)\n",
    "\n",
    "plot.iplot(fig, filename = 'WEIGHTS_VS_ALPHAS_TREEAGE')"
   ]
  },
  {
   "cell_type": "markdown",
   "metadata": {
    "deletable": true,
    "editable": true
   },
   "source": [
    "#### Finding the ridge coefficients  ####"
   ]
  },
  {
   "cell_type": "code",
   "execution_count": 26,
   "metadata": {
    "collapsed": false,
    "deletable": true,
    "editable": true
   },
   "outputs": [
    {
     "name": "stdout",
     "output_type": "stream",
     "text": [
      "N0           -0.000001\n",
      "Nt            0.000882\n",
      "pH           -0.000010\n",
      "PetalCount   -0.000346\n",
      "Log(Nt)       0.000284\n",
      "dtype: float64\n",
      "0.000129648566741\n"
     ]
    }
   ],
   "source": [
    "ridge2 = linear_model.Ridge(alpha = 20, normalize = True)\n",
    "ridge2.fit(X_train, Y_train.Age)\n",
    "\n",
    "# Fit a ridge regression on the training data\n",
    "pred2 = ridge2.predict(X_test)\n",
    "\n",
    "# Use this model to predict the test data\n",
    "print(pd.Series(ridge2.coef_, index = X_train.columns))\n",
    "\n",
    "# Print coefficients\n",
    "print(mean_squared_error(Y_test.Age, pred2))"
   ]
  },
  {
   "cell_type": "code",
   "execution_count": 27,
   "metadata": {
    "collapsed": false,
    "deletable": true,
    "editable": true
   },
   "outputs": [
    {
     "data": {
      "application/vnd.plotly.v1+json": {
       "data": [
        {
         "hoverinfo": "name",
         "line": {
          "shape": "linear"
         },
         "mode": "lines+markers",
         "name": "Mean Error",
         "type": "scatter",
         "x": [
          1e-05,
          1.1497569953977357e-05,
          1.3219411484660286e-05,
          1.5199110829529332e-05,
          1.747528400007683e-05,
          2.0092330025650458e-05,
          2.310129700083158e-05,
          2.656087782946684e-05,
          3.053855508833412e-05,
          3.511191734215127e-05,
          4.037017258596558e-05,
          4.641588833612782e-05,
          5.3366992312063123e-05,
          6.135907273413175e-05,
          7.054802310718646e-05,
          8.111308307896872e-05,
          9.326033468832199e-05,
          0.00010722672220103231,
          0.0001232846739442066,
          0.00014174741629268049,
          0.00016297508346206434,
          0.0001873817422860383,
          0.00021544346900318845,
          0.0002477076355991711,
          0.0002848035868435802,
          0.00032745491628777284,
          0.00037649358067924675,
          0.00043287612810830614,
          0.0004977023564332114,
          0.0005722367659350221,
          0.0006579332246575682,
          0.000756463327554629,
          0.0008697490026177834,
          0.001,
          0.0011497569953977356,
          0.0013219411484660286,
          0.0015199110829529332,
          0.0017475284000076847,
          0.002009233002565048,
          0.0023101297000831605,
          0.0026560877829466868,
          0.0030538555088334154,
          0.003511191734215131,
          0.004037017258596553,
          0.004641588833612782,
          0.005336699231206312,
          0.006135907273413176,
          0.007054802310718645,
          0.008111308307896872,
          0.0093260334688322,
          0.010722672220103232,
          0.012328467394420659,
          0.014174741629268049,
          0.01629750834620645,
          0.018738174228603847,
          0.021544346900318846,
          0.024770763559917114,
          0.02848035868435802,
          0.03274549162877728,
          0.037649358067924674,
          0.043287612810830614,
          0.049770235643321135,
          0.0572236765935022,
          0.06579332246575682,
          0.07564633275546291,
          0.08697490026177834,
          0.1,
          0.11497569953977356,
          0.13219411484660287,
          0.1519911082952933,
          0.1747528400007683,
          0.2009233002565046,
          0.2310129700083158,
          0.26560877829466895,
          0.30538555088334185,
          0.35111917342151344,
          0.4037017258596558,
          0.4641588833612782,
          0.5336699231206312,
          0.6135907273413176,
          0.7054802310718645,
          0.8111308307896873,
          0.9326033468832199,
          1.072267222010323,
          1.232846739442066,
          1.4174741629268048,
          1.6297508346206435,
          1.873817422860383,
          2.1544346900318865,
          2.4770763559917137,
          2.848035868435805,
          3.2745491628777317,
          3.7649358067924714,
          4.328761281083062,
          4.9770235643321135,
          5.72236765935022,
          6.5793322465756825,
          7.56463327554629,
          8.697490026177835,
          10
         ],
         "y": 0.00012964856674062313
        }
       ],
       "layout": {
        "legend": {
         "font": {
          "size": 15
         },
         "traceorder": "reversed"
        },
        "title": "MEAN SQUARE ERROR VS ALPHAS",
        "xaxis": {
         "title": "ALPHAS"
        },
        "yaxis": {
         "title": "MEAN SQUARE ERROR"
        }
       }
      },
      "text/html": [
       "<div id=\"b76facc0-d007-4a8d-abbf-6fbee694aabf\" style=\"height: 525px; width: 100%;\" class=\"plotly-graph-div\"></div><script type=\"text/javascript\">require([\"plotly\"], function(Plotly) { window.PLOTLYENV=window.PLOTLYENV || {};window.PLOTLYENV.BASE_URL=\"https://plot.ly\";Plotly.newPlot(\"b76facc0-d007-4a8d-abbf-6fbee694aabf\", [{\"x\": [1e-05, 1.1497569953977357e-05, 1.3219411484660286e-05, 1.5199110829529332e-05, 1.747528400007683e-05, 2.0092330025650458e-05, 2.310129700083158e-05, 2.656087782946684e-05, 3.053855508833412e-05, 3.511191734215127e-05, 4.037017258596558e-05, 4.641588833612782e-05, 5.3366992312063123e-05, 6.135907273413175e-05, 7.054802310718646e-05, 8.111308307896872e-05, 9.326033468832199e-05, 0.00010722672220103231, 0.0001232846739442066, 0.00014174741629268049, 0.00016297508346206434, 0.0001873817422860383, 0.00021544346900318845, 0.0002477076355991711, 0.0002848035868435802, 0.00032745491628777284, 0.00037649358067924675, 0.00043287612810830614, 0.0004977023564332114, 0.0005722367659350221, 0.0006579332246575682, 0.000756463327554629, 0.0008697490026177834, 0.001, 0.0011497569953977356, 0.0013219411484660286, 0.0015199110829529332, 0.0017475284000076847, 0.002009233002565048, 0.0023101297000831605, 0.0026560877829466868, 0.0030538555088334154, 0.003511191734215131, 0.004037017258596553, 0.004641588833612782, 0.005336699231206312, 0.006135907273413176, 0.007054802310718645, 0.008111308307896872, 0.0093260334688322, 0.010722672220103232, 0.012328467394420659, 0.014174741629268049, 0.01629750834620645, 0.018738174228603847, 0.021544346900318846, 0.024770763559917114, 0.02848035868435802, 0.03274549162877728, 0.037649358067924674, 0.043287612810830614, 0.049770235643321135, 0.0572236765935022, 0.06579332246575682, 0.07564633275546291, 0.08697490026177834, 0.1, 0.11497569953977356, 0.13219411484660287, 0.1519911082952933, 0.1747528400007683, 0.2009233002565046, 0.2310129700083158, 0.26560877829466895, 0.30538555088334185, 0.35111917342151344, 0.4037017258596558, 0.4641588833612782, 0.5336699231206312, 0.6135907273413176, 0.7054802310718645, 0.8111308307896873, 0.9326033468832199, 1.072267222010323, 1.232846739442066, 1.4174741629268048, 1.6297508346206435, 1.873817422860383, 2.1544346900318865, 2.4770763559917137, 2.848035868435805, 3.2745491628777317, 3.7649358067924714, 4.328761281083062, 4.9770235643321135, 5.72236765935022, 6.5793322465756825, 7.56463327554629, 8.697490026177835, 10.0], \"line\": {\"shape\": \"linear\"}, \"name\": \"Mean Error\", \"mode\": \"lines+markers\", \"hoverinfo\": \"name\", \"y\": 0.00012964856674062313, \"type\": \"scatter\"}], {\"xaxis\": {\"title\": \"ALPHAS\"}, \"yaxis\": {\"title\": \"MEAN SQUARE ERROR\"}, \"title\": \"MEAN SQUARE ERROR VS ALPHAS\", \"legend\": {\"traceorder\": \"reversed\", \"font\": {\"size\": 15}}}, {\"showLink\": true, \"linkText\": \"Export to plot.ly\"})});</script>"
      ],
      "text/vnd.plotly.v1+html": [
       "<div id=\"b76facc0-d007-4a8d-abbf-6fbee694aabf\" style=\"height: 525px; width: 100%;\" class=\"plotly-graph-div\"></div><script type=\"text/javascript\">require([\"plotly\"], function(Plotly) { window.PLOTLYENV=window.PLOTLYENV || {};window.PLOTLYENV.BASE_URL=\"https://plot.ly\";Plotly.newPlot(\"b76facc0-d007-4a8d-abbf-6fbee694aabf\", [{\"x\": [1e-05, 1.1497569953977357e-05, 1.3219411484660286e-05, 1.5199110829529332e-05, 1.747528400007683e-05, 2.0092330025650458e-05, 2.310129700083158e-05, 2.656087782946684e-05, 3.053855508833412e-05, 3.511191734215127e-05, 4.037017258596558e-05, 4.641588833612782e-05, 5.3366992312063123e-05, 6.135907273413175e-05, 7.054802310718646e-05, 8.111308307896872e-05, 9.326033468832199e-05, 0.00010722672220103231, 0.0001232846739442066, 0.00014174741629268049, 0.00016297508346206434, 0.0001873817422860383, 0.00021544346900318845, 0.0002477076355991711, 0.0002848035868435802, 0.00032745491628777284, 0.00037649358067924675, 0.00043287612810830614, 0.0004977023564332114, 0.0005722367659350221, 0.0006579332246575682, 0.000756463327554629, 0.0008697490026177834, 0.001, 0.0011497569953977356, 0.0013219411484660286, 0.0015199110829529332, 0.0017475284000076847, 0.002009233002565048, 0.0023101297000831605, 0.0026560877829466868, 0.0030538555088334154, 0.003511191734215131, 0.004037017258596553, 0.004641588833612782, 0.005336699231206312, 0.006135907273413176, 0.007054802310718645, 0.008111308307896872, 0.0093260334688322, 0.010722672220103232, 0.012328467394420659, 0.014174741629268049, 0.01629750834620645, 0.018738174228603847, 0.021544346900318846, 0.024770763559917114, 0.02848035868435802, 0.03274549162877728, 0.037649358067924674, 0.043287612810830614, 0.049770235643321135, 0.0572236765935022, 0.06579332246575682, 0.07564633275546291, 0.08697490026177834, 0.1, 0.11497569953977356, 0.13219411484660287, 0.1519911082952933, 0.1747528400007683, 0.2009233002565046, 0.2310129700083158, 0.26560877829466895, 0.30538555088334185, 0.35111917342151344, 0.4037017258596558, 0.4641588833612782, 0.5336699231206312, 0.6135907273413176, 0.7054802310718645, 0.8111308307896873, 0.9326033468832199, 1.072267222010323, 1.232846739442066, 1.4174741629268048, 1.6297508346206435, 1.873817422860383, 2.1544346900318865, 2.4770763559917137, 2.848035868435805, 3.2745491628777317, 3.7649358067924714, 4.328761281083062, 4.9770235643321135, 5.72236765935022, 6.5793322465756825, 7.56463327554629, 8.697490026177835, 10.0], \"line\": {\"shape\": \"linear\"}, \"name\": \"Mean Error\", \"mode\": \"lines+markers\", \"hoverinfo\": \"name\", \"y\": 0.00012964856674062313, \"type\": \"scatter\"}], {\"xaxis\": {\"title\": \"ALPHAS\"}, \"yaxis\": {\"title\": \"MEAN SQUARE ERROR\"}, \"title\": \"MEAN SQUARE ERROR VS ALPHAS\", \"legend\": {\"traceorder\": \"reversed\", \"font\": {\"size\": 15}}}, {\"showLink\": true, \"linkText\": \"Export to plot.ly\"})});</script>"
      ]
     },
     "metadata": {},
     "output_type": "display_data"
    }
   ],
   "source": [
    "data = []\n",
    "p = go.Scatter(x = alphas_ridge, y = mean_squared_error(Y_test.Age, pred2),\n",
    "               mode = 'lines+markers', \n",
    "               name = 'Mean Error',\n",
    "               hoverinfo = 'name',\n",
    "               line = dict(shape = 'linear'))\n",
    "data.append(p)        \n",
    "layout = dict(\n",
    "    title = 'MEAN SQUARE ERROR VS ALPHAS',\n",
    "    xaxis = dict(\n",
    "        title = 'ALPHAS'\n",
    "    ),\n",
    "    yaxis = dict(\n",
    "        title = 'MEAN SQUARE ERROR'\n",
    "    ),\n",
    "    legend = dict(\n",
    "        traceorder = 'reversed',\n",
    "        font = dict(size = 15)\n",
    "    )\n",
    ")\n",
    "fig = dict(data = data, layout = layout)\n",
    "plot.iplot(fig, filename = 'MEANERROR_VS_APLHA_TREEAGE')"
   ]
  },
  {
   "cell_type": "markdown",
   "metadata": {
    "deletable": true,
    "editable": true
   },
   "source": [
    "#### Most accurate alpha value ####"
   ]
  },
  {
   "cell_type": "code",
   "execution_count": 28,
   "metadata": {
    "collapsed": false,
    "deletable": true,
    "editable": true
   },
   "outputs": [
    {
     "data": {
      "text/plain": [
       "0.00032745491628777284"
      ]
     },
     "execution_count": 28,
     "metadata": {},
     "output_type": "execute_result"
    }
   ],
   "source": [
    "ridgecv = linear_model.RidgeCV(alphas = alphas_ridge, scoring = 'neg_mean_squared_error', normalize = True)\n",
    "ridgecv.fit(X_train, Y_train)\n",
    "ridgecv.alpha_"
   ]
  },
  {
   "cell_type": "markdown",
   "metadata": {
    "deletable": true,
    "editable": true
   },
   "source": [
    "#### least mean square error value ####"
   ]
  },
  {
   "cell_type": "code",
   "execution_count": 29,
   "metadata": {
    "collapsed": false,
    "deletable": true,
    "editable": true
   },
   "outputs": [
    {
     "data": {
      "text/plain": [
       "1.5420027645516439e-07"
      ]
     },
     "execution_count": 29,
     "metadata": {},
     "output_type": "execute_result"
    }
   ],
   "source": [
    "ridge4 = linear_model.Ridge(alpha = ridgecv.alpha_, normalize = True)\n",
    "ridge4.fit(X_train, Y_train)\n",
    "mean_squared_error(Y_test, ridge4.predict(X_test))"
   ]
  },
  {
   "cell_type": "markdown",
   "metadata": {
    "deletable": true,
    "editable": true
   },
   "source": [
    "\n",
    "#### Final efficient coefficients ####"
   ]
  },
  {
   "cell_type": "code",
   "execution_count": 30,
   "metadata": {
    "collapsed": false,
    "deletable": true,
    "editable": true
   },
   "outputs": [
    {
     "data": {
      "text/plain": [
       "N0            0.000009\n",
       "Nt            0.000009\n",
       "pH           -0.000003\n",
       "PetalCount   -0.000093\n",
       "Log(Nt)       0.006225\n",
       "dtype: float64"
      ]
     },
     "execution_count": 30,
     "metadata": {},
     "output_type": "execute_result"
    }
   ],
   "source": [
    "ridge4.fit(X_train, Y_train.Age)\n",
    "pd.Series(ridge4.coef_, index = X_train.columns)"
   ]
  },
  {
   "cell_type": "markdown",
   "metadata": {
    "deletable": true,
    "editable": true
   },
   "source": [
    "## LASSO Regression ##"
   ]
  },
  {
   "cell_type": "code",
   "execution_count": 31,
   "metadata": {
    "collapsed": false,
    "deletable": true,
    "editable": true
   },
   "outputs": [],
   "source": [
    "alphas_lasso = 10 ** np.linspace(-2, 2, 100)\n",
    "\n",
    "lasso = linear_model.Lasso(max_iter = 10000, normalize = True)\n",
    "coefs = []\n",
    "for a in alphas_lasso:\n",
    "    lasso.set_params(alpha = a)\n",
    "    lasso.fit(X_train, Y_train.Age)\n",
    "    coefs.append(lasso.coef_)\n",
    "\n",
    "\n",
    "coefs = np.array(coefs)\n",
    "df_lasso = (pd.DataFrame(coefs, columns = X_train.columns, index = alphas_lasso))\n"
   ]
  },
  {
   "cell_type": "markdown",
   "metadata": {
    "deletable": true,
    "editable": true
   },
   "source": [
    "#### Weights vs Alphas ####"
   ]
  },
  {
   "cell_type": "code",
   "execution_count": 32,
   "metadata": {
    "collapsed": false,
    "deletable": true,
    "editable": true
   },
   "outputs": [
    {
     "data": {
      "application/vnd.plotly.v1+json": {
       "data": [
        {
         "line": {
          "color": "rgb(205, 12, 24)",
          "width": 4
         },
         "name": "N0",
         "type": "scatter",
         "x": [
          0.01,
          0.010974987654930561,
          0.012045035402587823,
          0.013219411484660288,
          0.014508287784959394,
          0.015922827933410922,
          0.01747528400007684,
          0.019179102616724886,
          0.02104904144512021,
          0.023101297000831605,
          0.025353644939701114,
          0.027825594022071243,
          0.030538555088334154,
          0.033516026509388425,
          0.03678379771828634,
          0.040370172585965536,
          0.044306214575838825,
          0.04862601580065353,
          0.0533669923120631,
          0.05857020818056667,
          0.06428073117284322,
          0.07054802310718646,
          0.0774263682681127,
          0.08497534359086446,
          0.093260334688322,
          0.10235310218990264,
          0.11233240329780277,
          0.12328467394420665,
          0.13530477745798075,
          0.1484968262254465,
          0.16297508346206444,
          0.1788649529057435,
          0.19630406500402714,
          0.21544346900318845,
          0.23644894126454083,
          0.25950242113997374,
          0.2848035868435802,
          0.3125715849688237,
          0.34304692863149194,
          0.37649358067924693,
          0.41320124001153385,
          0.4534878508128584,
          0.49770235643321115,
          0.5462277217684343,
          0.5994842503189411,
          0.6579332246575682,
          0.7220809018385468,
          0.7924828983539177,
          0.8697490026177834,
          0.9545484566618342,
          1.0476157527896652,
          1.149756995397737,
          1.261856883066021,
          1.384886371393873,
          1.5199110829529348,
          1.6681005372000592,
          1.8307382802953698,
          2.0092330025650478,
          2.2051307399030455,
          2.4201282647943834,
          2.656087782946687,
          2.9150530628251787,
          3.1992671377973845,
          3.5111917342151346,
          3.8535285937105312,
          4.229242874389499,
          4.641588833612782,
          5.09413801481638,
          5.590810182512229,
          6.135907273413176,
          6.7341506577508286,
          7.390722033525782,
          8.111308307896872,
          8.902150854450392,
          9.770099572992256,
          10.722672220103243,
          11.768119524349991,
          12.91549665014884,
          14.174741629268063,
          15.556761439304722,
          17.07352647470692,
          18.73817422860385,
          20.565123083486537,
          22.570197196339215,
          24.770763559917114,
          27.185882427329428,
          29.836472402833405,
          32.745491628777316,
          35.938136638046295,
          39.4420605943766,
          43.287612810830616,
          47.50810162102798,
          52.140082879996896,
          57.223676593502205,
          62.802914418342596,
          68.92612104349702,
          75.64633275546291,
          83.02175681319753,
          91.11627561154896,
          100
         ],
         "y": [
          0,
          0,
          0,
          0,
          0,
          0,
          0,
          0,
          0,
          0,
          0,
          0,
          0,
          0,
          0,
          0,
          0,
          0,
          0,
          0,
          0,
          0,
          0,
          0,
          0,
          0,
          0,
          0,
          0,
          0,
          0,
          0,
          0,
          0,
          0,
          0,
          0,
          0,
          0,
          0,
          0,
          0,
          0,
          0,
          0,
          0,
          0,
          0,
          0,
          0,
          0,
          0,
          0,
          0,
          0,
          0,
          0,
          0,
          0,
          0,
          0,
          0,
          0,
          0,
          0,
          0,
          0,
          0,
          0,
          0,
          0,
          0,
          0,
          0,
          0,
          0,
          0,
          0,
          0,
          0,
          0,
          0,
          0,
          0,
          0,
          0,
          0,
          0,
          0,
          0,
          0,
          0,
          0,
          0,
          0,
          0,
          0,
          0,
          0,
          0
         ]
        },
        {
         "line": {
          "color": "rgb(22, 96, 167)",
          "width": 4
         },
         "name": "Nt",
         "type": "scatter",
         "x": [
          0.01,
          0.010974987654930561,
          0.012045035402587823,
          0.013219411484660288,
          0.014508287784959394,
          0.015922827933410922,
          0.01747528400007684,
          0.019179102616724886,
          0.02104904144512021,
          0.023101297000831605,
          0.025353644939701114,
          0.027825594022071243,
          0.030538555088334154,
          0.033516026509388425,
          0.03678379771828634,
          0.040370172585965536,
          0.044306214575838825,
          0.04862601580065353,
          0.0533669923120631,
          0.05857020818056667,
          0.06428073117284322,
          0.07054802310718646,
          0.0774263682681127,
          0.08497534359086446,
          0.093260334688322,
          0.10235310218990264,
          0.11233240329780277,
          0.12328467394420665,
          0.13530477745798075,
          0.1484968262254465,
          0.16297508346206444,
          0.1788649529057435,
          0.19630406500402714,
          0.21544346900318845,
          0.23644894126454083,
          0.25950242113997374,
          0.2848035868435802,
          0.3125715849688237,
          0.34304692863149194,
          0.37649358067924693,
          0.41320124001153385,
          0.4534878508128584,
          0.49770235643321115,
          0.5462277217684343,
          0.5994842503189411,
          0.6579332246575682,
          0.7220809018385468,
          0.7924828983539177,
          0.8697490026177834,
          0.9545484566618342,
          1.0476157527896652,
          1.149756995397737,
          1.261856883066021,
          1.384886371393873,
          1.5199110829529348,
          1.6681005372000592,
          1.8307382802953698,
          2.0092330025650478,
          2.2051307399030455,
          2.4201282647943834,
          2.656087782946687,
          2.9150530628251787,
          3.1992671377973845,
          3.5111917342151346,
          3.8535285937105312,
          4.229242874389499,
          4.641588833612782,
          5.09413801481638,
          5.590810182512229,
          6.135907273413176,
          6.7341506577508286,
          7.390722033525782,
          8.111308307896872,
          8.902150854450392,
          9.770099572992256,
          10.722672220103243,
          11.768119524349991,
          12.91549665014884,
          14.174741629268063,
          15.556761439304722,
          17.07352647470692,
          18.73817422860385,
          20.565123083486537,
          22.570197196339215,
          24.770763559917114,
          27.185882427329428,
          29.836472402833405,
          32.745491628777316,
          35.938136638046295,
          39.4420605943766,
          43.287612810830616,
          47.50810162102798,
          52.140082879996896,
          57.223676593502205,
          62.802914418342596,
          68.92612104349702,
          75.64633275546291,
          83.02175681319753,
          91.11627561154896,
          100
         ],
         "y": [
          0,
          0,
          0,
          0,
          0,
          0,
          0,
          0,
          0,
          0,
          0,
          0,
          0,
          0,
          0,
          0,
          0,
          0,
          0,
          0,
          0,
          0,
          0,
          0,
          0,
          0,
          0,
          0,
          0,
          0,
          0,
          0,
          0,
          0,
          0,
          0,
          0,
          0,
          0,
          0,
          0,
          0,
          0,
          0,
          0,
          0,
          0,
          0,
          0,
          0,
          0,
          0,
          0,
          0,
          0,
          0,
          0,
          0,
          0,
          0,
          0,
          0,
          0,
          0,
          0,
          0,
          0,
          0,
          0,
          0,
          0,
          0,
          0,
          0,
          0,
          0,
          0,
          0,
          0,
          0,
          0,
          0,
          0,
          0,
          0,
          0,
          0,
          0,
          0,
          0,
          0,
          0,
          0,
          0,
          0,
          0,
          0,
          0,
          0,
          0
         ]
        },
        {
         "line": {
          "color": "rgb(205, 12, 24)",
          "dash": "dash",
          "width": 4
         },
         "name": "pH",
         "type": "scatter",
         "x": [
          0.01,
          0.010974987654930561,
          0.012045035402587823,
          0.013219411484660288,
          0.014508287784959394,
          0.015922827933410922,
          0.01747528400007684,
          0.019179102616724886,
          0.02104904144512021,
          0.023101297000831605,
          0.025353644939701114,
          0.027825594022071243,
          0.030538555088334154,
          0.033516026509388425,
          0.03678379771828634,
          0.040370172585965536,
          0.044306214575838825,
          0.04862601580065353,
          0.0533669923120631,
          0.05857020818056667,
          0.06428073117284322,
          0.07054802310718646,
          0.0774263682681127,
          0.08497534359086446,
          0.093260334688322,
          0.10235310218990264,
          0.11233240329780277,
          0.12328467394420665,
          0.13530477745798075,
          0.1484968262254465,
          0.16297508346206444,
          0.1788649529057435,
          0.19630406500402714,
          0.21544346900318845,
          0.23644894126454083,
          0.25950242113997374,
          0.2848035868435802,
          0.3125715849688237,
          0.34304692863149194,
          0.37649358067924693,
          0.41320124001153385,
          0.4534878508128584,
          0.49770235643321115,
          0.5462277217684343,
          0.5994842503189411,
          0.6579332246575682,
          0.7220809018385468,
          0.7924828983539177,
          0.8697490026177834,
          0.9545484566618342,
          1.0476157527896652,
          1.149756995397737,
          1.261856883066021,
          1.384886371393873,
          1.5199110829529348,
          1.6681005372000592,
          1.8307382802953698,
          2.0092330025650478,
          2.2051307399030455,
          2.4201282647943834,
          2.656087782946687,
          2.9150530628251787,
          3.1992671377973845,
          3.5111917342151346,
          3.8535285937105312,
          4.229242874389499,
          4.641588833612782,
          5.09413801481638,
          5.590810182512229,
          6.135907273413176,
          6.7341506577508286,
          7.390722033525782,
          8.111308307896872,
          8.902150854450392,
          9.770099572992256,
          10.722672220103243,
          11.768119524349991,
          12.91549665014884,
          14.174741629268063,
          15.556761439304722,
          17.07352647470692,
          18.73817422860385,
          20.565123083486537,
          22.570197196339215,
          24.770763559917114,
          27.185882427329428,
          29.836472402833405,
          32.745491628777316,
          35.938136638046295,
          39.4420605943766,
          43.287612810830616,
          47.50810162102798,
          52.140082879996896,
          57.223676593502205,
          62.802914418342596,
          68.92612104349702,
          75.64633275546291,
          83.02175681319753,
          91.11627561154896,
          100
         ],
         "y": [
          0,
          0,
          0,
          0,
          0,
          0,
          0,
          0,
          0,
          0,
          0,
          0,
          0,
          0,
          0,
          0,
          0,
          0,
          0,
          0,
          0,
          0,
          0,
          0,
          0,
          0,
          0,
          0,
          0,
          0,
          0,
          0,
          0,
          0,
          0,
          0,
          0,
          0,
          0,
          0,
          0,
          0,
          0,
          0,
          0,
          0,
          0,
          0,
          0,
          0,
          0,
          0,
          0,
          0,
          0,
          0,
          0,
          0,
          0,
          0,
          0,
          0,
          0,
          0,
          0,
          0,
          0,
          0,
          0,
          0,
          0,
          0,
          0,
          0,
          0,
          0,
          0,
          0,
          0,
          0,
          0,
          0,
          0,
          0,
          0,
          0,
          0,
          0,
          0,
          0,
          0,
          0,
          0,
          0,
          0,
          0,
          0,
          0,
          0,
          0
         ]
        },
        {
         "line": {
          "color": "rgb(22, 96, 167)",
          "dash": "dash",
          "width": 4
         },
         "name": "Petal Count",
         "type": "scatter",
         "x": [
          0.01,
          0.010974987654930561,
          0.012045035402587823,
          0.013219411484660288,
          0.014508287784959394,
          0.015922827933410922,
          0.01747528400007684,
          0.019179102616724886,
          0.02104904144512021,
          0.023101297000831605,
          0.025353644939701114,
          0.027825594022071243,
          0.030538555088334154,
          0.033516026509388425,
          0.03678379771828634,
          0.040370172585965536,
          0.044306214575838825,
          0.04862601580065353,
          0.0533669923120631,
          0.05857020818056667,
          0.06428073117284322,
          0.07054802310718646,
          0.0774263682681127,
          0.08497534359086446,
          0.093260334688322,
          0.10235310218990264,
          0.11233240329780277,
          0.12328467394420665,
          0.13530477745798075,
          0.1484968262254465,
          0.16297508346206444,
          0.1788649529057435,
          0.19630406500402714,
          0.21544346900318845,
          0.23644894126454083,
          0.25950242113997374,
          0.2848035868435802,
          0.3125715849688237,
          0.34304692863149194,
          0.37649358067924693,
          0.41320124001153385,
          0.4534878508128584,
          0.49770235643321115,
          0.5462277217684343,
          0.5994842503189411,
          0.6579332246575682,
          0.7220809018385468,
          0.7924828983539177,
          0.8697490026177834,
          0.9545484566618342,
          1.0476157527896652,
          1.149756995397737,
          1.261856883066021,
          1.384886371393873,
          1.5199110829529348,
          1.6681005372000592,
          1.8307382802953698,
          2.0092330025650478,
          2.2051307399030455,
          2.4201282647943834,
          2.656087782946687,
          2.9150530628251787,
          3.1992671377973845,
          3.5111917342151346,
          3.8535285937105312,
          4.229242874389499,
          4.641588833612782,
          5.09413801481638,
          5.590810182512229,
          6.135907273413176,
          6.7341506577508286,
          7.390722033525782,
          8.111308307896872,
          8.902150854450392,
          9.770099572992256,
          10.722672220103243,
          11.768119524349991,
          12.91549665014884,
          14.174741629268063,
          15.556761439304722,
          17.07352647470692,
          18.73817422860385,
          20.565123083486537,
          22.570197196339215,
          24.770763559917114,
          27.185882427329428,
          29.836472402833405,
          32.745491628777316,
          35.938136638046295,
          39.4420605943766,
          43.287612810830616,
          47.50810162102798,
          52.140082879996896,
          57.223676593502205,
          62.802914418342596,
          68.92612104349702,
          75.64633275546291,
          83.02175681319753,
          91.11627561154896,
          100
         ],
         "y": [
          0,
          0,
          0,
          0,
          0,
          0,
          0,
          0,
          0,
          0,
          0,
          0,
          0,
          0,
          0,
          0,
          0,
          0,
          0,
          0,
          0,
          0,
          0,
          0,
          0,
          0,
          0,
          0,
          0,
          0,
          0,
          0,
          0,
          0,
          0,
          0,
          0,
          0,
          0,
          0,
          0,
          0,
          0,
          0,
          0,
          0,
          0,
          0,
          0,
          0,
          0,
          0,
          0,
          0,
          0,
          0,
          0,
          0,
          0,
          0,
          0,
          0,
          0,
          0,
          0,
          0,
          0,
          0,
          0,
          0,
          0,
          0,
          0,
          0,
          0,
          0,
          0,
          0,
          0,
          0,
          0,
          0,
          0,
          0,
          0,
          0,
          0,
          0,
          0,
          0,
          0,
          0,
          0,
          0,
          0,
          0,
          0,
          0,
          0,
          0
         ]
        },
        {
         "line": {
          "color": "rgb(200, 80, 140)",
          "width": 4
         },
         "name": "logNt",
         "type": "scatter",
         "x": [
          0.01,
          0.010974987654930561,
          0.012045035402587823,
          0.013219411484660288,
          0.014508287784959394,
          0.015922827933410922,
          0.01747528400007684,
          0.019179102616724886,
          0.02104904144512021,
          0.023101297000831605,
          0.025353644939701114,
          0.027825594022071243,
          0.030538555088334154,
          0.033516026509388425,
          0.03678379771828634,
          0.040370172585965536,
          0.044306214575838825,
          0.04862601580065353,
          0.0533669923120631,
          0.05857020818056667,
          0.06428073117284322,
          0.07054802310718646,
          0.0774263682681127,
          0.08497534359086446,
          0.093260334688322,
          0.10235310218990264,
          0.11233240329780277,
          0.12328467394420665,
          0.13530477745798075,
          0.1484968262254465,
          0.16297508346206444,
          0.1788649529057435,
          0.19630406500402714,
          0.21544346900318845,
          0.23644894126454083,
          0.25950242113997374,
          0.2848035868435802,
          0.3125715849688237,
          0.34304692863149194,
          0.37649358067924693,
          0.41320124001153385,
          0.4534878508128584,
          0.49770235643321115,
          0.5462277217684343,
          0.5994842503189411,
          0.6579332246575682,
          0.7220809018385468,
          0.7924828983539177,
          0.8697490026177834,
          0.9545484566618342,
          1.0476157527896652,
          1.149756995397737,
          1.261856883066021,
          1.384886371393873,
          1.5199110829529348,
          1.6681005372000592,
          1.8307382802953698,
          2.0092330025650478,
          2.2051307399030455,
          2.4201282647943834,
          2.656087782946687,
          2.9150530628251787,
          3.1992671377973845,
          3.5111917342151346,
          3.8535285937105312,
          4.229242874389499,
          4.641588833612782,
          5.09413801481638,
          5.590810182512229,
          6.135907273413176,
          6.7341506577508286,
          7.390722033525782,
          8.111308307896872,
          8.902150854450392,
          9.770099572992256,
          10.722672220103243,
          11.768119524349991,
          12.91549665014884,
          14.174741629268063,
          15.556761439304722,
          17.07352647470692,
          18.73817422860385,
          20.565123083486537,
          22.570197196339215,
          24.770763559917114,
          27.185882427329428,
          29.836472402833405,
          32.745491628777316,
          35.938136638046295,
          39.4420605943766,
          43.287612810830616,
          47.50810162102798,
          52.140082879996896,
          57.223676593502205,
          62.802914418342596,
          68.92612104349702,
          75.64633275546291,
          83.02175681319753,
          91.11627561154896,
          100
         ],
         "y": [
          0,
          0,
          0,
          0,
          0,
          0,
          0,
          0,
          0,
          0,
          0,
          0,
          0,
          0,
          0,
          0,
          0,
          0,
          0,
          0,
          0,
          0,
          0,
          0,
          0,
          0,
          0,
          0,
          0,
          0,
          0,
          0,
          0,
          0,
          0,
          0,
          0,
          0,
          0,
          0,
          0,
          0,
          0,
          0,
          0,
          0,
          0,
          0,
          0,
          0,
          0,
          0,
          0,
          0,
          0,
          0,
          0,
          0,
          0,
          0,
          0,
          0,
          0,
          0,
          0,
          0,
          0,
          0,
          0,
          0,
          0,
          0,
          0,
          0,
          0,
          0,
          0,
          0,
          0,
          0,
          0,
          0,
          0,
          0,
          0,
          0,
          0,
          0,
          0,
          0,
          0,
          0,
          0,
          0,
          0,
          0,
          0,
          0,
          0,
          0
         ]
        }
       ],
       "layout": {
        "xaxis": {
         "title": "alpha"
        },
        "yaxis": {
         "title": "Weights"
        }
       }
      },
      "text/html": [
       "<div id=\"ef4e00d2-8fbe-48d2-873d-27bcf69f9478\" style=\"height: 525px; width: 100%;\" class=\"plotly-graph-div\"></div><script type=\"text/javascript\">require([\"plotly\"], function(Plotly) { window.PLOTLYENV=window.PLOTLYENV || {};window.PLOTLYENV.BASE_URL=\"https://plot.ly\";Plotly.newPlot(\"ef4e00d2-8fbe-48d2-873d-27bcf69f9478\", [{\"type\": \"scatter\", \"x\": [0.01, 0.010974987654930561, 0.012045035402587823, 0.013219411484660288, 0.014508287784959394, 0.015922827933410922, 0.01747528400007684, 0.019179102616724886, 0.02104904144512021, 0.023101297000831605, 0.025353644939701114, 0.027825594022071243, 0.030538555088334154, 0.033516026509388425, 0.03678379771828634, 0.040370172585965536, 0.044306214575838825, 0.04862601580065353, 0.0533669923120631, 0.05857020818056667, 0.06428073117284322, 0.07054802310718646, 0.0774263682681127, 0.08497534359086446, 0.093260334688322, 0.10235310218990264, 0.11233240329780277, 0.12328467394420665, 0.13530477745798075, 0.1484968262254465, 0.16297508346206444, 0.1788649529057435, 0.19630406500402714, 0.21544346900318845, 0.23644894126454083, 0.25950242113997374, 0.2848035868435802, 0.3125715849688237, 0.34304692863149194, 0.37649358067924693, 0.41320124001153385, 0.4534878508128584, 0.49770235643321115, 0.5462277217684343, 0.5994842503189411, 0.6579332246575682, 0.7220809018385468, 0.7924828983539177, 0.8697490026177834, 0.9545484566618342, 1.0476157527896652, 1.149756995397737, 1.261856883066021, 1.384886371393873, 1.5199110829529348, 1.6681005372000592, 1.8307382802953698, 2.0092330025650478, 2.2051307399030455, 2.4201282647943834, 2.656087782946687, 2.9150530628251787, 3.1992671377973845, 3.5111917342151346, 3.8535285937105312, 4.229242874389499, 4.641588833612782, 5.09413801481638, 5.590810182512229, 6.135907273413176, 6.7341506577508286, 7.390722033525782, 8.111308307896872, 8.902150854450392, 9.770099572992256, 10.722672220103243, 11.768119524349991, 12.91549665014884, 14.174741629268063, 15.556761439304722, 17.07352647470692, 18.73817422860385, 20.565123083486537, 22.570197196339215, 24.770763559917114, 27.185882427329428, 29.836472402833405, 32.745491628777316, 35.938136638046295, 39.4420605943766, 43.287612810830616, 47.50810162102798, 52.140082879996896, 57.223676593502205, 62.802914418342596, 68.92612104349702, 75.64633275546291, 83.02175681319753, 91.11627561154896, 100.0], \"line\": {\"width\": 4, \"color\": \"rgb(205, 12, 24)\"}, \"name\": \"N0\", \"y\": [-0.0, -0.0, -0.0, -0.0, -0.0, -0.0, -0.0, -0.0, -0.0, -0.0, -0.0, -0.0, -0.0, -0.0, -0.0, -0.0, -0.0, -0.0, -0.0, -0.0, -0.0, -0.0, -0.0, -0.0, -0.0, -0.0, -0.0, -0.0, -0.0, -0.0, -0.0, -0.0, -0.0, -0.0, -0.0, -0.0, -0.0, -0.0, -0.0, -0.0, -0.0, -0.0, -0.0, -0.0, -0.0, -0.0, -0.0, -0.0, -0.0, -0.0, -0.0, -0.0, -0.0, -0.0, -0.0, -0.0, -0.0, -0.0, -0.0, -0.0, -0.0, -0.0, -0.0, -0.0, -0.0, -0.0, -0.0, -0.0, -0.0, -0.0, -0.0, -0.0, -0.0, -0.0, -0.0, -0.0, -0.0, -0.0, -0.0, -0.0, -0.0, -0.0, -0.0, -0.0, -0.0, -0.0, -0.0, -0.0, -0.0, -0.0, -0.0, -0.0, -0.0, -0.0, -0.0, -0.0, -0.0, -0.0, -0.0, -0.0]}, {\"type\": \"scatter\", \"x\": [0.01, 0.010974987654930561, 0.012045035402587823, 0.013219411484660288, 0.014508287784959394, 0.015922827933410922, 0.01747528400007684, 0.019179102616724886, 0.02104904144512021, 0.023101297000831605, 0.025353644939701114, 0.027825594022071243, 0.030538555088334154, 0.033516026509388425, 0.03678379771828634, 0.040370172585965536, 0.044306214575838825, 0.04862601580065353, 0.0533669923120631, 0.05857020818056667, 0.06428073117284322, 0.07054802310718646, 0.0774263682681127, 0.08497534359086446, 0.093260334688322, 0.10235310218990264, 0.11233240329780277, 0.12328467394420665, 0.13530477745798075, 0.1484968262254465, 0.16297508346206444, 0.1788649529057435, 0.19630406500402714, 0.21544346900318845, 0.23644894126454083, 0.25950242113997374, 0.2848035868435802, 0.3125715849688237, 0.34304692863149194, 0.37649358067924693, 0.41320124001153385, 0.4534878508128584, 0.49770235643321115, 0.5462277217684343, 0.5994842503189411, 0.6579332246575682, 0.7220809018385468, 0.7924828983539177, 0.8697490026177834, 0.9545484566618342, 1.0476157527896652, 1.149756995397737, 1.261856883066021, 1.384886371393873, 1.5199110829529348, 1.6681005372000592, 1.8307382802953698, 2.0092330025650478, 2.2051307399030455, 2.4201282647943834, 2.656087782946687, 2.9150530628251787, 3.1992671377973845, 3.5111917342151346, 3.8535285937105312, 4.229242874389499, 4.641588833612782, 5.09413801481638, 5.590810182512229, 6.135907273413176, 6.7341506577508286, 7.390722033525782, 8.111308307896872, 8.902150854450392, 9.770099572992256, 10.722672220103243, 11.768119524349991, 12.91549665014884, 14.174741629268063, 15.556761439304722, 17.07352647470692, 18.73817422860385, 20.565123083486537, 22.570197196339215, 24.770763559917114, 27.185882427329428, 29.836472402833405, 32.745491628777316, 35.938136638046295, 39.4420605943766, 43.287612810830616, 47.50810162102798, 52.140082879996896, 57.223676593502205, 62.802914418342596, 68.92612104349702, 75.64633275546291, 83.02175681319753, 91.11627561154896, 100.0], \"line\": {\"width\": 4, \"color\": \"rgb(22, 96, 167)\"}, \"name\": \"Nt\", \"y\": [0.0, 0.0, 0.0, 0.0, 0.0, 0.0, 0.0, 0.0, 0.0, 0.0, 0.0, 0.0, 0.0, 0.0, 0.0, 0.0, 0.0, 0.0, 0.0, 0.0, 0.0, 0.0, 0.0, 0.0, 0.0, 0.0, 0.0, 0.0, 0.0, 0.0, 0.0, 0.0, 0.0, 0.0, 0.0, 0.0, 0.0, 0.0, 0.0, 0.0, 0.0, 0.0, 0.0, 0.0, 0.0, 0.0, 0.0, 0.0, 0.0, 0.0, 0.0, 0.0, 0.0, 0.0, 0.0, 0.0, 0.0, 0.0, 0.0, 0.0, 0.0, 0.0, 0.0, 0.0, 0.0, 0.0, 0.0, 0.0, 0.0, 0.0, 0.0, 0.0, 0.0, 0.0, 0.0, 0.0, 0.0, 0.0, 0.0, 0.0, 0.0, 0.0, 0.0, 0.0, 0.0, 0.0, 0.0, 0.0, 0.0, 0.0, 0.0, 0.0, 0.0, 0.0, 0.0, 0.0, 0.0, 0.0, 0.0, 0.0]}, {\"type\": \"scatter\", \"x\": [0.01, 0.010974987654930561, 0.012045035402587823, 0.013219411484660288, 0.014508287784959394, 0.015922827933410922, 0.01747528400007684, 0.019179102616724886, 0.02104904144512021, 0.023101297000831605, 0.025353644939701114, 0.027825594022071243, 0.030538555088334154, 0.033516026509388425, 0.03678379771828634, 0.040370172585965536, 0.044306214575838825, 0.04862601580065353, 0.0533669923120631, 0.05857020818056667, 0.06428073117284322, 0.07054802310718646, 0.0774263682681127, 0.08497534359086446, 0.093260334688322, 0.10235310218990264, 0.11233240329780277, 0.12328467394420665, 0.13530477745798075, 0.1484968262254465, 0.16297508346206444, 0.1788649529057435, 0.19630406500402714, 0.21544346900318845, 0.23644894126454083, 0.25950242113997374, 0.2848035868435802, 0.3125715849688237, 0.34304692863149194, 0.37649358067924693, 0.41320124001153385, 0.4534878508128584, 0.49770235643321115, 0.5462277217684343, 0.5994842503189411, 0.6579332246575682, 0.7220809018385468, 0.7924828983539177, 0.8697490026177834, 0.9545484566618342, 1.0476157527896652, 1.149756995397737, 1.261856883066021, 1.384886371393873, 1.5199110829529348, 1.6681005372000592, 1.8307382802953698, 2.0092330025650478, 2.2051307399030455, 2.4201282647943834, 2.656087782946687, 2.9150530628251787, 3.1992671377973845, 3.5111917342151346, 3.8535285937105312, 4.229242874389499, 4.641588833612782, 5.09413801481638, 5.590810182512229, 6.135907273413176, 6.7341506577508286, 7.390722033525782, 8.111308307896872, 8.902150854450392, 9.770099572992256, 10.722672220103243, 11.768119524349991, 12.91549665014884, 14.174741629268063, 15.556761439304722, 17.07352647470692, 18.73817422860385, 20.565123083486537, 22.570197196339215, 24.770763559917114, 27.185882427329428, 29.836472402833405, 32.745491628777316, 35.938136638046295, 39.4420605943766, 43.287612810830616, 47.50810162102798, 52.140082879996896, 57.223676593502205, 62.802914418342596, 68.92612104349702, 75.64633275546291, 83.02175681319753, 91.11627561154896, 100.0], \"line\": {\"dash\": \"dash\", \"width\": 4, \"color\": \"rgb(205, 12, 24)\"}, \"name\": \"pH\", \"y\": [-0.0, -0.0, -0.0, -0.0, -0.0, -0.0, -0.0, -0.0, -0.0, -0.0, -0.0, -0.0, -0.0, -0.0, -0.0, -0.0, -0.0, -0.0, -0.0, -0.0, -0.0, -0.0, -0.0, -0.0, -0.0, -0.0, -0.0, -0.0, -0.0, -0.0, -0.0, -0.0, -0.0, -0.0, -0.0, -0.0, -0.0, -0.0, -0.0, -0.0, -0.0, -0.0, -0.0, -0.0, -0.0, -0.0, -0.0, -0.0, -0.0, -0.0, -0.0, -0.0, -0.0, -0.0, -0.0, -0.0, -0.0, -0.0, -0.0, -0.0, -0.0, -0.0, -0.0, -0.0, -0.0, -0.0, -0.0, -0.0, -0.0, -0.0, -0.0, -0.0, -0.0, -0.0, -0.0, -0.0, -0.0, -0.0, -0.0, -0.0, -0.0, -0.0, -0.0, -0.0, -0.0, -0.0, -0.0, -0.0, -0.0, -0.0, -0.0, -0.0, -0.0, -0.0, -0.0, -0.0, -0.0, -0.0, -0.0, -0.0]}, {\"type\": \"scatter\", \"x\": [0.01, 0.010974987654930561, 0.012045035402587823, 0.013219411484660288, 0.014508287784959394, 0.015922827933410922, 0.01747528400007684, 0.019179102616724886, 0.02104904144512021, 0.023101297000831605, 0.025353644939701114, 0.027825594022071243, 0.030538555088334154, 0.033516026509388425, 0.03678379771828634, 0.040370172585965536, 0.044306214575838825, 0.04862601580065353, 0.0533669923120631, 0.05857020818056667, 0.06428073117284322, 0.07054802310718646, 0.0774263682681127, 0.08497534359086446, 0.093260334688322, 0.10235310218990264, 0.11233240329780277, 0.12328467394420665, 0.13530477745798075, 0.1484968262254465, 0.16297508346206444, 0.1788649529057435, 0.19630406500402714, 0.21544346900318845, 0.23644894126454083, 0.25950242113997374, 0.2848035868435802, 0.3125715849688237, 0.34304692863149194, 0.37649358067924693, 0.41320124001153385, 0.4534878508128584, 0.49770235643321115, 0.5462277217684343, 0.5994842503189411, 0.6579332246575682, 0.7220809018385468, 0.7924828983539177, 0.8697490026177834, 0.9545484566618342, 1.0476157527896652, 1.149756995397737, 1.261856883066021, 1.384886371393873, 1.5199110829529348, 1.6681005372000592, 1.8307382802953698, 2.0092330025650478, 2.2051307399030455, 2.4201282647943834, 2.656087782946687, 2.9150530628251787, 3.1992671377973845, 3.5111917342151346, 3.8535285937105312, 4.229242874389499, 4.641588833612782, 5.09413801481638, 5.590810182512229, 6.135907273413176, 6.7341506577508286, 7.390722033525782, 8.111308307896872, 8.902150854450392, 9.770099572992256, 10.722672220103243, 11.768119524349991, 12.91549665014884, 14.174741629268063, 15.556761439304722, 17.07352647470692, 18.73817422860385, 20.565123083486537, 22.570197196339215, 24.770763559917114, 27.185882427329428, 29.836472402833405, 32.745491628777316, 35.938136638046295, 39.4420605943766, 43.287612810830616, 47.50810162102798, 52.140082879996896, 57.223676593502205, 62.802914418342596, 68.92612104349702, 75.64633275546291, 83.02175681319753, 91.11627561154896, 100.0], \"line\": {\"dash\": \"dash\", \"width\": 4, \"color\": \"rgb(22, 96, 167)\"}, \"name\": \"Petal Count\", \"y\": [-0.0, -0.0, -0.0, -0.0, -0.0, -0.0, -0.0, -0.0, -0.0, -0.0, -0.0, -0.0, -0.0, -0.0, -0.0, -0.0, -0.0, -0.0, -0.0, -0.0, -0.0, -0.0, -0.0, -0.0, -0.0, -0.0, -0.0, -0.0, -0.0, -0.0, -0.0, -0.0, -0.0, -0.0, -0.0, -0.0, -0.0, -0.0, -0.0, -0.0, -0.0, -0.0, -0.0, -0.0, -0.0, -0.0, -0.0, -0.0, -0.0, -0.0, -0.0, -0.0, -0.0, -0.0, -0.0, -0.0, -0.0, -0.0, -0.0, -0.0, -0.0, -0.0, -0.0, -0.0, -0.0, -0.0, -0.0, -0.0, -0.0, -0.0, -0.0, -0.0, -0.0, -0.0, -0.0, -0.0, -0.0, -0.0, -0.0, -0.0, -0.0, -0.0, -0.0, -0.0, -0.0, -0.0, -0.0, -0.0, -0.0, -0.0, -0.0, -0.0, -0.0, -0.0, -0.0, -0.0, -0.0, -0.0, -0.0, -0.0]}, {\"type\": \"scatter\", \"x\": [0.01, 0.010974987654930561, 0.012045035402587823, 0.013219411484660288, 0.014508287784959394, 0.015922827933410922, 0.01747528400007684, 0.019179102616724886, 0.02104904144512021, 0.023101297000831605, 0.025353644939701114, 0.027825594022071243, 0.030538555088334154, 0.033516026509388425, 0.03678379771828634, 0.040370172585965536, 0.044306214575838825, 0.04862601580065353, 0.0533669923120631, 0.05857020818056667, 0.06428073117284322, 0.07054802310718646, 0.0774263682681127, 0.08497534359086446, 0.093260334688322, 0.10235310218990264, 0.11233240329780277, 0.12328467394420665, 0.13530477745798075, 0.1484968262254465, 0.16297508346206444, 0.1788649529057435, 0.19630406500402714, 0.21544346900318845, 0.23644894126454083, 0.25950242113997374, 0.2848035868435802, 0.3125715849688237, 0.34304692863149194, 0.37649358067924693, 0.41320124001153385, 0.4534878508128584, 0.49770235643321115, 0.5462277217684343, 0.5994842503189411, 0.6579332246575682, 0.7220809018385468, 0.7924828983539177, 0.8697490026177834, 0.9545484566618342, 1.0476157527896652, 1.149756995397737, 1.261856883066021, 1.384886371393873, 1.5199110829529348, 1.6681005372000592, 1.8307382802953698, 2.0092330025650478, 2.2051307399030455, 2.4201282647943834, 2.656087782946687, 2.9150530628251787, 3.1992671377973845, 3.5111917342151346, 3.8535285937105312, 4.229242874389499, 4.641588833612782, 5.09413801481638, 5.590810182512229, 6.135907273413176, 6.7341506577508286, 7.390722033525782, 8.111308307896872, 8.902150854450392, 9.770099572992256, 10.722672220103243, 11.768119524349991, 12.91549665014884, 14.174741629268063, 15.556761439304722, 17.07352647470692, 18.73817422860385, 20.565123083486537, 22.570197196339215, 24.770763559917114, 27.185882427329428, 29.836472402833405, 32.745491628777316, 35.938136638046295, 39.4420605943766, 43.287612810830616, 47.50810162102798, 52.140082879996896, 57.223676593502205, 62.802914418342596, 68.92612104349702, 75.64633275546291, 83.02175681319753, 91.11627561154896, 100.0], \"line\": {\"width\": 4, \"color\": \"rgb(200, 80, 140)\"}, \"name\": \"logNt\", \"y\": [0.0, 0.0, 0.0, 0.0, 0.0, 0.0, 0.0, 0.0, 0.0, 0.0, 0.0, 0.0, 0.0, 0.0, 0.0, 0.0, 0.0, 0.0, 0.0, 0.0, 0.0, 0.0, 0.0, 0.0, 0.0, 0.0, 0.0, 0.0, 0.0, 0.0, 0.0, 0.0, 0.0, 0.0, 0.0, 0.0, 0.0, 0.0, 0.0, 0.0, 0.0, 0.0, 0.0, 0.0, 0.0, 0.0, 0.0, 0.0, 0.0, 0.0, 0.0, 0.0, 0.0, 0.0, 0.0, 0.0, 0.0, 0.0, 0.0, 0.0, 0.0, 0.0, 0.0, 0.0, 0.0, 0.0, 0.0, 0.0, 0.0, 0.0, 0.0, 0.0, 0.0, 0.0, 0.0, 0.0, 0.0, 0.0, 0.0, 0.0, 0.0, 0.0, 0.0, 0.0, 0.0, 0.0, 0.0, 0.0, 0.0, 0.0, 0.0, 0.0, 0.0, 0.0, 0.0, 0.0, 0.0, 0.0, 0.0, 0.0]}], {\"xaxis\": {\"title\": \"alpha\"}, \"yaxis\": {\"title\": \"Weights\"}}, {\"showLink\": true, \"linkText\": \"Export to plot.ly\"})});</script>"
      ],
      "text/vnd.plotly.v1+html": [
       "<div id=\"ef4e00d2-8fbe-48d2-873d-27bcf69f9478\" style=\"height: 525px; width: 100%;\" class=\"plotly-graph-div\"></div><script type=\"text/javascript\">require([\"plotly\"], function(Plotly) { window.PLOTLYENV=window.PLOTLYENV || {};window.PLOTLYENV.BASE_URL=\"https://plot.ly\";Plotly.newPlot(\"ef4e00d2-8fbe-48d2-873d-27bcf69f9478\", [{\"type\": \"scatter\", \"x\": [0.01, 0.010974987654930561, 0.012045035402587823, 0.013219411484660288, 0.014508287784959394, 0.015922827933410922, 0.01747528400007684, 0.019179102616724886, 0.02104904144512021, 0.023101297000831605, 0.025353644939701114, 0.027825594022071243, 0.030538555088334154, 0.033516026509388425, 0.03678379771828634, 0.040370172585965536, 0.044306214575838825, 0.04862601580065353, 0.0533669923120631, 0.05857020818056667, 0.06428073117284322, 0.07054802310718646, 0.0774263682681127, 0.08497534359086446, 0.093260334688322, 0.10235310218990264, 0.11233240329780277, 0.12328467394420665, 0.13530477745798075, 0.1484968262254465, 0.16297508346206444, 0.1788649529057435, 0.19630406500402714, 0.21544346900318845, 0.23644894126454083, 0.25950242113997374, 0.2848035868435802, 0.3125715849688237, 0.34304692863149194, 0.37649358067924693, 0.41320124001153385, 0.4534878508128584, 0.49770235643321115, 0.5462277217684343, 0.5994842503189411, 0.6579332246575682, 0.7220809018385468, 0.7924828983539177, 0.8697490026177834, 0.9545484566618342, 1.0476157527896652, 1.149756995397737, 1.261856883066021, 1.384886371393873, 1.5199110829529348, 1.6681005372000592, 1.8307382802953698, 2.0092330025650478, 2.2051307399030455, 2.4201282647943834, 2.656087782946687, 2.9150530628251787, 3.1992671377973845, 3.5111917342151346, 3.8535285937105312, 4.229242874389499, 4.641588833612782, 5.09413801481638, 5.590810182512229, 6.135907273413176, 6.7341506577508286, 7.390722033525782, 8.111308307896872, 8.902150854450392, 9.770099572992256, 10.722672220103243, 11.768119524349991, 12.91549665014884, 14.174741629268063, 15.556761439304722, 17.07352647470692, 18.73817422860385, 20.565123083486537, 22.570197196339215, 24.770763559917114, 27.185882427329428, 29.836472402833405, 32.745491628777316, 35.938136638046295, 39.4420605943766, 43.287612810830616, 47.50810162102798, 52.140082879996896, 57.223676593502205, 62.802914418342596, 68.92612104349702, 75.64633275546291, 83.02175681319753, 91.11627561154896, 100.0], \"line\": {\"width\": 4, \"color\": \"rgb(205, 12, 24)\"}, \"name\": \"N0\", \"y\": [-0.0, -0.0, -0.0, -0.0, -0.0, -0.0, -0.0, -0.0, -0.0, -0.0, -0.0, -0.0, -0.0, -0.0, -0.0, -0.0, -0.0, -0.0, -0.0, -0.0, -0.0, -0.0, -0.0, -0.0, -0.0, -0.0, -0.0, -0.0, -0.0, -0.0, -0.0, -0.0, -0.0, -0.0, -0.0, -0.0, -0.0, -0.0, -0.0, -0.0, -0.0, -0.0, -0.0, -0.0, -0.0, -0.0, -0.0, -0.0, -0.0, -0.0, -0.0, -0.0, -0.0, -0.0, -0.0, -0.0, -0.0, -0.0, -0.0, -0.0, -0.0, -0.0, -0.0, -0.0, -0.0, -0.0, -0.0, -0.0, -0.0, -0.0, -0.0, -0.0, -0.0, -0.0, -0.0, -0.0, -0.0, -0.0, -0.0, -0.0, -0.0, -0.0, -0.0, -0.0, -0.0, -0.0, -0.0, -0.0, -0.0, -0.0, -0.0, -0.0, -0.0, -0.0, -0.0, -0.0, -0.0, -0.0, -0.0, -0.0]}, {\"type\": \"scatter\", \"x\": [0.01, 0.010974987654930561, 0.012045035402587823, 0.013219411484660288, 0.014508287784959394, 0.015922827933410922, 0.01747528400007684, 0.019179102616724886, 0.02104904144512021, 0.023101297000831605, 0.025353644939701114, 0.027825594022071243, 0.030538555088334154, 0.033516026509388425, 0.03678379771828634, 0.040370172585965536, 0.044306214575838825, 0.04862601580065353, 0.0533669923120631, 0.05857020818056667, 0.06428073117284322, 0.07054802310718646, 0.0774263682681127, 0.08497534359086446, 0.093260334688322, 0.10235310218990264, 0.11233240329780277, 0.12328467394420665, 0.13530477745798075, 0.1484968262254465, 0.16297508346206444, 0.1788649529057435, 0.19630406500402714, 0.21544346900318845, 0.23644894126454083, 0.25950242113997374, 0.2848035868435802, 0.3125715849688237, 0.34304692863149194, 0.37649358067924693, 0.41320124001153385, 0.4534878508128584, 0.49770235643321115, 0.5462277217684343, 0.5994842503189411, 0.6579332246575682, 0.7220809018385468, 0.7924828983539177, 0.8697490026177834, 0.9545484566618342, 1.0476157527896652, 1.149756995397737, 1.261856883066021, 1.384886371393873, 1.5199110829529348, 1.6681005372000592, 1.8307382802953698, 2.0092330025650478, 2.2051307399030455, 2.4201282647943834, 2.656087782946687, 2.9150530628251787, 3.1992671377973845, 3.5111917342151346, 3.8535285937105312, 4.229242874389499, 4.641588833612782, 5.09413801481638, 5.590810182512229, 6.135907273413176, 6.7341506577508286, 7.390722033525782, 8.111308307896872, 8.902150854450392, 9.770099572992256, 10.722672220103243, 11.768119524349991, 12.91549665014884, 14.174741629268063, 15.556761439304722, 17.07352647470692, 18.73817422860385, 20.565123083486537, 22.570197196339215, 24.770763559917114, 27.185882427329428, 29.836472402833405, 32.745491628777316, 35.938136638046295, 39.4420605943766, 43.287612810830616, 47.50810162102798, 52.140082879996896, 57.223676593502205, 62.802914418342596, 68.92612104349702, 75.64633275546291, 83.02175681319753, 91.11627561154896, 100.0], \"line\": {\"width\": 4, \"color\": \"rgb(22, 96, 167)\"}, \"name\": \"Nt\", \"y\": [0.0, 0.0, 0.0, 0.0, 0.0, 0.0, 0.0, 0.0, 0.0, 0.0, 0.0, 0.0, 0.0, 0.0, 0.0, 0.0, 0.0, 0.0, 0.0, 0.0, 0.0, 0.0, 0.0, 0.0, 0.0, 0.0, 0.0, 0.0, 0.0, 0.0, 0.0, 0.0, 0.0, 0.0, 0.0, 0.0, 0.0, 0.0, 0.0, 0.0, 0.0, 0.0, 0.0, 0.0, 0.0, 0.0, 0.0, 0.0, 0.0, 0.0, 0.0, 0.0, 0.0, 0.0, 0.0, 0.0, 0.0, 0.0, 0.0, 0.0, 0.0, 0.0, 0.0, 0.0, 0.0, 0.0, 0.0, 0.0, 0.0, 0.0, 0.0, 0.0, 0.0, 0.0, 0.0, 0.0, 0.0, 0.0, 0.0, 0.0, 0.0, 0.0, 0.0, 0.0, 0.0, 0.0, 0.0, 0.0, 0.0, 0.0, 0.0, 0.0, 0.0, 0.0, 0.0, 0.0, 0.0, 0.0, 0.0, 0.0]}, {\"type\": \"scatter\", \"x\": [0.01, 0.010974987654930561, 0.012045035402587823, 0.013219411484660288, 0.014508287784959394, 0.015922827933410922, 0.01747528400007684, 0.019179102616724886, 0.02104904144512021, 0.023101297000831605, 0.025353644939701114, 0.027825594022071243, 0.030538555088334154, 0.033516026509388425, 0.03678379771828634, 0.040370172585965536, 0.044306214575838825, 0.04862601580065353, 0.0533669923120631, 0.05857020818056667, 0.06428073117284322, 0.07054802310718646, 0.0774263682681127, 0.08497534359086446, 0.093260334688322, 0.10235310218990264, 0.11233240329780277, 0.12328467394420665, 0.13530477745798075, 0.1484968262254465, 0.16297508346206444, 0.1788649529057435, 0.19630406500402714, 0.21544346900318845, 0.23644894126454083, 0.25950242113997374, 0.2848035868435802, 0.3125715849688237, 0.34304692863149194, 0.37649358067924693, 0.41320124001153385, 0.4534878508128584, 0.49770235643321115, 0.5462277217684343, 0.5994842503189411, 0.6579332246575682, 0.7220809018385468, 0.7924828983539177, 0.8697490026177834, 0.9545484566618342, 1.0476157527896652, 1.149756995397737, 1.261856883066021, 1.384886371393873, 1.5199110829529348, 1.6681005372000592, 1.8307382802953698, 2.0092330025650478, 2.2051307399030455, 2.4201282647943834, 2.656087782946687, 2.9150530628251787, 3.1992671377973845, 3.5111917342151346, 3.8535285937105312, 4.229242874389499, 4.641588833612782, 5.09413801481638, 5.590810182512229, 6.135907273413176, 6.7341506577508286, 7.390722033525782, 8.111308307896872, 8.902150854450392, 9.770099572992256, 10.722672220103243, 11.768119524349991, 12.91549665014884, 14.174741629268063, 15.556761439304722, 17.07352647470692, 18.73817422860385, 20.565123083486537, 22.570197196339215, 24.770763559917114, 27.185882427329428, 29.836472402833405, 32.745491628777316, 35.938136638046295, 39.4420605943766, 43.287612810830616, 47.50810162102798, 52.140082879996896, 57.223676593502205, 62.802914418342596, 68.92612104349702, 75.64633275546291, 83.02175681319753, 91.11627561154896, 100.0], \"line\": {\"dash\": \"dash\", \"width\": 4, \"color\": \"rgb(205, 12, 24)\"}, \"name\": \"pH\", \"y\": [-0.0, -0.0, -0.0, -0.0, -0.0, -0.0, -0.0, -0.0, -0.0, -0.0, -0.0, -0.0, -0.0, -0.0, -0.0, -0.0, -0.0, -0.0, -0.0, -0.0, -0.0, -0.0, -0.0, -0.0, -0.0, -0.0, -0.0, -0.0, -0.0, -0.0, -0.0, -0.0, -0.0, -0.0, -0.0, -0.0, -0.0, -0.0, -0.0, -0.0, -0.0, -0.0, -0.0, -0.0, -0.0, -0.0, -0.0, -0.0, -0.0, -0.0, -0.0, -0.0, -0.0, -0.0, -0.0, -0.0, -0.0, -0.0, -0.0, -0.0, -0.0, -0.0, -0.0, -0.0, -0.0, -0.0, -0.0, -0.0, -0.0, -0.0, -0.0, -0.0, -0.0, -0.0, -0.0, -0.0, -0.0, -0.0, -0.0, -0.0, -0.0, -0.0, -0.0, -0.0, -0.0, -0.0, -0.0, -0.0, -0.0, -0.0, -0.0, -0.0, -0.0, -0.0, -0.0, -0.0, -0.0, -0.0, -0.0, -0.0]}, {\"type\": \"scatter\", \"x\": [0.01, 0.010974987654930561, 0.012045035402587823, 0.013219411484660288, 0.014508287784959394, 0.015922827933410922, 0.01747528400007684, 0.019179102616724886, 0.02104904144512021, 0.023101297000831605, 0.025353644939701114, 0.027825594022071243, 0.030538555088334154, 0.033516026509388425, 0.03678379771828634, 0.040370172585965536, 0.044306214575838825, 0.04862601580065353, 0.0533669923120631, 0.05857020818056667, 0.06428073117284322, 0.07054802310718646, 0.0774263682681127, 0.08497534359086446, 0.093260334688322, 0.10235310218990264, 0.11233240329780277, 0.12328467394420665, 0.13530477745798075, 0.1484968262254465, 0.16297508346206444, 0.1788649529057435, 0.19630406500402714, 0.21544346900318845, 0.23644894126454083, 0.25950242113997374, 0.2848035868435802, 0.3125715849688237, 0.34304692863149194, 0.37649358067924693, 0.41320124001153385, 0.4534878508128584, 0.49770235643321115, 0.5462277217684343, 0.5994842503189411, 0.6579332246575682, 0.7220809018385468, 0.7924828983539177, 0.8697490026177834, 0.9545484566618342, 1.0476157527896652, 1.149756995397737, 1.261856883066021, 1.384886371393873, 1.5199110829529348, 1.6681005372000592, 1.8307382802953698, 2.0092330025650478, 2.2051307399030455, 2.4201282647943834, 2.656087782946687, 2.9150530628251787, 3.1992671377973845, 3.5111917342151346, 3.8535285937105312, 4.229242874389499, 4.641588833612782, 5.09413801481638, 5.590810182512229, 6.135907273413176, 6.7341506577508286, 7.390722033525782, 8.111308307896872, 8.902150854450392, 9.770099572992256, 10.722672220103243, 11.768119524349991, 12.91549665014884, 14.174741629268063, 15.556761439304722, 17.07352647470692, 18.73817422860385, 20.565123083486537, 22.570197196339215, 24.770763559917114, 27.185882427329428, 29.836472402833405, 32.745491628777316, 35.938136638046295, 39.4420605943766, 43.287612810830616, 47.50810162102798, 52.140082879996896, 57.223676593502205, 62.802914418342596, 68.92612104349702, 75.64633275546291, 83.02175681319753, 91.11627561154896, 100.0], \"line\": {\"dash\": \"dash\", \"width\": 4, \"color\": \"rgb(22, 96, 167)\"}, \"name\": \"Petal Count\", \"y\": [-0.0, -0.0, -0.0, -0.0, -0.0, -0.0, -0.0, -0.0, -0.0, -0.0, -0.0, -0.0, -0.0, -0.0, -0.0, -0.0, -0.0, -0.0, -0.0, -0.0, -0.0, -0.0, -0.0, -0.0, -0.0, -0.0, -0.0, -0.0, -0.0, -0.0, -0.0, -0.0, -0.0, -0.0, -0.0, -0.0, -0.0, -0.0, -0.0, -0.0, -0.0, -0.0, -0.0, -0.0, -0.0, -0.0, -0.0, -0.0, -0.0, -0.0, -0.0, -0.0, -0.0, -0.0, -0.0, -0.0, -0.0, -0.0, -0.0, -0.0, -0.0, -0.0, -0.0, -0.0, -0.0, -0.0, -0.0, -0.0, -0.0, -0.0, -0.0, -0.0, -0.0, -0.0, -0.0, -0.0, -0.0, -0.0, -0.0, -0.0, -0.0, -0.0, -0.0, -0.0, -0.0, -0.0, -0.0, -0.0, -0.0, -0.0, -0.0, -0.0, -0.0, -0.0, -0.0, -0.0, -0.0, -0.0, -0.0, -0.0]}, {\"type\": \"scatter\", \"x\": [0.01, 0.010974987654930561, 0.012045035402587823, 0.013219411484660288, 0.014508287784959394, 0.015922827933410922, 0.01747528400007684, 0.019179102616724886, 0.02104904144512021, 0.023101297000831605, 0.025353644939701114, 0.027825594022071243, 0.030538555088334154, 0.033516026509388425, 0.03678379771828634, 0.040370172585965536, 0.044306214575838825, 0.04862601580065353, 0.0533669923120631, 0.05857020818056667, 0.06428073117284322, 0.07054802310718646, 0.0774263682681127, 0.08497534359086446, 0.093260334688322, 0.10235310218990264, 0.11233240329780277, 0.12328467394420665, 0.13530477745798075, 0.1484968262254465, 0.16297508346206444, 0.1788649529057435, 0.19630406500402714, 0.21544346900318845, 0.23644894126454083, 0.25950242113997374, 0.2848035868435802, 0.3125715849688237, 0.34304692863149194, 0.37649358067924693, 0.41320124001153385, 0.4534878508128584, 0.49770235643321115, 0.5462277217684343, 0.5994842503189411, 0.6579332246575682, 0.7220809018385468, 0.7924828983539177, 0.8697490026177834, 0.9545484566618342, 1.0476157527896652, 1.149756995397737, 1.261856883066021, 1.384886371393873, 1.5199110829529348, 1.6681005372000592, 1.8307382802953698, 2.0092330025650478, 2.2051307399030455, 2.4201282647943834, 2.656087782946687, 2.9150530628251787, 3.1992671377973845, 3.5111917342151346, 3.8535285937105312, 4.229242874389499, 4.641588833612782, 5.09413801481638, 5.590810182512229, 6.135907273413176, 6.7341506577508286, 7.390722033525782, 8.111308307896872, 8.902150854450392, 9.770099572992256, 10.722672220103243, 11.768119524349991, 12.91549665014884, 14.174741629268063, 15.556761439304722, 17.07352647470692, 18.73817422860385, 20.565123083486537, 22.570197196339215, 24.770763559917114, 27.185882427329428, 29.836472402833405, 32.745491628777316, 35.938136638046295, 39.4420605943766, 43.287612810830616, 47.50810162102798, 52.140082879996896, 57.223676593502205, 62.802914418342596, 68.92612104349702, 75.64633275546291, 83.02175681319753, 91.11627561154896, 100.0], \"line\": {\"width\": 4, \"color\": \"rgb(200, 80, 140)\"}, \"name\": \"logNt\", \"y\": [0.0, 0.0, 0.0, 0.0, 0.0, 0.0, 0.0, 0.0, 0.0, 0.0, 0.0, 0.0, 0.0, 0.0, 0.0, 0.0, 0.0, 0.0, 0.0, 0.0, 0.0, 0.0, 0.0, 0.0, 0.0, 0.0, 0.0, 0.0, 0.0, 0.0, 0.0, 0.0, 0.0, 0.0, 0.0, 0.0, 0.0, 0.0, 0.0, 0.0, 0.0, 0.0, 0.0, 0.0, 0.0, 0.0, 0.0, 0.0, 0.0, 0.0, 0.0, 0.0, 0.0, 0.0, 0.0, 0.0, 0.0, 0.0, 0.0, 0.0, 0.0, 0.0, 0.0, 0.0, 0.0, 0.0, 0.0, 0.0, 0.0, 0.0, 0.0, 0.0, 0.0, 0.0, 0.0, 0.0, 0.0, 0.0, 0.0, 0.0, 0.0, 0.0, 0.0, 0.0, 0.0, 0.0, 0.0, 0.0, 0.0, 0.0, 0.0, 0.0, 0.0, 0.0, 0.0, 0.0, 0.0, 0.0, 0.0, 0.0]}], {\"xaxis\": {\"title\": \"alpha\"}, \"yaxis\": {\"title\": \"Weights\"}}, {\"showLink\": true, \"linkText\": \"Export to plot.ly\"})});</script>"
      ]
     },
     "metadata": {},
     "output_type": "display_data"
    }
   ],
   "source": [
    "trace0 = go.Scatter(\n",
    "    x = alphas_lasso,\n",
    "    y = df_lasso['N0'],\n",
    "    name = 'N0',\n",
    "    line = dict(\n",
    "        color = ('rgb(205, 12, 24)'),\n",
    "        width = 4)\n",
    ")\n",
    "trace1 = go.Scatter(\n",
    "        x = alphas_lasso,\n",
    "    y = df_lasso['Nt'],\n",
    "    name = 'Nt',\n",
    "    line = dict(\n",
    "        color = ('rgb(22, 96, 167)'),\n",
    "        width = 4,)\n",
    ")\n",
    "trace2 = go.Scatter(\n",
    "    x = alphas_lasso,\n",
    "    y = df_lasso['pH'],\n",
    "    name = 'pH',\n",
    "    line = dict(\n",
    "        color = ('rgb(205, 12, 24)'),\n",
    "        width = 4,\n",
    "        dash = 'dash') \n",
    ")\n",
    "trace3 = go.Scatter(\n",
    "    x = alphas_lasso,\n",
    "    y = df_lasso['PetalCount'],\n",
    "    name = 'Petal Count',\n",
    "    line = dict(\n",
    "        color = ('rgb(22, 96, 167)'),\n",
    "        width = 4,\n",
    "        dash = 'dash')\n",
    ")\n",
    "trace4 = go.Scatter(\n",
    "    x = alphas_lasso,\n",
    "    y = df_lasso['Log(Nt)'],\n",
    "    name = 'logNt',\n",
    "    line = dict(\n",
    "        color = ('rgb(200, 80, 140)'),\n",
    "        width = 4,)\n",
    ")\n",
    "\n",
    "data = [trace0, trace1, trace2, trace3, trace4]\n",
    "\n",
    "layout = dict(xaxis = dict(title = 'alpha'),\n",
    "              yaxis = dict(title = 'Weights'),\n",
    "              )\n",
    "\n",
    "fig = dict(data=data, layout=layout)\n",
    "plot.iplot(fig, filename='lassoRegression.html')\n",
    "\n"
   ]
  },
  {
   "cell_type": "markdown",
   "metadata": {
    "deletable": true,
    "editable": true
   },
   "source": [
    "#### mean square error ####"
   ]
  },
  {
   "cell_type": "code",
   "execution_count": 37,
   "metadata": {
    "collapsed": false,
    "deletable": true,
    "editable": true
   },
   "outputs": [
    {
     "data": {
      "text/plain": [
       "1.8047789770454245e-07"
      ]
     },
     "execution_count": 37,
     "metadata": {},
     "output_type": "execute_result"
    }
   ],
   "source": [
    "lassocv = linear_model.LassoCV(alphas = None, cv = 10, max_iter = 100000, normalize = True)\n",
    "lassocv.fit(X_train, Y_train.Age)\n",
    "lasso.set_params(alpha = lassocv.alpha_)\n",
    "lasso.fit(X_train, Y_train.Age)\n",
    "mean_squared_error(Y_test.Age, lassocv.predict(X_test))"
   ]
  },
  {
   "cell_type": "markdown",
   "metadata": {
    "deletable": true,
    "editable": true
   },
   "source": [
    "#### Final coefficients ####"
   ]
  },
  {
   "cell_type": "code",
   "execution_count": 38,
   "metadata": {
    "collapsed": false,
    "deletable": true,
    "editable": true
   },
   "outputs": [
    {
     "data": {
      "text/plain": [
       "N0            0.000000\n",
       "Nt            0.000000\n",
       "pH           -0.000000\n",
       "PetalCount   -0.000000\n",
       "Log(Nt)       0.006194\n",
       "dtype: float64"
      ]
     },
     "execution_count": 38,
     "metadata": {},
     "output_type": "execute_result"
    }
   ],
   "source": [
    "# Some of the coefficients are now reduced to exactly zero.\n",
    "pd.Series(lasso.coef_, index = X_test.columns)"
   ]
  },
  {
   "cell_type": "markdown",
   "metadata": {
    "deletable": true,
    "editable": true
   },
   "source": [
    "Since Log(Nt) dominating as compared to the rest of the features, now we'll finally select these features and do the ols model for the same"
   ]
  },
  {
   "cell_type": "markdown",
   "metadata": {
    "deletable": true,
    "editable": true
   },
   "source": [
    "## OLS Model ##"
   ]
  },
  {
   "cell_type": "code",
   "execution_count": 39,
   "metadata": {
    "collapsed": false,
    "deletable": true,
    "editable": true
   },
   "outputs": [
    {
     "name": "stdout",
     "output_type": "stream",
     "text": [
      "                            OLS Regression Results                            \n",
      "==============================================================================\n",
      "Dep. Variable:                    Age   R-squared:                       0.694\n",
      "Model:                            OLS   Adj. R-squared:                  0.690\n",
      "Method:                 Least Squares   F-statistic:                     176.5\n",
      "Date:                Sun, 02 Apr 2017   Prob (F-statistic):           9.96e-22\n",
      "Time:                        19:50:05   Log-Likelihood:                 289.52\n",
      "No. Observations:                  80   AIC:                            -575.0\n",
      "Df Residuals:                      78   BIC:                            -570.3\n",
      "Df Model:                           1                                         \n",
      "Covariance Type:            nonrobust                                         \n",
      "==============================================================================\n",
      "                 coef    std err          t      P>|t|      [0.025      0.975]\n",
      "------------------------------------------------------------------------------\n",
      "Intercept      0.0210      0.001     25.150      0.000       0.019       0.023\n",
      "np.log(Nt)     0.0104      0.001     13.287      0.000       0.009       0.012\n",
      "==============================================================================\n",
      "Omnibus:                       68.642   Durbin-Watson:                   1.953\n",
      "Prob(Omnibus):                  0.000   Jarque-Bera (JB):              431.749\n",
      "Skew:                           2.654   Prob(JB):                     1.77e-94\n",
      "Kurtosis:                      13.067   Cond. No.                         1.68\n",
      "==============================================================================\n",
      "\n",
      "Warnings:\n",
      "[1] Standard Errors assume that the covariance matrix of the errors is correctly specified.\n"
     ]
    }
   ],
   "source": [
    "ols_improved = sm.ols(formula = \"Age ~ np.log(Nt)\", data = regressions[:80]).fit()\n",
    "print (ols_improved.summary())"
   ]
  },
  {
   "cell_type": "markdown",
   "metadata": {
    "deletable": true,
    "editable": true
   },
   "source": [
    "#### rmse value ####"
   ]
  },
  {
   "cell_type": "code",
   "execution_count": 40,
   "metadata": {
    "collapsed": false,
    "deletable": true,
    "editable": true
   },
   "outputs": [
    {
     "data": {
      "text/plain": [
       "0.007353303199791"
      ]
     },
     "execution_count": 40,
     "metadata": {},
     "output_type": "execute_result"
    }
   ],
   "source": [
    "Predict_improved = ols_improved.predict(X_test)\n",
    "rmse_improved = np.mean((Y_test.Age - Predict_improved) ** 2) ** (0.5)\n",
    "rmse_improved"
   ]
  },
  {
   "cell_type": "markdown",
   "metadata": {
    "deletable": true,
    "editable": true
   },
   "source": [
    "#### Box plot ####"
   ]
  },
  {
   "cell_type": "code",
   "execution_count": 41,
   "metadata": {
    "collapsed": false,
    "deletable": true,
    "editable": true
   },
   "outputs": [
    {
     "data": {
      "image/png": "[encoded data removed]",
      "text/plain": [
       "<matplotlib.figure.Figure at 0x7f43ac6904a8>"
      ]
     },
     "metadata": {},
     "output_type": "display_data"
    }
   ],
   "source": [
    "residual_improved  = np.array(Predict_improved - Y_test.Age)\n",
    "plt.boxplot(residual_improved)\n",
    "plt.show()"
   ]
  },
  {
   "cell_type": "markdown",
   "metadata": {
    "deletable": true,
    "editable": true
   },
   "source": [
    "#### Predicted vs actual age ####"
   ]
  },
  {
   "cell_type": "code",
   "execution_count": 42,
   "metadata": {
    "collapsed": false,
    "deletable": true,
    "editable": true
   },
   "outputs": [
    {
     "data": {
      "application/vnd.plotly.v1+json": {
       "data": [
        {
         "line": {
          "shape": "linear"
         },
         "mode": "markers",
         "name": "PREDICTED VS ORIGINAL",
         "type": "scatter",
         "x": [
          0.018691410216753433,
          0.010931564638039987,
          0.015252504507316583,
          0.01554412418376197,
          0.005910164923748271,
          0.01526503711360519,
          0.022323646710214206,
          0.015370361278879748,
          0.007063351063451654,
          0.02270664481746741,
          0.021046209038321217,
          0.006271439716338863,
          0.022159184285898664,
          0.010449348551180248,
          -0.00962227174520363,
          0.027648723976281066,
          0.014431423063166478,
          0.011570743464097857,
          0.027186094151694,
          0.023883460540564175
         ],
         "y": [
          0.013068180772268862,
          0.009126692287463885,
          0.008069768259908915,
          0.012588176326449419,
          0.002219588705668416,
          0.007965222899081616,
          0.02118287372937729,
          0.008592438336671044,
          0.0016995288287991177,
          0.021287976274264844,
          0.018843579830444948,
          0.006905778681146669,
          0.021904694999667674,
          0.0035349011481469097,
          0.0016788465842374211,
          0.04628056275099461,
          0.012171294993435413,
          0.00450080890661749,
          0.042957886794955276,
          0.02695766093526712
         ]
        },
        {
         "line": {
          "shape": "linear"
         },
         "mode": "lines",
         "name": "x = y",
         "type": "scatter",
         "x": [
          0.013068180772268862,
          0.009126692287463885,
          0.008069768259908915,
          0.012588176326449419,
          0.002219588705668416,
          0.007965222899081616,
          0.02118287372937729,
          0.008592438336671044,
          0.0016995288287991177,
          0.021287976274264844,
          0.018843579830444948,
          0.006905778681146669,
          0.021904694999667674,
          0.0035349011481469097,
          0.0016788465842374211,
          0.04628056275099461,
          0.012171294993435413,
          0.00450080890661749,
          0.042957886794955276,
          0.02695766093526712
         ],
         "y": [
          0.013068180772268862,
          0.009126692287463885,
          0.008069768259908915,
          0.012588176326449419,
          0.002219588705668416,
          0.007965222899081616,
          0.02118287372937729,
          0.008592438336671044,
          0.0016995288287991177,
          0.021287976274264844,
          0.018843579830444948,
          0.006905778681146669,
          0.021904694999667674,
          0.0035349011481469097,
          0.0016788465842374211,
          0.04628056275099461,
          0.012171294993435413,
          0.00450080890661749,
          0.042957886794955276,
          0.02695766093526712
         ]
        }
       ],
       "layout": {
        "legend": {
         "font": {
          "size": 16
         },
         "traceorder": "reversed"
        },
        "title": "PREDICTED VS ORIGINAL",
        "xaxis": {
         "title": "ORIGINAL VALUE"
        },
        "yaxis": {
         "title": "PREDICTED VALUE"
        }
       }
      },
      "text/html": [
       "<div id=\"4c6c2d96-0c69-4714-8e83-fea08ea18938\" style=\"height: 525px; width: 100%;\" class=\"plotly-graph-div\"></div><script type=\"text/javascript\">require([\"plotly\"], function(Plotly) { window.PLOTLYENV=window.PLOTLYENV || {};window.PLOTLYENV.BASE_URL=\"https://plot.ly\";Plotly.newPlot(\"4c6c2d96-0c69-4714-8e83-fea08ea18938\", [{\"x\": [0.018691410216753433, 0.010931564638039987, 0.015252504507316583, 0.01554412418376197, 0.005910164923748271, 0.01526503711360519, 0.022323646710214206, 0.015370361278879748, 0.007063351063451654, 0.02270664481746741, 0.021046209038321217, 0.006271439716338863, 0.022159184285898664, 0.010449348551180248, -0.00962227174520363, 0.027648723976281066, 0.014431423063166478, 0.011570743464097857, 0.027186094151694, 0.023883460540564175], \"line\": {\"shape\": \"linear\"}, \"name\": \"PREDICTED VS ORIGINAL\", \"mode\": \"markers\", \"y\": [0.013068180772268862, 0.009126692287463885, 0.008069768259908915, 0.012588176326449419, 0.002219588705668416, 0.007965222899081616, 0.02118287372937729, 0.008592438336671044, 0.0016995288287991177, 0.021287976274264844, 0.018843579830444948, 0.006905778681146669, 0.021904694999667674, 0.0035349011481469097, 0.0016788465842374211, 0.04628056275099461, 0.012171294993435413, 0.00450080890661749, 0.042957886794955276, 0.02695766093526712], \"type\": \"scatter\"}, {\"x\": [0.013068180772268862, 0.009126692287463885, 0.008069768259908915, 0.012588176326449419, 0.002219588705668416, 0.007965222899081616, 0.02118287372937729, 0.008592438336671044, 0.0016995288287991177, 0.021287976274264844, 0.018843579830444948, 0.006905778681146669, 0.021904694999667674, 0.0035349011481469097, 0.0016788465842374211, 0.04628056275099461, 0.012171294993435413, 0.00450080890661749, 0.042957886794955276, 0.02695766093526712], \"line\": {\"shape\": \"linear\"}, \"name\": \"x = y\", \"mode\": \"lines\", \"y\": [0.013068180772268862, 0.009126692287463885, 0.008069768259908915, 0.012588176326449419, 0.002219588705668416, 0.007965222899081616, 0.02118287372937729, 0.008592438336671044, 0.0016995288287991177, 0.021287976274264844, 0.018843579830444948, 0.006905778681146669, 0.021904694999667674, 0.0035349011481469097, 0.0016788465842374211, 0.04628056275099461, 0.012171294993435413, 0.00450080890661749, 0.042957886794955276, 0.02695766093526712], \"type\": \"scatter\"}], {\"xaxis\": {\"title\": \"ORIGINAL VALUE\"}, \"yaxis\": {\"title\": \"PREDICTED VALUE\"}, \"title\": \"PREDICTED VS ORIGINAL\", \"legend\": {\"traceorder\": \"reversed\", \"font\": {\"size\": 16}}}, {\"showLink\": true, \"linkText\": \"Export to plot.ly\"})});</script>"
      ],
      "text/vnd.plotly.v1+html": [
       "<div id=\"4c6c2d96-0c69-4714-8e83-fea08ea18938\" style=\"height: 525px; width: 100%;\" class=\"plotly-graph-div\"></div><script type=\"text/javascript\">require([\"plotly\"], function(Plotly) { window.PLOTLYENV=window.PLOTLYENV || {};window.PLOTLYENV.BASE_URL=\"https://plot.ly\";Plotly.newPlot(\"4c6c2d96-0c69-4714-8e83-fea08ea18938\", [{\"x\": [0.018691410216753433, 0.010931564638039987, 0.015252504507316583, 0.01554412418376197, 0.005910164923748271, 0.01526503711360519, 0.022323646710214206, 0.015370361278879748, 0.007063351063451654, 0.02270664481746741, 0.021046209038321217, 0.006271439716338863, 0.022159184285898664, 0.010449348551180248, -0.00962227174520363, 0.027648723976281066, 0.014431423063166478, 0.011570743464097857, 0.027186094151694, 0.023883460540564175], \"line\": {\"shape\": \"linear\"}, \"name\": \"PREDICTED VS ORIGINAL\", \"mode\": \"markers\", \"y\": [0.013068180772268862, 0.009126692287463885, 0.008069768259908915, 0.012588176326449419, 0.002219588705668416, 0.007965222899081616, 0.02118287372937729, 0.008592438336671044, 0.0016995288287991177, 0.021287976274264844, 0.018843579830444948, 0.006905778681146669, 0.021904694999667674, 0.0035349011481469097, 0.0016788465842374211, 0.04628056275099461, 0.012171294993435413, 0.00450080890661749, 0.042957886794955276, 0.02695766093526712], \"type\": \"scatter\"}, {\"x\": [0.013068180772268862, 0.009126692287463885, 0.008069768259908915, 0.012588176326449419, 0.002219588705668416, 0.007965222899081616, 0.02118287372937729, 0.008592438336671044, 0.0016995288287991177, 0.021287976274264844, 0.018843579830444948, 0.006905778681146669, 0.021904694999667674, 0.0035349011481469097, 0.0016788465842374211, 0.04628056275099461, 0.012171294993435413, 0.00450080890661749, 0.042957886794955276, 0.02695766093526712], \"line\": {\"shape\": \"linear\"}, \"name\": \"x = y\", \"mode\": \"lines\", \"y\": [0.013068180772268862, 0.009126692287463885, 0.008069768259908915, 0.012588176326449419, 0.002219588705668416, 0.007965222899081616, 0.02118287372937729, 0.008592438336671044, 0.0016995288287991177, 0.021287976274264844, 0.018843579830444948, 0.006905778681146669, 0.021904694999667674, 0.0035349011481469097, 0.0016788465842374211, 0.04628056275099461, 0.012171294993435413, 0.00450080890661749, 0.042957886794955276, 0.02695766093526712], \"type\": \"scatter\"}], {\"xaxis\": {\"title\": \"ORIGINAL VALUE\"}, \"yaxis\": {\"title\": \"PREDICTED VALUE\"}, \"title\": \"PREDICTED VS ORIGINAL\", \"legend\": {\"traceorder\": \"reversed\", \"font\": {\"size\": 16}}}, {\"showLink\": true, \"linkText\": \"Export to plot.ly\"})});</script>"
      ]
     },
     "metadata": {},
     "output_type": "display_data"
    }
   ],
   "source": [
    "trace1 = go.Scatter(\n",
    "    x = Predict_improved,\n",
    "    y = Y_test.Age,\n",
    "    mode = 'markers',\n",
    "    name = 'PREDICTED VS ORIGINAL',\n",
    "    line = dict(shape = 'linear')\n",
    ")\n",
    "trace2 = go.Scatter(\n",
    "    x = Y_test.Age,\n",
    "    y = Y_test.Age,\n",
    "    mode = 'lines',\n",
    "    name = 'x = y',\n",
    "    line = dict(shape = 'linear')\n",
    ")\n",
    "data = [trace1, trace2]\n",
    "layout = dict(\n",
    "    title = 'PREDICTED VS ORIGINAL',\n",
    "    yaxis = dict(\n",
    "        title = 'PREDICTED VALUE'\n",
    "    ),\n",
    "    xaxis = dict(\n",
    "        title = 'ORIGINAL VALUE'\n",
    "    ),\n",
    "    legend = dict(\n",
    "        traceorder = 'reversed',\n",
    "        font = dict(size = 16)\n",
    "    )\n",
    ")\n",
    "fig = dict(data = data, layout = layout)\n",
    "plot.iplot(fig, filename = 'SCATTER PLOT FOR OLS')\n"
   ]
  },
  {
   "cell_type": "markdown",
   "metadata": {
    "deletable": true,
    "editable": true
   },
   "source": [
    "#### Residual plot Histogram ####"
   ]
  },
  {
   "cell_type": "code",
   "execution_count": 43,
   "metadata": {
    "collapsed": false,
    "deletable": true,
    "editable": true
   },
   "outputs": [
    {
     "data": {
      "image/png": "[encoded data removed]",
      "text/plain": [
       "<matplotlib.figure.Figure at 0x7f43ae0fa1d0>"
      ]
     },
     "metadata": {},
     "output_type": "display_data"
    }
   ],
   "source": [
    "plt.hist(residual_improved, bins = 4)\n",
    "plt.show()"
   ]
  },
  {
   "cell_type": "markdown",
   "metadata": {
    "deletable": true,
    "editable": true
   },
   "source": [
    "#### Goldfeld Quandt Test ####"
   ]
  },
  {
   "cell_type": "code",
   "execution_count": 44,
   "metadata": {
    "collapsed": false,
    "deletable": true,
    "editable": true
   },
   "outputs": [
    {
     "data": {
      "text/plain": [
       "[('F statistics', 0.2569201175632726), ('p_value', 0.99997050863259562)]"
      ]
     },
     "execution_count": 44,
     "metadata": {},
     "output_type": "execute_result"
    }
   ],
   "source": [
    "name = ['F statistics', 'p_value']\n",
    "test = sms.het_goldfeldquandt(ols_improved.resid, ols_improved.model.exog)\n",
    "list(zip(name, test))"
   ]
  },
  {
   "cell_type": "code",
   "execution_count": null,
   "metadata": {
    "collapsed": true,
    "deletable": true,
    "editable": true
   },
   "outputs": [],
   "source": []
  }
 ],
 "metadata": {
  "kernelspec": {
   "display_name": "Python 3",
   "language": "python",
   "name": "python3"
  },
  "language_info": {
   "codemirror_mode": {
    "name": "ipython",
    "version": 3
   },
   "file_extension": ".py",
   "mimetype": "text/x-python",
   "name": "python",
   "nbconvert_exporter": "python",
   "pygments_lexer": "ipython3",
   "version": "3.5.2"
  }
 },
 "nbformat": 4,
 "nbformat_minor": 2
}
